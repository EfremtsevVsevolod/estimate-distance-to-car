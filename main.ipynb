{
 "cells": [
  {
   "cell_type": "markdown",
   "metadata": {
    "id": "qu3iGe_3AMco"
   },
   "source": [
    "## Load data"
   ]
  },
  {
   "cell_type": "code",
   "execution_count": 244,
   "metadata": {
    "id": "NpQt4Gg6-cFU"
   },
   "outputs": [],
   "source": [
    "import os\n",
    "import sys\n",
    "import cv2\n",
    "import torch\n",
    "import fileinput\n",
    "\n",
    "import pandas as pd\n",
    "import numpy as np\n",
    "import plotly.express as px\n",
    "import matplotlib.pyplot as plt\n",
    "%matplotlib inline\n",
    "\n",
    "from PIL import Image, ImageFile\n",
    "ImageFile.LOAD_TRUNCATED_IMAGES = True\n",
    "\n",
    "from time import sleep\n",
    "from copy import deepcopy\n",
    "from tqdm.notebook import tqdm\n",
    "\n",
    "from pillow_heif import register_heif_opener\n",
    "register_heif_opener()"
   ]
  },
  {
   "cell_type": "code",
   "execution_count": 245,
   "metadata": {
    "colab": {
     "base_uri": "https://localhost:8080/",
     "height": 260
    },
    "id": "Le2EhNpP-EUa",
    "outputId": "fd29c722-191c-4572-9b7f-9c4c4bf5c22f"
   },
   "outputs": [
    {
     "name": "stdout",
     "output_type": "stream",
     "text": [
      "N train_img_names: 530\n",
      "N test_img_names: 521\n",
      "\n"
     ]
    },
    {
     "data": {
      "text/html": [
       "<div>\n",
       "<style scoped>\n",
       "    .dataframe tbody tr th:only-of-type {\n",
       "        vertical-align: middle;\n",
       "    }\n",
       "\n",
       "    .dataframe tbody tr th {\n",
       "        vertical-align: top;\n",
       "    }\n",
       "\n",
       "    .dataframe thead th {\n",
       "        text-align: right;\n",
       "    }\n",
       "</style>\n",
       "<table border=\"1\" class=\"dataframe\">\n",
       "  <thead>\n",
       "    <tr style=\"text-align: right;\">\n",
       "      <th></th>\n",
       "      <th>image_name</th>\n",
       "      <th>distance</th>\n",
       "    </tr>\n",
       "  </thead>\n",
       "  <tbody>\n",
       "    <tr>\n",
       "      <th>0</th>\n",
       "      <td>img_1596.jpg</td>\n",
       "      <td>4.88</td>\n",
       "    </tr>\n",
       "    <tr>\n",
       "      <th>1</th>\n",
       "      <td>img_1600.jpg</td>\n",
       "      <td>1.54</td>\n",
       "    </tr>\n",
       "    <tr>\n",
       "      <th>2</th>\n",
       "      <td>img_1601.jpg</td>\n",
       "      <td>3.68</td>\n",
       "    </tr>\n",
       "    <tr>\n",
       "      <th>3</th>\n",
       "      <td>img_1603.jpg</td>\n",
       "      <td>2.22</td>\n",
       "    </tr>\n",
       "    <tr>\n",
       "      <th>4</th>\n",
       "      <td>img_1605.jpg</td>\n",
       "      <td>3.73</td>\n",
       "    </tr>\n",
       "  </tbody>\n",
       "</table>\n",
       "</div>"
      ],
      "text/plain": [
       "     image_name  distance\n",
       "0  img_1596.jpg      4.88\n",
       "1  img_1600.jpg      1.54\n",
       "2  img_1601.jpg      3.68\n",
       "3  img_1603.jpg      2.22\n",
       "4  img_1605.jpg      3.73"
      ]
     },
     "execution_count": 245,
     "metadata": {},
     "output_type": "execute_result"
    }
   ],
   "source": [
    "train_img_names = list(sorted(os.listdir('train')))\n",
    "test_img_names = list(sorted(os.listdir('test')))\n",
    "\n",
    "print(f'N train_img_names: {len(train_img_names)}')\n",
    "print(f'N test_img_names: {len(test_img_names)}\\n')\n",
    "\n",
    "train_labels_df = pd.read_csv('train.csv', sep=';', index_col=None)\n",
    "train_labels_df.head()"
   ]
  },
  {
   "cell_type": "markdown",
   "metadata": {
    "id": "z73Th-EpDGD6"
   },
   "source": [
    "## ANPR Recognition"
   ]
  },
  {
   "cell_type": "code",
   "execution_count": 246,
   "metadata": {
    "id": "RZtk2J2gMd5T"
   },
   "outputs": [],
   "source": [
    "def prepend_text(filename, text):\n",
    "    with fileinput.input(filename, inplace=True) as file:\n",
    "        for line in file:\n",
    "            if file.isfirstline():\n",
    "                print(text)\n",
    "            print(line, end=\"\")"
   ]
  },
  {
   "cell_type": "code",
   "execution_count": 247,
   "metadata": {
    "id": "3ZE93x1zAEna"
   },
   "outputs": [],
   "source": [
    "if not os.path.isfile('weights.pt'):\n",
    "    weights_url = 'https://archive.org/download/anpr_weights/weights.pt'\n",
    "    os.system(f'wget {weights_url}')\n",
    "\n",
    "if not os.path.isdir('yolov7'):\n",
    "    yolov7_repo_url = 'https://github.com/WongKinYiu/yolov7'\n",
    "    os.system(f'git clone {yolov7_repo_url}')\n",
    "    \n",
    "    # Fix import errors\n",
    "    for file in ['yolov7/models/common.py', 'yolov7/models/experimental.py',\n",
    "                 'yolov7/models/yolo.py', 'yolov7/utils/datasets.py']:\n",
    "            prepend_text(file, \"import sys\\nsys.path.insert(0, './yolov7')\")"
   ]
  },
  {
   "cell_type": "code",
   "execution_count": 248,
   "metadata": {
    "id": "BLL_X7-jC__M"
   },
   "outputs": [],
   "source": [
    "from yolov7.models.experimental import attempt_load\n",
    "from yolov7.utils.general import check_img_size\n",
    "from yolov7.utils.torch_utils import select_device, TracedModel\n",
    "from yolov7.utils.datasets import letterbox\n",
    "from yolov7.utils.general import non_max_suppression, scale_coords\n",
    "from yolov7.utils.plots import plot_one_box"
   ]
  },
  {
   "cell_type": "code",
   "execution_count": 250,
   "metadata": {
    "id": "8l6Krt9K-V6T"
   },
   "outputs": [],
   "source": [
    "def load_img(folder, img_name, crop=False):\n",
    "    img = Image.open(os.path.join(folder, img_name))\n",
    "    return img"
   ]
  },
  {
   "cell_type": "code",
   "execution_count": 251,
   "metadata": {
    "colab": {
     "base_uri": "https://localhost:8080/"
    },
    "id": "JDxy5v87Gozd",
    "outputId": "b7c81228-f7f6-4feb-d979-dbb3dfb8a357"
   },
   "outputs": [
    {
     "name": "stdout",
     "output_type": "stream",
     "text": [
      "Fusing layers... \n",
      "RepConv.fuse_repvgg_block\n",
      "RepConv.fuse_repvgg_block\n",
      "RepConv.fuse_repvgg_block\n",
      "IDetect.fuse\n",
      " Convert model to Traced-model... \n",
      " traced_script_module saved! \n",
      " model is traced! \n",
      "\n"
     ]
    }
   ],
   "source": [
    "weights = 'weights.pt'\n",
    "image_size = 640\n",
    "trace = True\n",
    "\n",
    "anpr_model = attempt_load(weights)\n",
    "stride = int(anpr_model.stride.max())\n",
    "imgsz = check_img_size(image_size, s=stride)\n",
    "\n",
    "if trace:\n",
    "    anpr_model = TracedModel(anpr_model, img_size=image_size)\n",
    "\n",
    "anpr_model.eval();"
   ]
  },
  {
   "cell_type": "code",
   "execution_count": 252,
   "metadata": {
    "id": "6WOXL9VRPPua"
   },
   "outputs": [],
   "source": [
    "def detect_plate(img):\n",
    "    img = img[:, :, ::-1].transpose(2, 0, 1)  # BGR to RGB, to 3x416x416\n",
    "    img = np.ascontiguousarray(img)\n",
    "\n",
    "    img = torch.from_numpy(img).float()\n",
    "    img /= 255.0\n",
    "\n",
    "    if img.ndimension() == 3:\n",
    "        img = img.unsqueeze(0)\n",
    "        \n",
    "    with torch.no_grad():\n",
    "        pred = anpr_model(img, augment=True)[0]\n",
    "\n",
    "    pred = non_max_suppression(pred, 0.25, 0.45, classes=0, agnostic=True)\n",
    "\n",
    "    plate_detections = []\n",
    "    det_confidences = []\n",
    "\n",
    "    for i, det in enumerate(pred):\n",
    "        if len(det) > 0:\n",
    "            for *xyxy, conf, cls in reversed(det):\n",
    "                coords = [position for position in (torch.tensor(xyxy).view(1, 4)).tolist()[0]]\n",
    "                plate_detections.append(coords)\n",
    "                det_confidences.append(conf.item())\n",
    "\n",
    "    return plate_detections, det_confidences\n",
    "\n",
    "\n",
    "def crop(image, coord):\n",
    "    return image[int(coord[1]):int(coord[3]), int(coord[0]):int(coord[2])]"
   ]
  },
  {
   "cell_type": "code",
   "execution_count": 253,
   "metadata": {
    "id": "w5SYFJ1g-g_K"
   },
   "outputs": [],
   "source": [
    "def process_img(source_image):\n",
    "    img = np.array(source_image)\n",
    "    img = letterbox(img, new_shape=640)[0]\n",
    "    return img\n",
    "\n",
    "\n",
    "def bbox_x_distance_to_center(bbox, img_size):\n",
    "    img_x_center = img_size[1] // 2\n",
    "    x0 = float(bbox[0])\n",
    "    x1 = float(bbox[2])\n",
    "    bbox_x_center = np.abs(x0 + x1) / 2\n",
    "    return np.abs(bbox_x_center - img_x_center)\n",
    "\n",
    "\n",
    "def filter_pn(detections):\n",
    "    def get_shape_rate(det):\n",
    "        return (det[3] - det[1]) / (det[2] - det[0])\n",
    "    \n",
    "    min_shape_rate = 0.1\n",
    "    max_shape_rate = 0.5\n",
    "    \n",
    "    return [det for det in detections if min_shape_rate < get_shape_rate(det) < max_shape_rate]\n",
    "\n",
    "\n",
    "def collect_data(folder, img_names, draw_bbox):\n",
    "    data = []\n",
    "\n",
    "    for i, img_name in tqdm(enumerate(img_names), total=len(img_names)):\n",
    "        img = load_img(folder, img_name)\n",
    "        img = process_img(img)\n",
    "        img = np.array(img)\n",
    "        \n",
    "        plate_detections, _ = detect_plate(img)\n",
    "        plate_detections = filter_pn(plate_detections)\n",
    "\n",
    "        if len(plate_detections) > 0:\n",
    "            plate_distances = [bbox_x_distance_to_center(det, img.shape) for det in plate_detections]\n",
    "            central_detection_index = np.argmin(plate_distances)\n",
    "            central_detection = plate_detections[central_detection_index]\n",
    "            central_dist = plate_distances[central_detection_index]\n",
    "\n",
    "            data.append([img_name] + central_detection + [central_dist])\n",
    "\n",
    "            if draw_bbox:\n",
    "                detected_image = deepcopy(img)\n",
    "\n",
    "                for j, coords in enumerate(plate_detections):\n",
    "                    plate_region = crop(img, coords)\n",
    "                    color = [0, 255, 0] if j == central_detection_index else [255, 0, 0]\n",
    "                    plot_one_box(coords, detected_image, color=color, line_thickness=2)\n",
    "\n",
    "                print(f'\\n{i:3} {img_name}')\n",
    "                detected_image = Image.fromarray(detected_image)\n",
    "                detected_image.thumbnail((640, 640))\n",
    "                display(detected_image)\n",
    "        else:\n",
    "            print(f'Skip {img_name}!')\n",
    "\n",
    "    return data"
   ]
  },
  {
   "cell_type": "code",
   "execution_count": 255,
   "metadata": {
    "colab": {
     "base_uri": "https://localhost:8080/",
     "height": 242
    },
    "id": "VzgDNo5nY058",
    "outputId": "39b2c006-ac06-46d8-f2ff-e25bed1bf2b7",
    "scrolled": true
   },
   "outputs": [
    {
     "name": "stdout",
     "output_type": "stream",
     "text": [
      "(530, 7) \n",
      "\n"
     ]
    },
    {
     "data": {
      "text/html": [
       "<div>\n",
       "<style scoped>\n",
       "    .dataframe tbody tr th:only-of-type {\n",
       "        vertical-align: middle;\n",
       "    }\n",
       "\n",
       "    .dataframe tbody tr th {\n",
       "        vertical-align: top;\n",
       "    }\n",
       "\n",
       "    .dataframe thead th {\n",
       "        text-align: right;\n",
       "    }\n",
       "</style>\n",
       "<table border=\"1\" class=\"dataframe\">\n",
       "  <thead>\n",
       "    <tr style=\"text-align: right;\">\n",
       "      <th></th>\n",
       "      <th>image_name</th>\n",
       "      <th>distance</th>\n",
       "      <th>x_min</th>\n",
       "      <th>y_min</th>\n",
       "      <th>x_max</th>\n",
       "      <th>y_max</th>\n",
       "      <th>dist_to_img_center</th>\n",
       "    </tr>\n",
       "  </thead>\n",
       "  <tbody>\n",
       "    <tr>\n",
       "      <th>0</th>\n",
       "      <td>img_1596.jpg</td>\n",
       "      <td>4.88</td>\n",
       "      <td>298.081146</td>\n",
       "      <td>249.757065</td>\n",
       "      <td>331.676788</td>\n",
       "      <td>257.230896</td>\n",
       "      <td>5.121033</td>\n",
       "    </tr>\n",
       "    <tr>\n",
       "      <th>1</th>\n",
       "      <td>img_1600.jpg</td>\n",
       "      <td>1.54</td>\n",
       "      <td>274.941132</td>\n",
       "      <td>395.858215</td>\n",
       "      <td>388.316193</td>\n",
       "      <td>424.732483</td>\n",
       "      <td>11.628662</td>\n",
       "    </tr>\n",
       "    <tr>\n",
       "      <th>2</th>\n",
       "      <td>img_1601.jpg</td>\n",
       "      <td>3.68</td>\n",
       "      <td>296.848663</td>\n",
       "      <td>261.417969</td>\n",
       "      <td>341.544037</td>\n",
       "      <td>272.219177</td>\n",
       "      <td>0.803650</td>\n",
       "    </tr>\n",
       "    <tr>\n",
       "      <th>3</th>\n",
       "      <td>img_1603.jpg</td>\n",
       "      <td>2.22</td>\n",
       "      <td>280.478424</td>\n",
       "      <td>285.119354</td>\n",
       "      <td>356.873322</td>\n",
       "      <td>302.688934</td>\n",
       "      <td>1.324127</td>\n",
       "    </tr>\n",
       "    <tr>\n",
       "      <th>4</th>\n",
       "      <td>img_1605.jpg</td>\n",
       "      <td>3.73</td>\n",
       "      <td>301.993469</td>\n",
       "      <td>246.655518</td>\n",
       "      <td>347.841797</td>\n",
       "      <td>257.757568</td>\n",
       "      <td>4.917633</td>\n",
       "    </tr>\n",
       "  </tbody>\n",
       "</table>\n",
       "</div>"
      ],
      "text/plain": [
       "     image_name  distance       x_min       y_min       x_max       y_max  \\\n",
       "0  img_1596.jpg      4.88  298.081146  249.757065  331.676788  257.230896   \n",
       "1  img_1600.jpg      1.54  274.941132  395.858215  388.316193  424.732483   \n",
       "2  img_1601.jpg      3.68  296.848663  261.417969  341.544037  272.219177   \n",
       "3  img_1603.jpg      2.22  280.478424  285.119354  356.873322  302.688934   \n",
       "4  img_1605.jpg      3.73  301.993469  246.655518  347.841797  257.757568   \n",
       "\n",
       "   dist_to_img_center  \n",
       "0            5.121033  \n",
       "1           11.628662  \n",
       "2            0.803650  \n",
       "3            1.324127  \n",
       "4            4.917633  "
      ]
     },
     "execution_count": 255,
     "metadata": {},
     "output_type": "execute_result"
    }
   ],
   "source": [
    "train_data = collect_data('train', train_img_names, draw_bbox=False)\n",
    "train_data_df = pd.DataFrame(train_data, columns=[\n",
    "    'image_name', 'x_min', 'y_min', 'x_max', 'y_max', 'dist_to_img_center'\n",
    "])\n",
    "\n",
    "train_data_df = pd.merge(train_labels_df, train_data_df, how='right', on='image_name')  # right !!!\n",
    "\n",
    "print(train_data_df.shape, '\\n')\n",
    "train_data_df.head()"
   ]
  },
  {
   "cell_type": "code",
   "execution_count": 257,
   "metadata": {
    "colab": {
     "base_uri": "https://localhost:8080/",
     "height": 242
    },
    "id": "KNaaDhkiOWVE",
    "outputId": "b6341c50-c89b-439e-aa1e-35b94af2a375",
    "scrolled": false
   },
   "outputs": [
    {
     "name": "stdout",
     "output_type": "stream",
     "text": [
      "(520, 6) \n",
      "\n"
     ]
    },
    {
     "data": {
      "text/html": [
       "<div>\n",
       "<style scoped>\n",
       "    .dataframe tbody tr th:only-of-type {\n",
       "        vertical-align: middle;\n",
       "    }\n",
       "\n",
       "    .dataframe tbody tr th {\n",
       "        vertical-align: top;\n",
       "    }\n",
       "\n",
       "    .dataframe thead th {\n",
       "        text-align: right;\n",
       "    }\n",
       "</style>\n",
       "<table border=\"1\" class=\"dataframe\">\n",
       "  <thead>\n",
       "    <tr style=\"text-align: right;\">\n",
       "      <th></th>\n",
       "      <th>image_name</th>\n",
       "      <th>x_min</th>\n",
       "      <th>y_min</th>\n",
       "      <th>x_max</th>\n",
       "      <th>y_max</th>\n",
       "      <th>dist_to_img_center</th>\n",
       "    </tr>\n",
       "  </thead>\n",
       "  <tbody>\n",
       "    <tr>\n",
       "      <th>0</th>\n",
       "      <td>img_1597.jpg</td>\n",
       "      <td>292.811798</td>\n",
       "      <td>260.702301</td>\n",
       "      <td>336.456207</td>\n",
       "      <td>270.446381</td>\n",
       "      <td>5.365997</td>\n",
       "    </tr>\n",
       "    <tr>\n",
       "      <th>1</th>\n",
       "      <td>img_1598.jpg</td>\n",
       "      <td>284.107391</td>\n",
       "      <td>293.796570</td>\n",
       "      <td>346.893829</td>\n",
       "      <td>310.100891</td>\n",
       "      <td>4.499390</td>\n",
       "    </tr>\n",
       "    <tr>\n",
       "      <th>2</th>\n",
       "      <td>img_1599.jpg</td>\n",
       "      <td>263.833862</td>\n",
       "      <td>319.467041</td>\n",
       "      <td>349.907532</td>\n",
       "      <td>343.094727</td>\n",
       "      <td>13.129303</td>\n",
       "    </tr>\n",
       "    <tr>\n",
       "      <th>3</th>\n",
       "      <td>img_1602.jpg</td>\n",
       "      <td>281.168732</td>\n",
       "      <td>274.570068</td>\n",
       "      <td>343.414825</td>\n",
       "      <td>288.565186</td>\n",
       "      <td>7.708221</td>\n",
       "    </tr>\n",
       "    <tr>\n",
       "      <th>4</th>\n",
       "      <td>img_1604.jpg</td>\n",
       "      <td>264.687714</td>\n",
       "      <td>324.317932</td>\n",
       "      <td>373.154877</td>\n",
       "      <td>350.880005</td>\n",
       "      <td>1.078705</td>\n",
       "    </tr>\n",
       "  </tbody>\n",
       "</table>\n",
       "</div>"
      ],
      "text/plain": [
       "     image_name       x_min       y_min       x_max       y_max  \\\n",
       "0  img_1597.jpg  292.811798  260.702301  336.456207  270.446381   \n",
       "1  img_1598.jpg  284.107391  293.796570  346.893829  310.100891   \n",
       "2  img_1599.jpg  263.833862  319.467041  349.907532  343.094727   \n",
       "3  img_1602.jpg  281.168732  274.570068  343.414825  288.565186   \n",
       "4  img_1604.jpg  264.687714  324.317932  373.154877  350.880005   \n",
       "\n",
       "   dist_to_img_center  \n",
       "0            5.365997  \n",
       "1            4.499390  \n",
       "2           13.129303  \n",
       "3            7.708221  \n",
       "4            1.078705  "
      ]
     },
     "execution_count": 257,
     "metadata": {},
     "output_type": "execute_result"
    }
   ],
   "source": [
    "test_data = collect_data('test', test_img_names, draw_bbox=False)\n",
    "test_data_df = pd.DataFrame(test_data, columns=[\n",
    "    'image_name', 'x_min', 'y_min', 'x_max', 'y_max', 'dist_to_img_center'\n",
    "])\n",
    "\n",
    "print(test_data_df.shape, '\\n')\n",
    "test_data_df.head()"
   ]
  },
  {
   "cell_type": "code",
   "execution_count": 258,
   "metadata": {
    "id": "pftgYYugUkOH"
   },
   "outputs": [],
   "source": [
    "train_img_without_np_detection = [\n",
    "    'img_2579.jpg',  # wrong car\n",
    "    'img_2733.heic',  # wrong car\n",
    "]\n",
    "\n",
    "train_data_df = train_data_df[~train_data_df['image_name'].isin(train_img_without_np_detection)]"
   ]
  },
  {
   "cell_type": "code",
   "execution_count": 261,
   "metadata": {
    "id": "JPIKsHpY2Gmy"
   },
   "outputs": [],
   "source": [
    "def add_bbox_size(data_df_input):\n",
    "    data_df = data_df_input.copy()\n",
    "    data_df['x_size'] = data_df['x_max'] - data_df['x_min']\n",
    "    data_df['y_size'] = data_df['y_max'] - data_df['y_min']\n",
    "    return data_df"
   ]
  },
  {
   "cell_type": "code",
   "execution_count": 262,
   "metadata": {
    "id": "yCuzrp3e2Grb"
   },
   "outputs": [],
   "source": [
    "train_data_df = add_bbox_size(train_data_df)\n",
    "test_data_df = add_bbox_size(test_data_df)"
   ]
  },
  {
   "cell_type": "code",
   "execution_count": 236,
   "metadata": {
    "id": "FzasCAhUuaQz"
   },
   "outputs": [],
   "source": [
    "def collect_metadata(folder, img_names):\n",
    "    metadata_lst = []\n",
    "\n",
    "    for img_name in tqdm(img_names):\n",
    "        img_file = open(os.path.join(folder, img_name), 'rb')\n",
    "\n",
    "        if 'heic' in img_name:\n",
    "            image = pyheif.read_heif(img_file)\n",
    "            for metadata in image.metadata or []:\n",
    "                if metadata['type'] == 'Exif':\n",
    "                    img_file = io.BytesIO(metadata['data'][6:])\n",
    "\n",
    "        tags = exifread.process_file(img_file, details=False)\n",
    "        equvivalent_focus_value = tags['EXIF FocalLengthIn35mmFilm'].values[0]\n",
    "        metadata_lst.append([img_name, equvivalent_focus_value])\n",
    "\n",
    "    metadata_df = pd.DataFrame(metadata_lst, columns=['image_name', 'equvivalent_focus_value'])\n",
    "\n",
    "    return metadata_df\n",
    "\n",
    "\n",
    "def add_metadata(data_df_input, metadata_df):\n",
    "    data_df = data_df_input.copy()\n",
    "    \n",
    "    if 'equvivalent_focus_value' not in data_df:\n",
    "        data_df = pd.merge(data_df, metadata_df, how='left', on='image_name')\n",
    "\n",
    "    return data_df"
   ]
  },
  {
   "cell_type": "code",
   "execution_count": 263,
   "metadata": {},
   "outputs": [],
   "source": [
    "train_metadata_df = collect_metadata('train', train_img_names)\n",
    "test_metadata_df = collect_metadata('test', test_img_names)\n",
    "\n",
    "train_data_df = add_metadata(train_data_df, train_metadata_df)\n",
    "test_data_df = add_metadata(test_data_df, test_metadata_df)"
   ]
  },
  {
   "cell_type": "code",
   "execution_count": 264,
   "metadata": {
    "colab": {
     "base_uri": "https://localhost:8080/",
     "height": 596
    },
    "id": "Om83qabi2GuL",
    "outputId": "c7d0a8e8-553c-4f48-fb7a-bfe4f8ab7c35",
    "scrolled": false
   },
   "outputs": [
    {
     "data": {
      "application/vnd.plotly.v1+json": {
       "config": {
        "plotlyServerURL": "https://plot.ly"
       },
       "data": [
        {
         "customdata": [
          [
           "img_1596.jpg"
          ],
          [
           "img_1600.jpg"
          ],
          [
           "img_1601.jpg"
          ],
          [
           "img_1603.jpg"
          ],
          [
           "img_1605.jpg"
          ],
          [
           "img_1606.jpg"
          ],
          [
           "img_1607.jpg"
          ],
          [
           "img_1608.jpg"
          ],
          [
           "img_1612.jpg"
          ],
          [
           "img_1613.jpg"
          ],
          [
           "img_1615.jpg"
          ],
          [
           "img_1616.jpg"
          ],
          [
           "img_1618.jpg"
          ],
          [
           "img_1619.jpg"
          ],
          [
           "img_1620.jpg"
          ],
          [
           "img_1621.jpg"
          ],
          [
           "img_1623.jpg"
          ],
          [
           "img_1626.jpg"
          ],
          [
           "img_1627.jpg"
          ],
          [
           "img_1628.jpg"
          ],
          [
           "img_1631.jpg"
          ],
          [
           "img_1634.jpg"
          ],
          [
           "img_1635.jpg"
          ],
          [
           "img_1637.jpg"
          ],
          [
           "img_1640.jpg"
          ],
          [
           "img_1641.jpg"
          ],
          [
           "img_1643.jpg"
          ],
          [
           "img_1645.jpg"
          ],
          [
           "img_1647.jpg"
          ],
          [
           "img_1649.jpg"
          ],
          [
           "img_1650.jpg"
          ],
          [
           "img_1653.jpg"
          ],
          [
           "img_1656.jpg"
          ],
          [
           "img_1658.jpg"
          ],
          [
           "img_1662.jpg"
          ],
          [
           "img_1665.jpg"
          ],
          [
           "img_1666.jpg"
          ],
          [
           "img_1667.jpg"
          ],
          [
           "img_1672.jpg"
          ],
          [
           "img_1673.jpg"
          ],
          [
           "img_1674.jpg"
          ],
          [
           "img_1675.jpg"
          ],
          [
           "img_1676.jpg"
          ],
          [
           "img_1677.jpg"
          ],
          [
           "img_1680.jpg"
          ],
          [
           "img_1681.jpg"
          ],
          [
           "img_1684.jpg"
          ],
          [
           "img_1685.jpg"
          ],
          [
           "img_1686.jpg"
          ],
          [
           "img_1687.jpg"
          ],
          [
           "img_1688.jpg"
          ],
          [
           "img_1690.jpg"
          ],
          [
           "img_1691.jpg"
          ],
          [
           "img_1692.jpg"
          ],
          [
           "img_1696.jpg"
          ],
          [
           "img_1700.jpg"
          ],
          [
           "img_1707.jpg"
          ],
          [
           "img_1708.jpg"
          ],
          [
           "img_1709.jpg"
          ],
          [
           "img_1711.jpg"
          ],
          [
           "img_1712.jpg"
          ],
          [
           "img_1713.jpg"
          ],
          [
           "img_1714.jpg"
          ],
          [
           "img_1715.jpg"
          ],
          [
           "img_1818.jpg"
          ],
          [
           "img_1820.jpg"
          ],
          [
           "img_1822.jpg"
          ],
          [
           "img_1824.jpg"
          ],
          [
           "img_1827.jpg"
          ],
          [
           "img_1829.jpg"
          ],
          [
           "img_1831.jpg"
          ],
          [
           "img_1832.jpg"
          ],
          [
           "img_1834.jpg"
          ],
          [
           "img_1835.jpg"
          ],
          [
           "img_1837.jpg"
          ],
          [
           "img_1838.jpg"
          ],
          [
           "img_1841.jpg"
          ],
          [
           "img_1845.jpg"
          ],
          [
           "img_1847.jpg"
          ],
          [
           "img_1848.jpg"
          ],
          [
           "img_1850.jpg"
          ],
          [
           "img_1853.jpg"
          ],
          [
           "img_1854.jpg"
          ],
          [
           "img_1856.jpg"
          ],
          [
           "img_1857.jpg"
          ],
          [
           "img_1860.jpg"
          ],
          [
           "img_1861.jpg"
          ],
          [
           "img_1862.jpg"
          ],
          [
           "img_1863.jpg"
          ],
          [
           "img_1864.jpg"
          ],
          [
           "img_1865.jpg"
          ],
          [
           "img_1874.jpg"
          ],
          [
           "img_1878.jpg"
          ],
          [
           "img_1881.jpg"
          ],
          [
           "img_1882.jpg"
          ],
          [
           "img_1883.jpg"
          ],
          [
           "img_1885.jpg"
          ],
          [
           "img_1886.jpg"
          ],
          [
           "img_1887.jpg"
          ],
          [
           "img_1890.jpg"
          ],
          [
           "img_1893.jpg"
          ],
          [
           "img_1896.jpg"
          ],
          [
           "img_1899.jpg"
          ],
          [
           "img_1901.jpg"
          ],
          [
           "img_1902.jpg"
          ],
          [
           "img_1903.jpg"
          ],
          [
           "img_1907.jpg"
          ],
          [
           "img_1909.jpg"
          ],
          [
           "img_1910.jpg"
          ],
          [
           "img_1912.jpg"
          ],
          [
           "img_1916.jpg"
          ],
          [
           "img_1918.jpg"
          ],
          [
           "img_1921.jpg"
          ],
          [
           "img_1922.jpg"
          ],
          [
           "img_1924.jpg"
          ],
          [
           "img_1925.jpg"
          ],
          [
           "img_1926.jpg"
          ],
          [
           "img_1927.jpg"
          ],
          [
           "img_1929.jpg"
          ],
          [
           "img_1930.jpg"
          ],
          [
           "img_1932.jpg"
          ],
          [
           "img_1933.jpg"
          ],
          [
           "img_1937.jpg"
          ],
          [
           "img_1938.jpg"
          ],
          [
           "img_1939.jpg"
          ],
          [
           "img_1945.jpg"
          ],
          [
           "img_1948.jpg"
          ],
          [
           "img_1950.jpg"
          ],
          [
           "img_1951.jpg"
          ],
          [
           "img_1958.jpg"
          ],
          [
           "img_1959.jpg"
          ],
          [
           "img_1963.jpg"
          ],
          [
           "img_1964.jpg"
          ],
          [
           "img_1965.jpg"
          ],
          [
           "img_1966.jpg"
          ],
          [
           "img_1967.jpg"
          ],
          [
           "img_1968.jpg"
          ],
          [
           "img_1970.jpg"
          ],
          [
           "img_1971.jpg"
          ],
          [
           "img_1973.jpg"
          ],
          [
           "img_1976.jpg"
          ],
          [
           "img_1977.jpg"
          ],
          [
           "img_1979.jpg"
          ],
          [
           "img_1980.jpg"
          ],
          [
           "img_1983.jpg"
          ],
          [
           "img_1984.jpg"
          ],
          [
           "img_1985.jpg"
          ],
          [
           "img_1991.jpg"
          ],
          [
           "img_1992.jpg"
          ],
          [
           "img_1994.jpg"
          ],
          [
           "img_1996.jpg"
          ],
          [
           "img_2001.jpg"
          ],
          [
           "img_2002.jpg"
          ],
          [
           "img_2003.jpg"
          ],
          [
           "img_2005.jpg"
          ],
          [
           "img_2007.jpg"
          ],
          [
           "img_2008.jpg"
          ],
          [
           "img_2010.jpg"
          ],
          [
           "img_2012.jpg"
          ],
          [
           "img_2014.jpg"
          ],
          [
           "img_2016.jpg"
          ],
          [
           "img_2018.jpg"
          ],
          [
           "img_2021.jpg"
          ],
          [
           "img_2025.jpg"
          ],
          [
           "img_2026.jpg"
          ],
          [
           "img_2027.jpg"
          ],
          [
           "img_2030.jpg"
          ],
          [
           "img_2254.jpg"
          ],
          [
           "img_2255.jpg"
          ],
          [
           "img_2256.jpg"
          ],
          [
           "img_2260.jpg"
          ],
          [
           "img_2261.jpg"
          ],
          [
           "img_2264.jpg"
          ],
          [
           "img_2266.jpg"
          ],
          [
           "img_2268.jpg"
          ],
          [
           "img_2269.jpg"
          ],
          [
           "img_2270.jpg"
          ],
          [
           "img_2271.jpg"
          ],
          [
           "img_2272.jpg"
          ],
          [
           "img_2275.jpg"
          ],
          [
           "img_2277.jpg"
          ],
          [
           "img_2278.jpg"
          ],
          [
           "img_2280.jpg"
          ],
          [
           "img_2282.jpg"
          ],
          [
           "img_2285.jpg"
          ],
          [
           "img_2287.jpg"
          ],
          [
           "img_2289.jpg"
          ],
          [
           "img_2290.jpg"
          ],
          [
           "img_2291.jpg"
          ],
          [
           "img_2294.jpg"
          ],
          [
           "img_2295.jpg"
          ],
          [
           "img_2296.jpg"
          ],
          [
           "img_2297.jpg"
          ],
          [
           "img_2300.jpg"
          ],
          [
           "img_2301.jpg"
          ],
          [
           "img_2302.jpg"
          ],
          [
           "img_2304.jpg"
          ],
          [
           "img_2305.jpg"
          ],
          [
           "img_2306.jpg"
          ],
          [
           "img_2308.jpg"
          ],
          [
           "img_2309.jpg"
          ],
          [
           "img_2310.jpg"
          ],
          [
           "img_2313.jpg"
          ],
          [
           "img_2316.jpg"
          ],
          [
           "img_2319.jpg"
          ],
          [
           "img_2320.jpg"
          ],
          [
           "img_2321.jpg"
          ],
          [
           "img_2322.jpg"
          ],
          [
           "img_2327.jpg"
          ],
          [
           "img_2330.jpg"
          ],
          [
           "img_2331.jpg"
          ],
          [
           "img_2332.jpg"
          ],
          [
           "img_2333.jpg"
          ],
          [
           "img_2336.jpg"
          ],
          [
           "img_2341.jpg"
          ],
          [
           "img_2342.jpg"
          ],
          [
           "img_2344.jpg"
          ],
          [
           "img_2345.jpg"
          ],
          [
           "img_2347.jpg"
          ],
          [
           "img_2350.jpg"
          ],
          [
           "img_2352.jpg"
          ],
          [
           "img_2359.jpg"
          ],
          [
           "img_2361.jpg"
          ],
          [
           "img_2369.jpg"
          ],
          [
           "img_2372.jpg"
          ],
          [
           "img_2373.jpg"
          ],
          [
           "img_2374.jpg"
          ],
          [
           "img_2376.jpg"
          ],
          [
           "img_2378.jpg"
          ],
          [
           "img_2383.jpg"
          ],
          [
           "img_2384.jpg"
          ],
          [
           "img_2385.jpg"
          ],
          [
           "img_2390.jpg"
          ],
          [
           "img_2397.jpg"
          ],
          [
           "img_2398.jpg"
          ],
          [
           "img_2404.jpg"
          ],
          [
           "img_2405.jpg"
          ],
          [
           "img_2406.jpg"
          ],
          [
           "img_2408.jpg"
          ],
          [
           "img_2409.jpg"
          ],
          [
           "img_2410.jpg"
          ],
          [
           "img_2411.jpg"
          ],
          [
           "img_2418.jpg"
          ],
          [
           "img_2420.jpg"
          ],
          [
           "img_2422.jpg"
          ],
          [
           "img_2423.jpg"
          ],
          [
           "img_2426.jpg"
          ],
          [
           "img_2427.jpg"
          ],
          [
           "img_2429.jpg"
          ],
          [
           "img_2430.jpg"
          ],
          [
           "img_2432.jpg"
          ],
          [
           "img_2434.jpg"
          ],
          [
           "img_2436.jpg"
          ],
          [
           "img_2437.jpg"
          ],
          [
           "img_2440.jpg"
          ],
          [
           "img_2442.jpg"
          ],
          [
           "img_2443.jpg"
          ],
          [
           "img_2445.jpg"
          ],
          [
           "img_2449.jpg"
          ],
          [
           "img_2450.jpg"
          ],
          [
           "img_2451.jpg"
          ],
          [
           "img_2452.jpg"
          ],
          [
           "img_2453.jpg"
          ],
          [
           "img_2454.jpg"
          ],
          [
           "img_2455.jpg"
          ],
          [
           "img_2458.jpg"
          ],
          [
           "img_2459.jpg"
          ],
          [
           "img_2460.jpg"
          ],
          [
           "img_2462.jpg"
          ],
          [
           "img_2463.jpg"
          ],
          [
           "img_2468.jpg"
          ],
          [
           "img_2469.jpg"
          ],
          [
           "img_2470.jpg"
          ],
          [
           "img_2474.jpg"
          ],
          [
           "img_2476.jpg"
          ],
          [
           "img_2477.jpg"
          ],
          [
           "img_2480.jpg"
          ],
          [
           "img_2484.jpg"
          ],
          [
           "img_2485.jpg"
          ],
          [
           "img_2487.jpg"
          ],
          [
           "img_2490.jpg"
          ],
          [
           "img_2492.jpg"
          ],
          [
           "img_2494.jpg"
          ],
          [
           "img_2495.jpg"
          ],
          [
           "img_2502.jpg"
          ],
          [
           "img_2503.jpg"
          ],
          [
           "img_2504.jpg"
          ],
          [
           "img_2505.jpg"
          ],
          [
           "img_2507.jpg"
          ],
          [
           "img_2510.jpg"
          ],
          [
           "img_2511.jpg"
          ],
          [
           "img_2512.jpg"
          ],
          [
           "img_2514.jpg"
          ],
          [
           "img_2516.jpg"
          ],
          [
           "img_2519.jpg"
          ],
          [
           "img_2520.jpg"
          ],
          [
           "img_2527.jpg"
          ],
          [
           "img_2528.jpg"
          ],
          [
           "img_2533.jpg"
          ],
          [
           "img_2535.jpg"
          ],
          [
           "img_2536.jpg"
          ],
          [
           "img_2538.jpg"
          ],
          [
           "img_2539.jpg"
          ],
          [
           "img_2544.jpg"
          ],
          [
           "img_2547.jpg"
          ],
          [
           "img_2548.jpg"
          ],
          [
           "img_2549.jpg"
          ],
          [
           "img_2550.jpg"
          ],
          [
           "img_2553.jpg"
          ],
          [
           "img_2554.jpg"
          ],
          [
           "img_2561.jpg"
          ],
          [
           "img_2562.jpg"
          ],
          [
           "img_2563.jpg"
          ],
          [
           "img_2568.jpg"
          ],
          [
           "img_2570.jpg"
          ],
          [
           "img_2574.jpg"
          ],
          [
           "img_2575.jpg"
          ],
          [
           "img_2577.jpg"
          ],
          [
           "img_2578.jpg"
          ],
          [
           "img_2581.jpg"
          ],
          [
           "img_2583.jpg"
          ],
          [
           "img_2584.jpg"
          ],
          [
           "img_2586.jpg"
          ],
          [
           "img_2588.jpg"
          ],
          [
           "img_2590.jpg"
          ],
          [
           "img_2593.jpg"
          ],
          [
           "img_2597.jpg"
          ],
          [
           "img_2600.jpg"
          ],
          [
           "img_2601.jpg"
          ],
          [
           "img_2604.jpg"
          ],
          [
           "img_2608.jpg"
          ],
          [
           "img_2613.jpg"
          ],
          [
           "img_2614.jpg"
          ],
          [
           "img_2615.jpg"
          ],
          [
           "img_2620.jpg"
          ],
          [
           "img_2621.jpg"
          ],
          [
           "img_2623.jpg"
          ],
          [
           "img_2624.jpg"
          ],
          [
           "img_2625.jpg"
          ],
          [
           "img_2627.jpg"
          ],
          [
           "img_2629.jpg"
          ],
          [
           "img_2630.jpg"
          ],
          [
           "img_2631.jpg"
          ],
          [
           "img_2634.jpg"
          ],
          [
           "img_2635.jpg"
          ],
          [
           "img_2636.jpg"
          ],
          [
           "img_2638.jpg"
          ],
          [
           "img_2639.jpg"
          ],
          [
           "img_2642.jpg"
          ],
          [
           "img_2643.jpg"
          ],
          [
           "img_2645.jpg"
          ],
          [
           "img_2646.jpg"
          ],
          [
           "img_2648.jpg"
          ],
          [
           "img_2650.jpg"
          ],
          [
           "img_2651.jpg"
          ],
          [
           "img_2654.jpg"
          ],
          [
           "img_2656.jpg"
          ],
          [
           "img_2657.jpg"
          ],
          [
           "img_2658.jpg"
          ],
          [
           "img_2659.jpg"
          ],
          [
           "img_2660.jpg"
          ],
          [
           "img_2664.jpg"
          ],
          [
           "img_2665.jpg"
          ],
          [
           "img_2666.jpg"
          ],
          [
           "img_2667.jpg"
          ],
          [
           "img_2669.jpg"
          ],
          [
           "img_2671.jpg"
          ],
          [
           "img_2672.heic"
          ],
          [
           "img_2672.jpg"
          ],
          [
           "img_2673.heic"
          ],
          [
           "img_2673.jpg"
          ],
          [
           "img_2674.jpg"
          ],
          [
           "img_2675.heic"
          ],
          [
           "img_2676.heic"
          ],
          [
           "img_2678.heic"
          ],
          [
           "img_2680.heic"
          ],
          [
           "img_2681.heic"
          ],
          [
           "img_2681.jpg"
          ],
          [
           "img_2682.heic"
          ],
          [
           "img_2682.jpg"
          ],
          [
           "img_2683.heic"
          ],
          [
           "img_2683.jpg"
          ],
          [
           "img_2684.jpg"
          ],
          [
           "img_2685.heic"
          ],
          [
           "img_2686.jpg"
          ],
          [
           "img_2687.heic"
          ],
          [
           "img_2688.heic"
          ],
          [
           "img_2688.jpg"
          ],
          [
           "img_2690.heic"
          ],
          [
           "img_2690.jpg"
          ],
          [
           "img_2691.heic"
          ],
          [
           "img_2691.jpg"
          ],
          [
           "img_2694.heic"
          ],
          [
           "img_2694.jpg"
          ],
          [
           "img_2695.heic"
          ],
          [
           "img_2696.heic"
          ],
          [
           "img_2699.heic"
          ],
          [
           "img_2700.heic"
          ],
          [
           "img_2701.heic"
          ],
          [
           "img_2704.jpg"
          ],
          [
           "img_2705.heic"
          ],
          [
           "img_2705.jpg"
          ],
          [
           "img_2706.jpg"
          ],
          [
           "img_2707.jpg"
          ],
          [
           "img_2708.jpg"
          ],
          [
           "img_2709.heic"
          ],
          [
           "img_2709.jpg"
          ],
          [
           "img_2710.heic"
          ],
          [
           "img_2712.jpg"
          ],
          [
           "img_2713.jpg"
          ],
          [
           "img_2714.heic"
          ],
          [
           "img_2716.jpg"
          ],
          [
           "img_2721.heic"
          ],
          [
           "img_2721.jpg"
          ],
          [
           "img_2722.heic"
          ],
          [
           "img_2723.heic"
          ],
          [
           "img_2723.jpg"
          ],
          [
           "img_2724.heic"
          ],
          [
           "img_2725.jpg"
          ],
          [
           "img_2726.heic"
          ],
          [
           "img_2727.heic"
          ],
          [
           "img_2728.jpg"
          ],
          [
           "img_2729.heic"
          ],
          [
           "img_2730.heic"
          ],
          [
           "img_2730.jpg"
          ],
          [
           "img_2732.jpg"
          ],
          [
           "img_2734.heic"
          ],
          [
           "img_2735.heic"
          ],
          [
           "img_2735.jpg"
          ],
          [
           "img_2737.heic"
          ],
          [
           "img_2737.jpg"
          ],
          [
           "img_2738.heic"
          ],
          [
           "img_2739.jpg"
          ],
          [
           "img_2740.heic"
          ],
          [
           "img_2741.jpg"
          ],
          [
           "img_2742.jpg"
          ],
          [
           "img_2743.heic"
          ],
          [
           "img_2743.jpg"
          ],
          [
           "img_2744.heic"
          ],
          [
           "img_2745.heic"
          ],
          [
           "img_2745.jpg"
          ],
          [
           "img_2746.heic"
          ],
          [
           "img_2747.heic"
          ],
          [
           "img_2747.jpg"
          ],
          [
           "img_2748.heic"
          ],
          [
           "img_2748.jpg"
          ],
          [
           "img_2749.heic"
          ],
          [
           "img_2750.jpg"
          ],
          [
           "img_2751.heic"
          ],
          [
           "img_2751.jpg"
          ],
          [
           "img_2754.heic"
          ],
          [
           "img_2755.jpg"
          ],
          [
           "img_2756.heic"
          ],
          [
           "img_2760.jpg"
          ],
          [
           "img_2763.jpg"
          ],
          [
           "img_2764.jpg"
          ],
          [
           "img_2765.jpg"
          ],
          [
           "img_2766.jpg"
          ],
          [
           "img_2767.jpg"
          ],
          [
           "img_2770.jpg"
          ],
          [
           "img_2774.jpg"
          ],
          [
           "img_2775.jpg"
          ],
          [
           "img_2779.jpg"
          ],
          [
           "img_2780.jpg"
          ],
          [
           "img_2783.jpg"
          ],
          [
           "img_2786.jpg"
          ],
          [
           "img_2787.jpg"
          ],
          [
           "img_2788.jpg"
          ],
          [
           "img_2789.jpg"
          ],
          [
           "img_2791.jpg"
          ],
          [
           "img_2792.jpg"
          ],
          [
           "img_2793.jpg"
          ],
          [
           "img_2794.jpg"
          ],
          [
           "img_2795.jpg"
          ],
          [
           "img_2796.jpg"
          ],
          [
           "img_2797.jpg"
          ],
          [
           "img_2799.jpg"
          ],
          [
           "img_2857.jpg"
          ],
          [
           "img_2858.jpg"
          ],
          [
           "img_2860.jpg"
          ],
          [
           "img_2861.jpg"
          ],
          [
           "img_2862.jpg"
          ],
          [
           "img_2863.jpg"
          ],
          [
           "img_2866.jpg"
          ],
          [
           "img_2867.jpg"
          ],
          [
           "img_2869.jpg"
          ],
          [
           "img_2870.jpg"
          ],
          [
           "img_2872.jpg"
          ],
          [
           "img_2874.jpg"
          ],
          [
           "img_2876.jpg"
          ],
          [
           "img_2879.jpg"
          ],
          [
           "img_2881.jpg"
          ],
          [
           "img_2882.jpg"
          ],
          [
           "img_2883.jpg"
          ],
          [
           "img_2885.jpg"
          ],
          [
           "img_2890.jpg"
          ],
          [
           "img_2891.jpg"
          ],
          [
           "img_2892.jpg"
          ],
          [
           "img_2894.jpg"
          ],
          [
           "img_2895.jpg"
          ],
          [
           "img_2896.jpg"
          ],
          [
           "img_2897.jpg"
          ],
          [
           "img_2899.jpg"
          ],
          [
           "img_2901.jpg"
          ],
          [
           "img_2902.jpg"
          ],
          [
           "img_2903.jpg"
          ],
          [
           "img_2904.jpg"
          ],
          [
           "img_2905.jpg"
          ],
          [
           "img_2908.jpg"
          ],
          [
           "img_2911.jpg"
          ],
          [
           "img_2912.jpg"
          ],
          [
           "img_2913.jpg"
          ],
          [
           "img_2915.jpg"
          ],
          [
           "img_2916.jpg"
          ],
          [
           "img_2918.jpg"
          ],
          [
           "img_2920.jpg"
          ],
          [
           "img_2927.jpg"
          ],
          [
           "img_2928.jpg"
          ],
          [
           "img_2930.jpg"
          ],
          [
           "img_2931.jpg"
          ],
          [
           "img_2932.jpg"
          ],
          [
           "img_2934.jpg"
          ],
          [
           "img_2937.jpg"
          ],
          [
           "img_2939.jpg"
          ],
          [
           "img_2940.jpg"
          ],
          [
           "img_2941.jpg"
          ],
          [
           "img_2944.jpg"
          ],
          [
           "img_2945.jpg"
          ]
         ],
         "hovertemplate": "distance=%{x}<br>f_eqv / x_size=%{y}<br>image_name=%{customdata[0]}<extra></extra>",
         "legendgroup": "",
         "marker": {
          "color": "#636efa",
          "symbol": "circle"
         },
         "mode": "markers",
         "name": "",
         "orientation": "v",
         "showlegend": false,
         "type": "scatter",
         "x": [
          4.88,
          1.54,
          3.68,
          2.22,
          3.73,
          4.52,
          5.4,
          6.21,
          7.12,
          5.26,
          2.26,
          2.86,
          1.6,
          3.65,
          1.52,
          7.37,
          5.56,
          1.75,
          1.36,
          1.12,
          2.18,
          2.49,
          3.11,
          2.27,
          2.72,
          4.57,
          5.49,
          4.13,
          2.42,
          4.36,
          4.69,
          6.44,
          2.98,
          1.68,
          4.16,
          3.09,
          2.43,
          1.9,
          4.96,
          3.94,
          3.36,
          2.9,
          2.32,
          4.17,
          5.88,
          6.55,
          3.83,
          3.2,
          3.02,
          2.07,
          3.18,
          4.3,
          5.04,
          4.64,
          2,
          5,
          5.88,
          6.52,
          7.17,
          5.5,
          4.45,
          3.96,
          3.03,
          4.3,
          2.74,
          3.84,
          5.01,
          6.1,
          5.55,
          4.1,
          3.64,
          1.95,
          3.01,
          3.05,
          4.08,
          5.53,
          1.06,
          4.35,
          6.35,
          5.57,
          4.19,
          7.17,
          3.89,
          3.23,
          2.68,
          2.32,
          3,
          3.46,
          3.95,
          4.47,
          3.52,
          5.27,
          8.41,
          7.74,
          6.68,
          6.4,
          4.1,
          3.41,
          2.84,
          1.19,
          4.37,
          6.1,
          5.13,
          3.72,
          3.16,
          2.5,
          7.07,
          5.72,
          4.99,
          3.61,
          4.7,
          3.43,
          1.89,
          3.68,
          4.85,
          5.47,
          6.05,
          6.63,
          3.98,
          4.41,
          2.69,
          3.52,
          6.21,
          6.87,
          7.47,
          2.66,
          3.91,
          5.54,
          6.13,
          4.69,
          3.79,
          3.72,
          4.26,
          5.67,
          6.31,
          6.79,
          7.43,
          4.45,
          3.84,
          2.52,
          1.53,
          2.2,
          3.46,
          1.7,
          3.63,
          4.22,
          4.86,
          6.41,
          5.73,
          4.42,
          3.11,
          1.16,
          2.11,
          2.85,
          3.85,
          6.32,
          5.27,
          1.98,
          3.5,
          3.63,
          5.69,
          6.83,
          2.12,
          4.36,
          4.91,
          5.4,
          7.06,
          1.93,
          1.57,
          2.38,
          4.84,
          4.39,
          1.43,
          2.77,
          2.96,
          3.55,
          3.91,
          4.3,
          4.79,
          6.49,
          7.7,
          6,
          3.94,
          2.38,
          4.33,
          5.54,
          7.55,
          5.09,
          4.39,
          2.1,
          1.64,
          2.6,
          3.15,
          2.7,
          2.14,
          1.67,
          2.1,
          2.74,
          3.24,
          4.39,
          5.02,
          5.56,
          4.15,
          2.92,
          2.33,
          1.77,
          1.32,
          2.41,
          5.4,
          7.2,
          7.92,
          8.51,
          9.06,
          5.22,
          8.03,
          2.65,
          3.71,
          2.61,
          1.58,
          3.1,
          2.53,
          1.98,
          3.45,
          3.79,
          1.61,
          1.85,
          1.34,
          2.92,
          4.11,
          3.96,
          3.27,
          2.66,
          1.25,
          3.35,
          3.93,
          5.12,
          4.35,
          3.75,
          2.81,
          2.28,
          1.83,
          1.33,
          4.09,
          2.67,
          4.02,
          4.38,
          2.12,
          1.64,
          2.67,
          2.12,
          1.34,
          3.27,
          4.42,
          5.02,
          6.67,
          5.62,
          4.59,
          3.29,
          1.2,
          2.31,
          2.87,
          3.42,
          4.01,
          4.8,
          5.5,
          7.19,
          5.49,
          4.34,
          2.84,
          2.1,
          4.06,
          3.44,
          2.87,
          1.2,
          2.89,
          3.52,
          3.93,
          1.57,
          2.78,
          4.43,
          5.15,
          6.31,
          7.39,
          6.12,
          4.41,
          4.98,
          5.46,
          6.01,
          5.38,
          3.24,
          3.6,
          2.04,
          2.5,
          2.51,
          2.54,
          1.97,
          4.96,
          5.58,
          3.27,
          3.23,
          2.6,
          3.03,
          3.53,
          6.4,
          4.63,
          4.03,
          3.37,
          2.78,
          3.35,
          4.03,
          6.26,
          5.57,
          4.88,
          3.31,
          2.07,
          4.41,
          5.03,
          6.32,
          6.87,
          8.74,
          6.16,
          2.8,
          4.37,
          5.56,
          4.7,
          2.55,
          3.67,
          5.36,
          5.83,
          4.41,
          1.81,
          4.07,
          4.62,
          5.15,
          2.72,
          2.11,
          2.8,
          2.24,
          1.75,
          3.49,
          4.85,
          5.39,
          5.95,
          7.52,
          8.05,
          8.48,
          2.23,
          2.81,
          4.82,
          5.24,
          5.98,
          4.67,
          3.24,
          2.47,
          2.96,
          4.58,
          5.65,
          6.16,
          6.71,
          7.29,
          5.82,
          3.12,
          2.51,
          1.93,
          2.39,
          3.5,
          4.47,
          2.43,
          5.02,
          3.33,
          5.53,
          5.97,
          4.6,
          5.24,
          6.16,
          7.33,
          2.55,
          2.61,
          3.23,
          2.04,
          3.81,
          3.16,
          3.79,
          5.02,
          4.71,
          5.13,
          4.56,
          5.56,
          3.44,
          6.53,
          6.14,
          7.05,
          7.78,
          6.85,
          8.3,
          8.8,
          5.67,
          4.96,
          4.28,
          2.1,
          1.89,
          2.6,
          3.05,
          3.56,
          4.01,
          3.71,
          4.5,
          3.1,
          5.79,
          6.29,
          3.33,
          4.39,
          7.79,
          3.88,
          8.25,
          8.78,
          4.9,
          9.38,
          3.23,
          8.44,
          7.86,
          1.84,
          6.69,
          6.08,
          3.44,
          4.54,
          3.37,
          2.85,
          6.2,
          2.02,
          7.24,
          1.37,
          8.31,
          3.82,
          6.94,
          6.26,
          2.67,
          5.58,
          2.66,
          2.19,
          6.21,
          1.81,
          1.48,
          4.94,
          2.87,
          4.43,
          2.43,
          3.68,
          4.42,
          3.24,
          6.04,
          1.67,
          6.9,
          3.52,
          5.01,
          5.41,
          5.79,
          4.08,
          3.43,
          2,
          4.16,
          4.62,
          6.41,
          6.88,
          5.07,
          3.27,
          2.32,
          2.86,
          3.41,
          4.42,
          5,
          5.51,
          5.96,
          6.43,
          6.9,
          6.29,
          4.94,
          1.09,
          0.85,
          4.08,
          3.54,
          2.1,
          2.65,
          2.92,
          3.44,
          4.4,
          4.91,
          5.62,
          6.38,
          7.16,
          2.39,
          3.45,
          4.01,
          4.37,
          4.7,
          2.36,
          2.73,
          3.18,
          4.01,
          4.45,
          4.98,
          3.95,
          2.82,
          1.78,
          1.33,
          4.33,
          2.9,
          3.51,
          4.61,
          5.76,
          6.19,
          6.61,
          4.73,
          4.2,
          2.91,
          2.07,
          4.5,
          4.84,
          3.05,
          3.5,
          3.87,
          3.68,
          2.05,
          3,
          3.46,
          3.91,
          5.2,
          5.54
         ],
         "xaxis": "x",
         "y": [
          0.47625224596725113,
          0.14994479248596393,
          0.3803525657220032,
          0.22252795101521666,
          0.37078778826351644,
          0.4541708586961307,
          0.5367403767403768,
          0.6258817078898109,
          0.6338257694818525,
          0.5309213311108996,
          0.3081548355360717,
          0.23941319084153934,
          0.3734896554384679,
          0.4641597466856551,
          0.5714477353856142,
          0.45371699777180374,
          0.5367326840114904,
          0.1710088823583303,
          0.12238490207738774,
          0.11139246626256273,
          0.20601131793678526,
          0.2452859848343077,
          0.3054936904498002,
          0.2212647063016235,
          0.26854760720978643,
          0.4458790747743103,
          0.5348557997482707,
          0.628060311781242,
          0.336454355760049,
          0.43329905086538745,
          0.4694824918333429,
          0.6183095195664252,
          0.30441052150244063,
          0.16610745909861785,
          0.39279544700807,
          0.29621683515887487,
          0.23531552061739683,
          0.19389298121503953,
          0.4761026073185084,
          0.37194730897801914,
          0.330021918035862,
          0.2913727678323326,
          0.23090447215341955,
          0.4182592740327084,
          0.5720445687800311,
          0.669164871294812,
          0.3790070265737506,
          0.3172914803199737,
          0.2547659772974654,
          0.20108696069068427,
          0.31303467283157477,
          0.43215155901233426,
          0.4917037742856384,
          0.47969638357558114,
          0.20591160090802693,
          0.493069779952112,
          0.48665497108592537,
          0.5532588462236555,
          0.5782885883832256,
          0.46346228304818954,
          0.38209400762602175,
          0.3682418385121088,
          0.2742530969914641,
          0.40913588647877563,
          0.2775517711204633,
          0.40968925373027626,
          0.5272344875935226,
          0.651164639252814,
          0.580609070497975,
          0.41864573827340756,
          0.2606213754613049,
          0.19141640428303552,
          0.19430279167951425,
          0.3014991094724528,
          0.40899308347791047,
          0.47383805602781354,
          0.10748701492229575,
          0.46834845994425783,
          0.6627199787352686,
          0.5764650000879615,
          0.4318031645033454,
          0.7294259065512099,
          0.3905083268355301,
          0.3274994074695953,
          0.26894697531971573,
          0.2358236545387438,
          0.31023797769677625,
          0.3599460809006184,
          0.39950396410706573,
          0.46168369144064814,
          0.36149758240926944,
          0.5486243491280648,
          0.9342190471923658,
          0.7391548133873848,
          0.6328556529800301,
          0.5974220131634123,
          0.4197212788382715,
          0.3462655564076398,
          0.2869165378284125,
          0.12343025649166328,
          0.4434048706181641,
          0.6257666033741461,
          0.5167662458208296,
          0.3788952742157418,
          0.32625055649034873,
          0.2550756355039272,
          0.7269822957802724,
          0.5905664263645726,
          0.5072356083925981,
          0.3589709882281504,
          0.48065244814738756,
          0.3472021869669008,
          0.19403980008594815,
          0.3812125956247372,
          0.5178173543401653,
          0.565835175244711,
          0.6378394612000645,
          0.6835781041388518,
          0.4233990279631342,
          0.4660181550739133,
          0.27961839189192483,
          0.3523998420641054,
          0.5940782794273045,
          0.6603693733895677,
          0.7458145153161589,
          0.26869556559071767,
          0.41415496505314703,
          0.5578413609445857,
          0.6308193258822494,
          0.4821933473900193,
          0.3858891773173017,
          0.35282373118602095,
          0.40738122724447207,
          0.5684039410820133,
          0.6217701974476021,
          0.6705430095739239,
          0.7648084611203916,
          0.43767530787401876,
          0.36106511185689316,
          0.24287576356630575,
          0.14690311961624433,
          0.22792434981602197,
          0.37606075311831905,
          0.176068187121575,
          0.36771820924617893,
          0.4481514261654817,
          0.4958141042961362,
          0.5777674784133158,
          0.5669078048189721,
          0.4368084887587171,
          0.3022710920059775,
          0.11398597463049759,
          0.21314540379204347,
          0.28197263817060025,
          0.3842910060799389,
          0.6117117453476775,
          0.48859957056678366,
          0.21318720333997251,
          0.355180620655589,
          0.3729873001935054,
          0.6250895901065271,
          0.7278912428123554,
          0.21824527283989265,
          0.45372742252298054,
          0.5091383696100933,
          0.5486820922906166,
          0.7520080782117776,
          0.19215483905557826,
          0.14833554501879287,
          0.23684808333298937,
          0.4973018443720311,
          0.45292288250219676,
          0.13895343906369265,
          0.29237116923739737,
          0.31239113173961774,
          0.38066409102375165,
          0.41468882428660275,
          0.4437677385404434,
          0.4883790251837468,
          0.6414102435041347,
          0.7534605656472776,
          0.606534012031467,
          0.40605211960495174,
          0.24453053540093772,
          0.4406272391450092,
          0.5619564205461396,
          0.7579345279596078,
          0.515335879577622,
          0.4571282803482032,
          0.21175931875420054,
          0.1741694951289703,
          0.26923930178263517,
          0.32680369922365315,
          0.2710339123242349,
          0.21433884405638057,
          0.17046170675735128,
          0.21674312685146252,
          0.2809462043184991,
          0.33158416671726193,
          0.4388358727510656,
          0.5160291742219383,
          0.5818403196144334,
          0.5287147016045197,
          0.28920572319082516,
          0.23681354376566222,
          0.17557788313893238,
          0.1306425778466182,
          0.23551783407706162,
          0.5630807224094717,
          0.7193018216484209,
          0.8609725428373027,
          0.885385746654363,
          0.9895085588072888,
          0.533294893643735,
          0.8473846176580331,
          0.27374843061529397,
          0.38267537091196047,
          0.2701595568637012,
          0.15942229435048078,
          0.3136469857886914,
          0.27060544570808365,
          0.1959438622748097,
          0.35828075968466744,
          0.38785517656528007,
          0.16316798101533256,
          0.18215677445535858,
          0.1330538754908289,
          0.29264533644976665,
          0.40204795984007546,
          0.39451134983781033,
          0.32951824104468497,
          0.26223690678983413,
          0.12154032180292726,
          0.3386563356326184,
          0.4059407342385072,
          0.5345999752948881,
          0.4503016394343745,
          0.39327825032876634,
          0.28847972633061675,
          0.23297618092381572,
          0.18016752069953784,
          0.13571990256019126,
          0.41725893680612597,
          0.26814994587340224,
          0.40704289836349505,
          0.443586659292121,
          0.21065353510677964,
          0.15879123275456844,
          0.27268588031237334,
          0.21033191721922015,
          0.12744491764385585,
          0.3403058325383626,
          0.4648122217471392,
          0.5082279953470338,
          0.6644920188881503,
          0.5791796705350019,
          0.48989983127229236,
          0.34132977781481394,
          0.12353721799975875,
          0.23549631369666268,
          0.28821439162055257,
          0.3454598304449127,
          0.41554074863132573,
          0.49452921024433677,
          0.565835175244711,
          0.7283789491065765,
          0.5600875136740116,
          0.44831522164021576,
          0.28404606138959404,
          0.2124890687298976,
          0.38530707685278354,
          0.35642462788265605,
          0.280160394561828,
          0.11622313325560668,
          0.2953961542968926,
          0.35801513373123894,
          0.3955467876998634,
          0.16463282464554305,
          0.2747215368769013,
          0.4489505124130002,
          0.4800730021724844,
          0.5805708616076966,
          0.6971258027359124,
          0.55965568058714,
          0.4333155127694101,
          0.49601352827075573,
          0.5562342830398692,
          0.5289951499860472,
          0.5388688677871175,
          0.334142799081084,
          0.2642346243478401,
          0.1971202310002707,
          0.2083353769412004,
          0.2560851711841662,
          0.2537648303115859,
          0.19285552735194436,
          0.4954403487020869,
          0.5560293315556633,
          0.32872251999197455,
          0.33199738890167374,
          0.26363299917936506,
          0.3033420043033053,
          0.363000463689034,
          0.6064939185616076,
          0.4698267562994916,
          0.40551587582207765,
          0.3440003599334123,
          0.2731450332774046,
          0.3363338704876467,
          0.3984505011551757,
          0.6250282709102551,
          0.5740614214887616,
          0.49543820846004977,
          0.32801832747490983,
          0.20453998767192152,
          0.44155009153401853,
          0.49767193608998084,
          0.5466005466577372,
          0.620075909125315,
          0.7674518201284797,
          0.562526976652933,
          0.2822429216552437,
          0.41232206189792187,
          0.5440478167026399,
          0.4700751707121134,
          0.26205804496125246,
          0.3753843837504071,
          0.5543750422954592,
          0.5824697370993832,
          0.45433135590702467,
          0.19178515139986874,
          0.41237765808265675,
          0.4672627232411136,
          0.5176654321739935,
          0.27704356102239047,
          0.20950507239824379,
          0.29183551172617045,
          0.22488416371397701,
          0.17774044545145296,
          0.353933797887902,
          0.49279316634476356,
          0.5616261930296219,
          0.5886960583521986,
          0.7469852052795951,
          0.7994061331390951,
          0.8388132512716994,
          0.23360828123106317,
          0.29764853813842457,
          0.49479270028905475,
          0.542596123367192,
          0.624008052559272,
          0.47859353059125215,
          0.3410227590349265,
          0.2619257784086176,
          0.3162812246631404,
          0.4962506869053131,
          0.596038811539521,
          0.6425764014757849,
          0.7316572143080405,
          0.8231747581177686,
          0.6249908039901146,
          0.3360643248121711,
          0.26551928110136047,
          0.2132615321106547,
          0.24816373163055438,
          0.36688478388481105,
          0.45535776323286226,
          0.24275212774288865,
          0.49764494286464434,
          0.324809151117197,
          0.5530170792628226,
          0.6000020926412272,
          0.4631519434628975,
          0.5178255372945638,
          0.6070541033370297,
          0.719990457715753,
          0.26869934270716556,
          0.2695531694613896,
          0.3251770656716587,
          0.21124037968306944,
          0.38642355711968146,
          0.3287512594611871,
          0.4024973591024107,
          0.5097572954701525,
          0.4771152102105859,
          0.5194202898550725,
          0.4650638465250378,
          0.5703997692300041,
          0.3523673606705205,
          0.7105295764874978,
          0.5868224868117418,
          0.7244085535894189,
          0.7502543085261226,
          0.7155343985325934,
          0.830010891866562,
          0.8520432232445665,
          0.5746784320210052,
          0.505965681614142,
          0.4277918483511319,
          0.21889111556446225,
          0.1962065054308867,
          0.27045325114341534,
          0.31370274990460745,
          0.3720187942670025,
          0.4095246767112484,
          0.3424314580238712,
          0.4651666480769816,
          0.31948742948673303,
          0.5741533855815851,
          0.6261475340472635,
          0.3426790625686289,
          0.4524502726031829,
          0.7134312667373723,
          0.402744709691466,
          0.7723279673258316,
          0.8480488030317035,
          0.49842785403705786,
          0.8568429467424233,
          0.3184110542118918,
          1.007670342222031,
          0.8277434953628523,
          0.17605413271603043,
          0.7219052235024565,
          0.6590790891458946,
          0.3431193923129624,
          0.4466043613707165,
          0.3884627695517646,
          0.3384984091566464,
          0.6009153521905316,
          0.24678362321428957,
          0.6174021177977917,
          0.19648331730065008,
          0.8134016085334543,
          0.12380299554715962,
          0.651962344808768,
          0.5913139421874718,
          0.2814833540520541,
          0.5181600907213887,
          0.2714072054675224,
          0.22501233577236648,
          0.6094703642590865,
          0.19068076998533584,
          0.15819830929419204,
          0.47926151737452544,
          0.3046044707441546,
          0.4456542224035594,
          0.35550375534318845,
          0.376966173031444,
          0.46415851842258626,
          0.3279278197380592,
          0.6240097501523462,
          0.17038269550748752,
          0.7080773718752122,
          0.36686776663873016,
          0.5102562448418463,
          0.5182607752582538,
          0.5856478289954093,
          0.42520108331958484,
          0.35547951362090824,
          0.20339764587371711,
          0.4392754070042458,
          0.4779771988939109,
          0.6488767938624656,
          0.7119962502987656,
          0.531451356918279,
          0.3369088972937241,
          0.23905086667611575,
          0.2949532513190059,
          0.35308714191154966,
          0.46553106334442146,
          0.5119302952053404,
          0.5691514438704363,
          0.6562863012366025,
          0.693936946176443,
          0.6886244982632478,
          0.670110080164536,
          0.5256866268196986,
          0.11026669160025056,
          0.09104813661745591,
          0.407673017007111,
          0.351459767895832,
          0.29909349801278906,
          0.26510468916863533,
          0.28802583713912955,
          0.33715650608165215,
          0.42965973906772437,
          0.48713336405666874,
          0.5760567377311451,
          0.6940230316306709,
          0.8367477966497403,
          0.24281637181256935,
          0.34653077935282306,
          0.4119762199831169,
          0.45429626225975633,
          0.48212544139902475,
          0.23604692206446382,
          0.27439847928577155,
          0.32591262240762947,
          0.4057913582518363,
          0.4597413634140671,
          0.5101654541370206,
          0.4077085236705427,
          0.27969647196828634,
          0.1790908665032246,
          0.1334600968414242,
          0.2949430111508867,
          0.3590282995241673,
          0.41132462539361464,
          0.5021530917171098,
          0.6035845198843243,
          0.7062612577938573,
          0.5662472443782849,
          0.4212165507312379,
          0.3572128255002515,
          0.2321229429063538,
          0.20845977186989076,
          0.45565355582042116,
          0.4822927070301412,
          0.30424407862362235,
          0.35182040863906106,
          0.3913691847271561,
          0.37240535059933716,
          0.20445170192208273,
          0.3049158535612683,
          0.34966333379573855,
          0.40676787864493463,
          0.5209361479849653,
          0.5722368719766691
         ],
         "yaxis": "y"
        },
        {
         "hovertemplate": "<b>OLS trendline</b><br>f_eqv / x_size = 0.097459 * distance + 0.0146376<br>R<sup>2</sup>=0.945886<br><br>distance=%{x}<br>f_eqv / x_size=%{y} <b>(trend)</b><extra></extra>",
         "legendgroup": "",
         "marker": {
          "color": "#636efa",
          "symbol": "circle"
         },
         "mode": "lines",
         "name": "",
         "showlegend": false,
         "type": "scatter",
         "x": [
          0.85,
          1.06,
          1.09,
          1.12,
          1.16,
          1.19,
          1.2,
          1.2,
          1.25,
          1.32,
          1.33,
          1.33,
          1.34,
          1.34,
          1.36,
          1.37,
          1.43,
          1.48,
          1.52,
          1.53,
          1.54,
          1.57,
          1.57,
          1.58,
          1.6,
          1.61,
          1.64,
          1.64,
          1.67,
          1.67,
          1.68,
          1.7,
          1.75,
          1.75,
          1.77,
          1.78,
          1.81,
          1.81,
          1.83,
          1.84,
          1.85,
          1.89,
          1.89,
          1.9,
          1.93,
          1.93,
          1.95,
          1.97,
          1.98,
          1.98,
          2,
          2,
          2.02,
          2.04,
          2.04,
          2.05,
          2.07,
          2.07,
          2.07,
          2.1,
          2.1,
          2.1,
          2.1,
          2.1,
          2.11,
          2.11,
          2.12,
          2.12,
          2.12,
          2.14,
          2.18,
          2.19,
          2.2,
          2.22,
          2.23,
          2.24,
          2.26,
          2.27,
          2.28,
          2.31,
          2.32,
          2.32,
          2.32,
          2.33,
          2.36,
          2.38,
          2.38,
          2.39,
          2.39,
          2.41,
          2.42,
          2.43,
          2.43,
          2.43,
          2.47,
          2.49,
          2.5,
          2.5,
          2.51,
          2.51,
          2.52,
          2.53,
          2.54,
          2.55,
          2.55,
          2.6,
          2.6,
          2.6,
          2.61,
          2.61,
          2.65,
          2.65,
          2.66,
          2.66,
          2.66,
          2.67,
          2.67,
          2.67,
          2.68,
          2.69,
          2.7,
          2.72,
          2.72,
          2.73,
          2.74,
          2.74,
          2.77,
          2.78,
          2.78,
          2.8,
          2.8,
          2.81,
          2.81,
          2.82,
          2.84,
          2.84,
          2.85,
          2.85,
          2.86,
          2.86,
          2.87,
          2.87,
          2.87,
          2.89,
          2.9,
          2.9,
          2.91,
          2.92,
          2.92,
          2.92,
          2.96,
          2.96,
          2.98,
          3,
          3,
          3.01,
          3.02,
          3.03,
          3.03,
          3.05,
          3.05,
          3.05,
          3.09,
          3.1,
          3.1,
          3.11,
          3.11,
          3.12,
          3.15,
          3.16,
          3.16,
          3.18,
          3.18,
          3.2,
          3.23,
          3.23,
          3.23,
          3.23,
          3.24,
          3.24,
          3.24,
          3.24,
          3.27,
          3.27,
          3.27,
          3.27,
          3.29,
          3.31,
          3.33,
          3.33,
          3.35,
          3.35,
          3.36,
          3.37,
          3.37,
          3.41,
          3.41,
          3.42,
          3.43,
          3.43,
          3.44,
          3.44,
          3.44,
          3.44,
          3.45,
          3.45,
          3.46,
          3.46,
          3.46,
          3.49,
          3.5,
          3.5,
          3.5,
          3.51,
          3.52,
          3.52,
          3.52,
          3.52,
          3.53,
          3.54,
          3.55,
          3.56,
          3.6,
          3.61,
          3.63,
          3.63,
          3.64,
          3.65,
          3.67,
          3.68,
          3.68,
          3.68,
          3.68,
          3.71,
          3.71,
          3.72,
          3.72,
          3.73,
          3.75,
          3.79,
          3.79,
          3.79,
          3.81,
          3.82,
          3.83,
          3.84,
          3.84,
          3.85,
          3.87,
          3.88,
          3.89,
          3.91,
          3.91,
          3.91,
          3.93,
          3.93,
          3.94,
          3.94,
          3.95,
          3.95,
          3.96,
          3.96,
          3.98,
          4.01,
          4.01,
          4.01,
          4.01,
          4.02,
          4.03,
          4.03,
          4.06,
          4.07,
          4.08,
          4.08,
          4.08,
          4.09,
          4.1,
          4.1,
          4.11,
          4.13,
          4.15,
          4.16,
          4.16,
          4.17,
          4.19,
          4.2,
          4.22,
          4.26,
          4.28,
          4.3,
          4.3,
          4.3,
          4.33,
          4.33,
          4.34,
          4.35,
          4.35,
          4.36,
          4.36,
          4.37,
          4.37,
          4.37,
          4.38,
          4.39,
          4.39,
          4.39,
          4.39,
          4.4,
          4.41,
          4.41,
          4.41,
          4.41,
          4.42,
          4.42,
          4.42,
          4.42,
          4.43,
          4.43,
          4.45,
          4.45,
          4.45,
          4.47,
          4.47,
          4.5,
          4.5,
          4.52,
          4.54,
          4.56,
          4.57,
          4.58,
          4.59,
          4.6,
          4.61,
          4.62,
          4.62,
          4.63,
          4.64,
          4.67,
          4.69,
          4.69,
          4.7,
          4.7,
          4.7,
          4.71,
          4.73,
          4.79,
          4.8,
          4.82,
          4.84,
          4.84,
          4.85,
          4.85,
          4.86,
          4.88,
          4.88,
          4.9,
          4.91,
          4.91,
          4.94,
          4.94,
          4.96,
          4.96,
          4.96,
          4.98,
          4.98,
          4.99,
          5,
          5,
          5.01,
          5.01,
          5.02,
          5.02,
          5.02,
          5.02,
          5.03,
          5.04,
          5.07,
          5.09,
          5.12,
          5.13,
          5.13,
          5.15,
          5.15,
          5.2,
          5.22,
          5.24,
          5.24,
          5.26,
          5.27,
          5.27,
          5.36,
          5.38,
          5.39,
          5.4,
          5.4,
          5.4,
          5.41,
          5.46,
          5.47,
          5.49,
          5.49,
          5.5,
          5.5,
          5.51,
          5.53,
          5.53,
          5.54,
          5.54,
          5.54,
          5.55,
          5.56,
          5.56,
          5.56,
          5.56,
          5.57,
          5.57,
          5.58,
          5.58,
          5.62,
          5.62,
          5.65,
          5.67,
          5.67,
          5.69,
          5.72,
          5.73,
          5.76,
          5.79,
          5.79,
          5.82,
          5.83,
          5.88,
          5.88,
          5.95,
          5.96,
          5.97,
          5.98,
          6,
          6.01,
          6.04,
          6.05,
          6.08,
          6.1,
          6.1,
          6.12,
          6.13,
          6.14,
          6.16,
          6.16,
          6.16,
          6.19,
          6.2,
          6.21,
          6.21,
          6.21,
          6.26,
          6.26,
          6.29,
          6.29,
          6.31,
          6.31,
          6.32,
          6.32,
          6.35,
          6.38,
          6.4,
          6.4,
          6.41,
          6.41,
          6.43,
          6.44,
          6.49,
          6.52,
          6.53,
          6.55,
          6.61,
          6.63,
          6.67,
          6.68,
          6.69,
          6.71,
          6.79,
          6.83,
          6.85,
          6.87,
          6.87,
          6.88,
          6.9,
          6.9,
          6.94,
          7.05,
          7.06,
          7.07,
          7.12,
          7.16,
          7.17,
          7.17,
          7.19,
          7.2,
          7.24,
          7.29,
          7.33,
          7.37,
          7.39,
          7.43,
          7.47,
          7.52,
          7.55,
          7.7,
          7.74,
          7.78,
          7.79,
          7.86,
          7.92,
          8.03,
          8.05,
          8.25,
          8.3,
          8.31,
          8.41,
          8.44,
          8.48,
          8.51,
          8.74,
          8.78,
          8.8,
          9.06,
          9.38
         ],
         "xaxis": "x",
         "y": [
          0.09747776683387596,
          0.11794415251237966,
          0.12086792189502304,
          0.12379169127766645,
          0.12769005045452428,
          0.13061381983716766,
          0.13158840963138213,
          0.13158840963138213,
          0.13646135860245442,
          0.14328348716195569,
          0.14425807695617013,
          0.14425807695617013,
          0.1452326667503846,
          0.1452326667503846,
          0.14718184633881354,
          0.14815643613302798,
          0.15400397489831474,
          0.15887692386938707,
          0.1627752830462449,
          0.16374987284045936,
          0.16472446263467383,
          0.1676482320173172,
          0.1676482320173172,
          0.16862282181153168,
          0.1705720013999606,
          0.17154659119417506,
          0.17447036057681842,
          0.17447036057681842,
          0.17739412995946183,
          0.17739412995946183,
          0.17836871975367627,
          0.1803178993421052,
          0.1851908483131775,
          0.1851908483131775,
          0.18714002790160644,
          0.1881146176958209,
          0.1910383870784643,
          0.1910383870784643,
          0.1929875666668932,
          0.19396215646110768,
          0.19493674625532215,
          0.19883510543217997,
          0.19883510543217997,
          0.19980969522639444,
          0.20273346460903782,
          0.20273346460903782,
          0.20468264419746673,
          0.20663182378589567,
          0.20760641358011014,
          0.20760641358011014,
          0.20955559316853906,
          0.20955559316853906,
          0.21150477275696797,
          0.2134539523453969,
          0.2134539523453969,
          0.21442854213961135,
          0.21637772172804026,
          0.21637772172804026,
          0.21637772172804026,
          0.21930149111068367,
          0.21930149111068367,
          0.21930149111068367,
          0.21930149111068367,
          0.21930149111068367,
          0.2202760809048981,
          0.2202760809048981,
          0.2212506706991126,
          0.2212506706991126,
          0.2212506706991126,
          0.22319985028754152,
          0.22709820946439938,
          0.22807279925861382,
          0.22904738905282832,
          0.23099656864125723,
          0.23197115843547167,
          0.23294574822968617,
          0.23489492781811502,
          0.23586951761232952,
          0.23684410740654396,
          0.23976787678918737,
          0.24074246658340182,
          0.24074246658340182,
          0.24074246658340182,
          0.24171705637761629,
          0.24464082576025967,
          0.24659000534868858,
          0.24659000534868858,
          0.24756459514290308,
          0.24756459514290308,
          0.249513774731332,
          0.2504883645255464,
          0.2514629543197609,
          0.2514629543197609,
          0.2514629543197609,
          0.2553613134966188,
          0.25731049308504766,
          0.2582850828792621,
          0.2582850828792621,
          0.25925967267347655,
          0.25925967267347655,
          0.26023426246769105,
          0.2612088522619055,
          0.26218344205612,
          0.26315803185033443,
          0.26315803185033443,
          0.26803098082140675,
          0.26803098082140675,
          0.26803098082140675,
          0.2690055706156212,
          0.2690055706156212,
          0.27290392979247907,
          0.27290392979247907,
          0.2738785195866935,
          0.2738785195866935,
          0.2738785195866935,
          0.27485310938090796,
          0.27485310938090796,
          0.27485310938090796,
          0.27582769917512245,
          0.2768022889693369,
          0.2777768787635514,
          0.27972605835198033,
          0.27972605835198033,
          0.2807006481461948,
          0.2816752379404092,
          0.2816752379404092,
          0.2845990073230526,
          0.28557359711726704,
          0.28557359711726704,
          0.287522776705696,
          0.287522776705696,
          0.2884973664999104,
          0.2884973664999104,
          0.28947195629412487,
          0.2914211358825538,
          0.2914211358825538,
          0.2923957256767683,
          0.2923957256767683,
          0.29337031547098275,
          0.29337031547098275,
          0.29434490526519724,
          0.29434490526519724,
          0.29434490526519724,
          0.2962940848536261,
          0.29726867464784057,
          0.29726867464784057,
          0.29824326444205507,
          0.2992178542362695,
          0.2992178542362695,
          0.2992178542362695,
          0.3031162134131274,
          0.3031162134131274,
          0.3050653930015563,
          0.3070145725899852,
          0.3070145725899852,
          0.30798916238419966,
          0.30896375217841415,
          0.3099383419726286,
          0.3099383419726286,
          0.3118875215610575,
          0.3118875215610575,
          0.3118875215610575,
          0.31578588073791536,
          0.31676047053212986,
          0.31676047053212986,
          0.3177350603263443,
          0.3177350603263443,
          0.31870965012055874,
          0.3216334195032021,
          0.3226080092974166,
          0.3226080092974166,
          0.32455718888584556,
          0.32455718888584556,
          0.32650636847427444,
          0.3294301378569178,
          0.3294301378569178,
          0.3294301378569178,
          0.3294301378569178,
          0.3304047276511323,
          0.3304047276511323,
          0.3304047276511323,
          0.3304047276511323,
          0.33332849703377565,
          0.33332849703377565,
          0.33332849703377565,
          0.33332849703377565,
          0.3352776766222046,
          0.33722685621063353,
          0.33917603579906247,
          0.33917603579906247,
          0.34112521538749135,
          0.34112521538749135,
          0.3420998051817058,
          0.3430743949759203,
          0.3430743949759203,
          0.3469727541527782,
          0.3469727541527782,
          0.3479473439469926,
          0.34892193374120706,
          0.34892193374120706,
          0.3498965235354215,
          0.3498965235354215,
          0.3498965235354215,
          0.3498965235354215,
          0.350871113329636,
          0.350871113329636,
          0.35184570312385044,
          0.35184570312385044,
          0.35184570312385044,
          0.3547694725064939,
          0.35574406230070826,
          0.35574406230070826,
          0.35574406230070826,
          0.3567186520949227,
          0.3576932418891372,
          0.3576932418891372,
          0.3576932418891372,
          0.3576932418891372,
          0.35866783168335165,
          0.35964242147756614,
          0.3606170112717806,
          0.3615916010659951,
          0.3654899602428529,
          0.36646455003706735,
          0.3684137296254963,
          0.3684137296254963,
          0.3693883194197108,
          0.37036290921392523,
          0.3723120888023541,
          0.3732866785965686,
          0.3732866785965686,
          0.3732866785965686,
          0.3732866785965686,
          0.376210447979212,
          0.376210447979212,
          0.3771850377734265,
          0.3771850377734265,
          0.37815962756764093,
          0.3801088071560698,
          0.3840071663329277,
          0.3840071663329277,
          0.3840071663329277,
          0.3859563459213566,
          0.386930935715571,
          0.3879055255097855,
          0.38888011530399996,
          0.38888011530399996,
          0.38985470509821446,
          0.3918038846866434,
          0.39277847448085784,
          0.3937530642750723,
          0.3957022438635012,
          0.3957022438635012,
          0.3957022438635012,
          0.39765142345193016,
          0.39765142345193016,
          0.3986260132461446,
          0.3986260132461446,
          0.3996006030403591,
          0.3996006030403591,
          0.40057519283457355,
          0.40057519283457355,
          0.40252437242300243,
          0.4054481418056458,
          0.4054481418056458,
          0.4054481418056458,
          0.4054481418056458,
          0.40642273159986025,
          0.40739732139407475,
          0.40739732139407475,
          0.4103210907767181,
          0.41129568057093263,
          0.4122702703651471,
          0.4122702703651471,
          0.4122702703651471,
          0.4132448601593615,
          0.41421944995357596,
          0.41421944995357596,
          0.41519403974779046,
          0.41714321933621934,
          0.41909239892464833,
          0.4200669887188628,
          0.4200669887188628,
          0.4210415785130772,
          0.42299075810150616,
          0.4239653478957206,
          0.4259145274841495,
          0.42981288666100737,
          0.4317620662494363,
          0.4337112458378652,
          0.4337112458378652,
          0.4337112458378652,
          0.4366350152205086,
          0.4366350152205086,
          0.43760960501472307,
          0.4385841948089375,
          0.4385841948089375,
          0.439558784603152,
          0.439558784603152,
          0.44053337439736645,
          0.44053337439736645,
          0.44053337439736645,
          0.4415079641915809,
          0.44248255398579533,
          0.44248255398579533,
          0.44248255398579533,
          0.44248255398579533,
          0.4434571437800099,
          0.44443173357422433,
          0.44443173357422433,
          0.44443173357422433,
          0.44443173357422433,
          0.4454063233684388,
          0.4454063233684388,
          0.4454063233684388,
          0.4454063233684388,
          0.4463809131626532,
          0.4463809131626532,
          0.44833009275108215,
          0.44833009275108215,
          0.44833009275108215,
          0.45027927233951104,
          0.45027927233951104,
          0.4532030417221545,
          0.4532030417221545,
          0.4551522213105833,
          0.4571014008990123,
          0.4590505804874412,
          0.4600251702816557,
          0.4609997600758701,
          0.46197434987008457,
          0.462948939664299,
          0.46392352945851356,
          0.464898119252728,
          0.464898119252728,
          0.46587270904694245,
          0.4668472988411569,
          0.46977106822380027,
          0.47172024781222927,
          0.47172024781222927,
          0.4726948376064437,
          0.4726948376064437,
          0.4726948376064437,
          0.47366942740065815,
          0.4756186069890871,
          0.48146614575437385,
          0.4824407355485883,
          0.48438991513701724,
          0.4863390947254461,
          0.4863390947254461,
          0.48731368451966056,
          0.48731368451966056,
          0.4882882743138751,
          0.490237453902304,
          0.490237453902304,
          0.49218663349073294,
          0.4931612232849474,
          0.4931612232849474,
          0.4960849926675908,
          0.4960849926675908,
          0.4980341722560197,
          0.4980341722560197,
          0.4980341722560197,
          0.49998335184444864,
          0.49998335184444864,
          0.500957941638663,
          0.5019325314328775,
          0.5019325314328775,
          0.5029071212270919,
          0.5029071212270919,
          0.5038817110213064,
          0.5038817110213064,
          0.5038817110213064,
          0.5038817110213064,
          0.5048563008155209,
          0.5058308906097353,
          0.5087546599923788,
          0.5107038395808077,
          0.513627608963451,
          0.5146021987576654,
          0.5146021987576654,
          0.5165513783460944,
          0.5165513783460944,
          0.5214243273171667,
          0.5233735069055956,
          0.5253226864940246,
          0.5253226864940246,
          0.5272718660824535,
          0.5282464558766679,
          0.5282464558766679,
          0.5370177640245981,
          0.538966943613027,
          0.5399415334072415,
          0.540916123201456,
          0.540916123201456,
          0.540916123201456,
          0.5418907129956704,
          0.5467636619667428,
          0.5477382517609571,
          0.5496874313493861,
          0.5496874313493861,
          0.5506620211436005,
          0.5506620211436005,
          0.551636610937815,
          0.5535857905262439,
          0.5535857905262439,
          0.5545603803204584,
          0.5545603803204584,
          0.5545603803204584,
          0.5555349701146728,
          0.5565095599088873,
          0.5565095599088873,
          0.5565095599088873,
          0.5565095599088873,
          0.5574841497031018,
          0.5574841497031018,
          0.5584587394973163,
          0.5584587394973163,
          0.562357098674174,
          0.562357098674174,
          0.5652808680568175,
          0.5672300476452464,
          0.5672300476452464,
          0.5691792272336753,
          0.5721029966163187,
          0.5730775864105332,
          0.5760013557931766,
          0.57892512517582,
          0.57892512517582,
          0.5818488945584633,
          0.5828234843526778,
          0.5876964333237501,
          0.5876964333237501,
          0.5945185618832514,
          0.5954931516774657,
          0.5964677414716802,
          0.5974423312658947,
          0.5993915108543236,
          0.600366100648538,
          0.6032898700311815,
          0.6042644598253959,
          0.6071882292080393,
          0.6091374087964682,
          0.6091374087964682,
          0.6110865883848972,
          0.6120611781791117,
          0.613035767973326,
          0.614984947561755,
          0.614984947561755,
          0.614984947561755,
          0.6179087169443984,
          0.6188833067386129,
          0.6198578965328273,
          0.6198578965328273,
          0.6198578965328273,
          0.6247308455038996,
          0.6247308455038996,
          0.6276546148865431,
          0.6276546148865431,
          0.629603794474972,
          0.629603794474972,
          0.6305783842691864,
          0.6305783842691864,
          0.6335021536518297,
          0.6364259230344732,
          0.6383751026229021,
          0.6383751026229021,
          0.6393496924171166,
          0.6393496924171166,
          0.6412988720055455,
          0.64227346179976,
          0.6471464107708322,
          0.6500701801534756,
          0.6510447699476901,
          0.652993949536119,
          0.6588414883014058,
          0.6607906678898346,
          0.6646890270666925,
          0.665663616860907,
          0.6666382066551215,
          0.6685873862435504,
          0.6763841045972661,
          0.6802824637741239,
          0.6822316433625528,
          0.6841808229509818,
          0.6841808229509818,
          0.6851554127451962,
          0.6871045923336252,
          0.6871045923336252,
          0.6910029515104831,
          0.7017234392468421,
          0.7026980290410565,
          0.703672618835271,
          0.7085455678063434,
          0.7124439269832011,
          0.7134185167774156,
          0.7134185167774156,
          0.7153676963658446,
          0.716342286160059,
          0.7202406453369169,
          0.7251135943079892,
          0.729011953484847,
          0.7329103126617049,
          0.7348594922501338,
          0.7387578514269916,
          0.7426562106038495,
          0.7475291595749217,
          0.7504529289575651,
          0.7650717758707821,
          0.76897013504764,
          0.7728684942244978,
          0.7738430840187123,
          0.7806652125782135,
          0.7865127513435003,
          0.7972332390798592,
          0.7991824186682883,
          0.8186742145525775,
          0.8235471635236499,
          0.8245217533178643,
          0.8342676512600089,
          0.8371914206426522,
          0.8410897798195102,
          0.8440135492021534,
          0.8664291144690861,
          0.8703274736459439,
          0.872276653234373,
          0.8976159878839489,
          0.9288028612988117
         ],
         "yaxis": "y"
        }
       ],
       "layout": {
        "legend": {
         "tracegroupgap": 0
        },
        "margin": {
         "t": 60
        },
        "template": {
         "data": {
          "bar": [
           {
            "error_x": {
             "color": "#2a3f5f"
            },
            "error_y": {
             "color": "#2a3f5f"
            },
            "marker": {
             "line": {
              "color": "#E5ECF6",
              "width": 0.5
             },
             "pattern": {
              "fillmode": "overlay",
              "size": 10,
              "solidity": 0.2
             }
            },
            "type": "bar"
           }
          ],
          "barpolar": [
           {
            "marker": {
             "line": {
              "color": "#E5ECF6",
              "width": 0.5
             },
             "pattern": {
              "fillmode": "overlay",
              "size": 10,
              "solidity": 0.2
             }
            },
            "type": "barpolar"
           }
          ],
          "carpet": [
           {
            "aaxis": {
             "endlinecolor": "#2a3f5f",
             "gridcolor": "white",
             "linecolor": "white",
             "minorgridcolor": "white",
             "startlinecolor": "#2a3f5f"
            },
            "baxis": {
             "endlinecolor": "#2a3f5f",
             "gridcolor": "white",
             "linecolor": "white",
             "minorgridcolor": "white",
             "startlinecolor": "#2a3f5f"
            },
            "type": "carpet"
           }
          ],
          "choropleth": [
           {
            "colorbar": {
             "outlinewidth": 0,
             "ticks": ""
            },
            "type": "choropleth"
           }
          ],
          "contour": [
           {
            "colorbar": {
             "outlinewidth": 0,
             "ticks": ""
            },
            "colorscale": [
             [
              0,
              "#0d0887"
             ],
             [
              0.1111111111111111,
              "#46039f"
             ],
             [
              0.2222222222222222,
              "#7201a8"
             ],
             [
              0.3333333333333333,
              "#9c179e"
             ],
             [
              0.4444444444444444,
              "#bd3786"
             ],
             [
              0.5555555555555556,
              "#d8576b"
             ],
             [
              0.6666666666666666,
              "#ed7953"
             ],
             [
              0.7777777777777778,
              "#fb9f3a"
             ],
             [
              0.8888888888888888,
              "#fdca26"
             ],
             [
              1,
              "#f0f921"
             ]
            ],
            "type": "contour"
           }
          ],
          "contourcarpet": [
           {
            "colorbar": {
             "outlinewidth": 0,
             "ticks": ""
            },
            "type": "contourcarpet"
           }
          ],
          "heatmap": [
           {
            "colorbar": {
             "outlinewidth": 0,
             "ticks": ""
            },
            "colorscale": [
             [
              0,
              "#0d0887"
             ],
             [
              0.1111111111111111,
              "#46039f"
             ],
             [
              0.2222222222222222,
              "#7201a8"
             ],
             [
              0.3333333333333333,
              "#9c179e"
             ],
             [
              0.4444444444444444,
              "#bd3786"
             ],
             [
              0.5555555555555556,
              "#d8576b"
             ],
             [
              0.6666666666666666,
              "#ed7953"
             ],
             [
              0.7777777777777778,
              "#fb9f3a"
             ],
             [
              0.8888888888888888,
              "#fdca26"
             ],
             [
              1,
              "#f0f921"
             ]
            ],
            "type": "heatmap"
           }
          ],
          "heatmapgl": [
           {
            "colorbar": {
             "outlinewidth": 0,
             "ticks": ""
            },
            "colorscale": [
             [
              0,
              "#0d0887"
             ],
             [
              0.1111111111111111,
              "#46039f"
             ],
             [
              0.2222222222222222,
              "#7201a8"
             ],
             [
              0.3333333333333333,
              "#9c179e"
             ],
             [
              0.4444444444444444,
              "#bd3786"
             ],
             [
              0.5555555555555556,
              "#d8576b"
             ],
             [
              0.6666666666666666,
              "#ed7953"
             ],
             [
              0.7777777777777778,
              "#fb9f3a"
             ],
             [
              0.8888888888888888,
              "#fdca26"
             ],
             [
              1,
              "#f0f921"
             ]
            ],
            "type": "heatmapgl"
           }
          ],
          "histogram": [
           {
            "marker": {
             "pattern": {
              "fillmode": "overlay",
              "size": 10,
              "solidity": 0.2
             }
            },
            "type": "histogram"
           }
          ],
          "histogram2d": [
           {
            "colorbar": {
             "outlinewidth": 0,
             "ticks": ""
            },
            "colorscale": [
             [
              0,
              "#0d0887"
             ],
             [
              0.1111111111111111,
              "#46039f"
             ],
             [
              0.2222222222222222,
              "#7201a8"
             ],
             [
              0.3333333333333333,
              "#9c179e"
             ],
             [
              0.4444444444444444,
              "#bd3786"
             ],
             [
              0.5555555555555556,
              "#d8576b"
             ],
             [
              0.6666666666666666,
              "#ed7953"
             ],
             [
              0.7777777777777778,
              "#fb9f3a"
             ],
             [
              0.8888888888888888,
              "#fdca26"
             ],
             [
              1,
              "#f0f921"
             ]
            ],
            "type": "histogram2d"
           }
          ],
          "histogram2dcontour": [
           {
            "colorbar": {
             "outlinewidth": 0,
             "ticks": ""
            },
            "colorscale": [
             [
              0,
              "#0d0887"
             ],
             [
              0.1111111111111111,
              "#46039f"
             ],
             [
              0.2222222222222222,
              "#7201a8"
             ],
             [
              0.3333333333333333,
              "#9c179e"
             ],
             [
              0.4444444444444444,
              "#bd3786"
             ],
             [
              0.5555555555555556,
              "#d8576b"
             ],
             [
              0.6666666666666666,
              "#ed7953"
             ],
             [
              0.7777777777777778,
              "#fb9f3a"
             ],
             [
              0.8888888888888888,
              "#fdca26"
             ],
             [
              1,
              "#f0f921"
             ]
            ],
            "type": "histogram2dcontour"
           }
          ],
          "mesh3d": [
           {
            "colorbar": {
             "outlinewidth": 0,
             "ticks": ""
            },
            "type": "mesh3d"
           }
          ],
          "parcoords": [
           {
            "line": {
             "colorbar": {
              "outlinewidth": 0,
              "ticks": ""
             }
            },
            "type": "parcoords"
           }
          ],
          "pie": [
           {
            "automargin": true,
            "type": "pie"
           }
          ],
          "scatter": [
           {
            "fillpattern": {
             "fillmode": "overlay",
             "size": 10,
             "solidity": 0.2
            },
            "type": "scatter"
           }
          ],
          "scatter3d": [
           {
            "line": {
             "colorbar": {
              "outlinewidth": 0,
              "ticks": ""
             }
            },
            "marker": {
             "colorbar": {
              "outlinewidth": 0,
              "ticks": ""
             }
            },
            "type": "scatter3d"
           }
          ],
          "scattercarpet": [
           {
            "marker": {
             "colorbar": {
              "outlinewidth": 0,
              "ticks": ""
             }
            },
            "type": "scattercarpet"
           }
          ],
          "scattergeo": [
           {
            "marker": {
             "colorbar": {
              "outlinewidth": 0,
              "ticks": ""
             }
            },
            "type": "scattergeo"
           }
          ],
          "scattergl": [
           {
            "marker": {
             "colorbar": {
              "outlinewidth": 0,
              "ticks": ""
             }
            },
            "type": "scattergl"
           }
          ],
          "scattermapbox": [
           {
            "marker": {
             "colorbar": {
              "outlinewidth": 0,
              "ticks": ""
             }
            },
            "type": "scattermapbox"
           }
          ],
          "scatterpolar": [
           {
            "marker": {
             "colorbar": {
              "outlinewidth": 0,
              "ticks": ""
             }
            },
            "type": "scatterpolar"
           }
          ],
          "scatterpolargl": [
           {
            "marker": {
             "colorbar": {
              "outlinewidth": 0,
              "ticks": ""
             }
            },
            "type": "scatterpolargl"
           }
          ],
          "scatterternary": [
           {
            "marker": {
             "colorbar": {
              "outlinewidth": 0,
              "ticks": ""
             }
            },
            "type": "scatterternary"
           }
          ],
          "surface": [
           {
            "colorbar": {
             "outlinewidth": 0,
             "ticks": ""
            },
            "colorscale": [
             [
              0,
              "#0d0887"
             ],
             [
              0.1111111111111111,
              "#46039f"
             ],
             [
              0.2222222222222222,
              "#7201a8"
             ],
             [
              0.3333333333333333,
              "#9c179e"
             ],
             [
              0.4444444444444444,
              "#bd3786"
             ],
             [
              0.5555555555555556,
              "#d8576b"
             ],
             [
              0.6666666666666666,
              "#ed7953"
             ],
             [
              0.7777777777777778,
              "#fb9f3a"
             ],
             [
              0.8888888888888888,
              "#fdca26"
             ],
             [
              1,
              "#f0f921"
             ]
            ],
            "type": "surface"
           }
          ],
          "table": [
           {
            "cells": {
             "fill": {
              "color": "#EBF0F8"
             },
             "line": {
              "color": "white"
             }
            },
            "header": {
             "fill": {
              "color": "#C8D4E3"
             },
             "line": {
              "color": "white"
             }
            },
            "type": "table"
           }
          ]
         },
         "layout": {
          "annotationdefaults": {
           "arrowcolor": "#2a3f5f",
           "arrowhead": 0,
           "arrowwidth": 1
          },
          "autotypenumbers": "strict",
          "coloraxis": {
           "colorbar": {
            "outlinewidth": 0,
            "ticks": ""
           }
          },
          "colorscale": {
           "diverging": [
            [
             0,
             "#8e0152"
            ],
            [
             0.1,
             "#c51b7d"
            ],
            [
             0.2,
             "#de77ae"
            ],
            [
             0.3,
             "#f1b6da"
            ],
            [
             0.4,
             "#fde0ef"
            ],
            [
             0.5,
             "#f7f7f7"
            ],
            [
             0.6,
             "#e6f5d0"
            ],
            [
             0.7,
             "#b8e186"
            ],
            [
             0.8,
             "#7fbc41"
            ],
            [
             0.9,
             "#4d9221"
            ],
            [
             1,
             "#276419"
            ]
           ],
           "sequential": [
            [
             0,
             "#0d0887"
            ],
            [
             0.1111111111111111,
             "#46039f"
            ],
            [
             0.2222222222222222,
             "#7201a8"
            ],
            [
             0.3333333333333333,
             "#9c179e"
            ],
            [
             0.4444444444444444,
             "#bd3786"
            ],
            [
             0.5555555555555556,
             "#d8576b"
            ],
            [
             0.6666666666666666,
             "#ed7953"
            ],
            [
             0.7777777777777778,
             "#fb9f3a"
            ],
            [
             0.8888888888888888,
             "#fdca26"
            ],
            [
             1,
             "#f0f921"
            ]
           ],
           "sequentialminus": [
            [
             0,
             "#0d0887"
            ],
            [
             0.1111111111111111,
             "#46039f"
            ],
            [
             0.2222222222222222,
             "#7201a8"
            ],
            [
             0.3333333333333333,
             "#9c179e"
            ],
            [
             0.4444444444444444,
             "#bd3786"
            ],
            [
             0.5555555555555556,
             "#d8576b"
            ],
            [
             0.6666666666666666,
             "#ed7953"
            ],
            [
             0.7777777777777778,
             "#fb9f3a"
            ],
            [
             0.8888888888888888,
             "#fdca26"
            ],
            [
             1,
             "#f0f921"
            ]
           ]
          },
          "colorway": [
           "#636efa",
           "#EF553B",
           "#00cc96",
           "#ab63fa",
           "#FFA15A",
           "#19d3f3",
           "#FF6692",
           "#B6E880",
           "#FF97FF",
           "#FECB52"
          ],
          "font": {
           "color": "#2a3f5f"
          },
          "geo": {
           "bgcolor": "white",
           "lakecolor": "white",
           "landcolor": "#E5ECF6",
           "showlakes": true,
           "showland": true,
           "subunitcolor": "white"
          },
          "hoverlabel": {
           "align": "left"
          },
          "hovermode": "closest",
          "mapbox": {
           "style": "light"
          },
          "paper_bgcolor": "white",
          "plot_bgcolor": "#E5ECF6",
          "polar": {
           "angularaxis": {
            "gridcolor": "white",
            "linecolor": "white",
            "ticks": ""
           },
           "bgcolor": "#E5ECF6",
           "radialaxis": {
            "gridcolor": "white",
            "linecolor": "white",
            "ticks": ""
           }
          },
          "scene": {
           "xaxis": {
            "backgroundcolor": "#E5ECF6",
            "gridcolor": "white",
            "gridwidth": 2,
            "linecolor": "white",
            "showbackground": true,
            "ticks": "",
            "zerolinecolor": "white"
           },
           "yaxis": {
            "backgroundcolor": "#E5ECF6",
            "gridcolor": "white",
            "gridwidth": 2,
            "linecolor": "white",
            "showbackground": true,
            "ticks": "",
            "zerolinecolor": "white"
           },
           "zaxis": {
            "backgroundcolor": "#E5ECF6",
            "gridcolor": "white",
            "gridwidth": 2,
            "linecolor": "white",
            "showbackground": true,
            "ticks": "",
            "zerolinecolor": "white"
           }
          },
          "shapedefaults": {
           "line": {
            "color": "#2a3f5f"
           }
          },
          "ternary": {
           "aaxis": {
            "gridcolor": "white",
            "linecolor": "white",
            "ticks": ""
           },
           "baxis": {
            "gridcolor": "white",
            "linecolor": "white",
            "ticks": ""
           },
           "bgcolor": "#E5ECF6",
           "caxis": {
            "gridcolor": "white",
            "linecolor": "white",
            "ticks": ""
           }
          },
          "title": {
           "x": 0.05
          },
          "xaxis": {
           "automargin": true,
           "gridcolor": "white",
           "linecolor": "white",
           "ticks": "",
           "title": {
            "standoff": 15
           },
           "zerolinecolor": "white",
           "zerolinewidth": 2
          },
          "yaxis": {
           "automargin": true,
           "gridcolor": "white",
           "linecolor": "white",
           "ticks": "",
           "title": {
            "standoff": 15
           },
           "zerolinecolor": "white",
           "zerolinewidth": 2
          }
         }
        },
        "xaxis": {
         "anchor": "y",
         "domain": [
          0,
          1
         ],
         "title": {
          "text": "distance"
         }
        },
        "yaxis": {
         "anchor": "x",
         "domain": [
          0,
          1
         ],
         "title": {
          "text": "f_eqv / x_size"
         }
        }
       }
      },
      "text/html": [
       "<div>                            <div id=\"8c056921-d1f4-4c3b-a811-92d91f4044b8\" class=\"plotly-graph-div\" style=\"height:525px; width:100%;\"></div>            <script type=\"text/javascript\">                require([\"plotly\"], function(Plotly) {                    window.PLOTLYENV=window.PLOTLYENV || {};                                    if (document.getElementById(\"8c056921-d1f4-4c3b-a811-92d91f4044b8\")) {                    Plotly.newPlot(                        \"8c056921-d1f4-4c3b-a811-92d91f4044b8\",                        [{\"customdata\":[[\"img_1596.jpg\"],[\"img_1600.jpg\"],[\"img_1601.jpg\"],[\"img_1603.jpg\"],[\"img_1605.jpg\"],[\"img_1606.jpg\"],[\"img_1607.jpg\"],[\"img_1608.jpg\"],[\"img_1612.jpg\"],[\"img_1613.jpg\"],[\"img_1615.jpg\"],[\"img_1616.jpg\"],[\"img_1618.jpg\"],[\"img_1619.jpg\"],[\"img_1620.jpg\"],[\"img_1621.jpg\"],[\"img_1623.jpg\"],[\"img_1626.jpg\"],[\"img_1627.jpg\"],[\"img_1628.jpg\"],[\"img_1631.jpg\"],[\"img_1634.jpg\"],[\"img_1635.jpg\"],[\"img_1637.jpg\"],[\"img_1640.jpg\"],[\"img_1641.jpg\"],[\"img_1643.jpg\"],[\"img_1645.jpg\"],[\"img_1647.jpg\"],[\"img_1649.jpg\"],[\"img_1650.jpg\"],[\"img_1653.jpg\"],[\"img_1656.jpg\"],[\"img_1658.jpg\"],[\"img_1662.jpg\"],[\"img_1665.jpg\"],[\"img_1666.jpg\"],[\"img_1667.jpg\"],[\"img_1672.jpg\"],[\"img_1673.jpg\"],[\"img_1674.jpg\"],[\"img_1675.jpg\"],[\"img_1676.jpg\"],[\"img_1677.jpg\"],[\"img_1680.jpg\"],[\"img_1681.jpg\"],[\"img_1684.jpg\"],[\"img_1685.jpg\"],[\"img_1686.jpg\"],[\"img_1687.jpg\"],[\"img_1688.jpg\"],[\"img_1690.jpg\"],[\"img_1691.jpg\"],[\"img_1692.jpg\"],[\"img_1696.jpg\"],[\"img_1700.jpg\"],[\"img_1707.jpg\"],[\"img_1708.jpg\"],[\"img_1709.jpg\"],[\"img_1711.jpg\"],[\"img_1712.jpg\"],[\"img_1713.jpg\"],[\"img_1714.jpg\"],[\"img_1715.jpg\"],[\"img_1818.jpg\"],[\"img_1820.jpg\"],[\"img_1822.jpg\"],[\"img_1824.jpg\"],[\"img_1827.jpg\"],[\"img_1829.jpg\"],[\"img_1831.jpg\"],[\"img_1832.jpg\"],[\"img_1834.jpg\"],[\"img_1835.jpg\"],[\"img_1837.jpg\"],[\"img_1838.jpg\"],[\"img_1841.jpg\"],[\"img_1845.jpg\"],[\"img_1847.jpg\"],[\"img_1848.jpg\"],[\"img_1850.jpg\"],[\"img_1853.jpg\"],[\"img_1854.jpg\"],[\"img_1856.jpg\"],[\"img_1857.jpg\"],[\"img_1860.jpg\"],[\"img_1861.jpg\"],[\"img_1862.jpg\"],[\"img_1863.jpg\"],[\"img_1864.jpg\"],[\"img_1865.jpg\"],[\"img_1874.jpg\"],[\"img_1878.jpg\"],[\"img_1881.jpg\"],[\"img_1882.jpg\"],[\"img_1883.jpg\"],[\"img_1885.jpg\"],[\"img_1886.jpg\"],[\"img_1887.jpg\"],[\"img_1890.jpg\"],[\"img_1893.jpg\"],[\"img_1896.jpg\"],[\"img_1899.jpg\"],[\"img_1901.jpg\"],[\"img_1902.jpg\"],[\"img_1903.jpg\"],[\"img_1907.jpg\"],[\"img_1909.jpg\"],[\"img_1910.jpg\"],[\"img_1912.jpg\"],[\"img_1916.jpg\"],[\"img_1918.jpg\"],[\"img_1921.jpg\"],[\"img_1922.jpg\"],[\"img_1924.jpg\"],[\"img_1925.jpg\"],[\"img_1926.jpg\"],[\"img_1927.jpg\"],[\"img_1929.jpg\"],[\"img_1930.jpg\"],[\"img_1932.jpg\"],[\"img_1933.jpg\"],[\"img_1937.jpg\"],[\"img_1938.jpg\"],[\"img_1939.jpg\"],[\"img_1945.jpg\"],[\"img_1948.jpg\"],[\"img_1950.jpg\"],[\"img_1951.jpg\"],[\"img_1958.jpg\"],[\"img_1959.jpg\"],[\"img_1963.jpg\"],[\"img_1964.jpg\"],[\"img_1965.jpg\"],[\"img_1966.jpg\"],[\"img_1967.jpg\"],[\"img_1968.jpg\"],[\"img_1970.jpg\"],[\"img_1971.jpg\"],[\"img_1973.jpg\"],[\"img_1976.jpg\"],[\"img_1977.jpg\"],[\"img_1979.jpg\"],[\"img_1980.jpg\"],[\"img_1983.jpg\"],[\"img_1984.jpg\"],[\"img_1985.jpg\"],[\"img_1991.jpg\"],[\"img_1992.jpg\"],[\"img_1994.jpg\"],[\"img_1996.jpg\"],[\"img_2001.jpg\"],[\"img_2002.jpg\"],[\"img_2003.jpg\"],[\"img_2005.jpg\"],[\"img_2007.jpg\"],[\"img_2008.jpg\"],[\"img_2010.jpg\"],[\"img_2012.jpg\"],[\"img_2014.jpg\"],[\"img_2016.jpg\"],[\"img_2018.jpg\"],[\"img_2021.jpg\"],[\"img_2025.jpg\"],[\"img_2026.jpg\"],[\"img_2027.jpg\"],[\"img_2030.jpg\"],[\"img_2254.jpg\"],[\"img_2255.jpg\"],[\"img_2256.jpg\"],[\"img_2260.jpg\"],[\"img_2261.jpg\"],[\"img_2264.jpg\"],[\"img_2266.jpg\"],[\"img_2268.jpg\"],[\"img_2269.jpg\"],[\"img_2270.jpg\"],[\"img_2271.jpg\"],[\"img_2272.jpg\"],[\"img_2275.jpg\"],[\"img_2277.jpg\"],[\"img_2278.jpg\"],[\"img_2280.jpg\"],[\"img_2282.jpg\"],[\"img_2285.jpg\"],[\"img_2287.jpg\"],[\"img_2289.jpg\"],[\"img_2290.jpg\"],[\"img_2291.jpg\"],[\"img_2294.jpg\"],[\"img_2295.jpg\"],[\"img_2296.jpg\"],[\"img_2297.jpg\"],[\"img_2300.jpg\"],[\"img_2301.jpg\"],[\"img_2302.jpg\"],[\"img_2304.jpg\"],[\"img_2305.jpg\"],[\"img_2306.jpg\"],[\"img_2308.jpg\"],[\"img_2309.jpg\"],[\"img_2310.jpg\"],[\"img_2313.jpg\"],[\"img_2316.jpg\"],[\"img_2319.jpg\"],[\"img_2320.jpg\"],[\"img_2321.jpg\"],[\"img_2322.jpg\"],[\"img_2327.jpg\"],[\"img_2330.jpg\"],[\"img_2331.jpg\"],[\"img_2332.jpg\"],[\"img_2333.jpg\"],[\"img_2336.jpg\"],[\"img_2341.jpg\"],[\"img_2342.jpg\"],[\"img_2344.jpg\"],[\"img_2345.jpg\"],[\"img_2347.jpg\"],[\"img_2350.jpg\"],[\"img_2352.jpg\"],[\"img_2359.jpg\"],[\"img_2361.jpg\"],[\"img_2369.jpg\"],[\"img_2372.jpg\"],[\"img_2373.jpg\"],[\"img_2374.jpg\"],[\"img_2376.jpg\"],[\"img_2378.jpg\"],[\"img_2383.jpg\"],[\"img_2384.jpg\"],[\"img_2385.jpg\"],[\"img_2390.jpg\"],[\"img_2397.jpg\"],[\"img_2398.jpg\"],[\"img_2404.jpg\"],[\"img_2405.jpg\"],[\"img_2406.jpg\"],[\"img_2408.jpg\"],[\"img_2409.jpg\"],[\"img_2410.jpg\"],[\"img_2411.jpg\"],[\"img_2418.jpg\"],[\"img_2420.jpg\"],[\"img_2422.jpg\"],[\"img_2423.jpg\"],[\"img_2426.jpg\"],[\"img_2427.jpg\"],[\"img_2429.jpg\"],[\"img_2430.jpg\"],[\"img_2432.jpg\"],[\"img_2434.jpg\"],[\"img_2436.jpg\"],[\"img_2437.jpg\"],[\"img_2440.jpg\"],[\"img_2442.jpg\"],[\"img_2443.jpg\"],[\"img_2445.jpg\"],[\"img_2449.jpg\"],[\"img_2450.jpg\"],[\"img_2451.jpg\"],[\"img_2452.jpg\"],[\"img_2453.jpg\"],[\"img_2454.jpg\"],[\"img_2455.jpg\"],[\"img_2458.jpg\"],[\"img_2459.jpg\"],[\"img_2460.jpg\"],[\"img_2462.jpg\"],[\"img_2463.jpg\"],[\"img_2468.jpg\"],[\"img_2469.jpg\"],[\"img_2470.jpg\"],[\"img_2474.jpg\"],[\"img_2476.jpg\"],[\"img_2477.jpg\"],[\"img_2480.jpg\"],[\"img_2484.jpg\"],[\"img_2485.jpg\"],[\"img_2487.jpg\"],[\"img_2490.jpg\"],[\"img_2492.jpg\"],[\"img_2494.jpg\"],[\"img_2495.jpg\"],[\"img_2502.jpg\"],[\"img_2503.jpg\"],[\"img_2504.jpg\"],[\"img_2505.jpg\"],[\"img_2507.jpg\"],[\"img_2510.jpg\"],[\"img_2511.jpg\"],[\"img_2512.jpg\"],[\"img_2514.jpg\"],[\"img_2516.jpg\"],[\"img_2519.jpg\"],[\"img_2520.jpg\"],[\"img_2527.jpg\"],[\"img_2528.jpg\"],[\"img_2533.jpg\"],[\"img_2535.jpg\"],[\"img_2536.jpg\"],[\"img_2538.jpg\"],[\"img_2539.jpg\"],[\"img_2544.jpg\"],[\"img_2547.jpg\"],[\"img_2548.jpg\"],[\"img_2549.jpg\"],[\"img_2550.jpg\"],[\"img_2553.jpg\"],[\"img_2554.jpg\"],[\"img_2561.jpg\"],[\"img_2562.jpg\"],[\"img_2563.jpg\"],[\"img_2568.jpg\"],[\"img_2570.jpg\"],[\"img_2574.jpg\"],[\"img_2575.jpg\"],[\"img_2577.jpg\"],[\"img_2578.jpg\"],[\"img_2581.jpg\"],[\"img_2583.jpg\"],[\"img_2584.jpg\"],[\"img_2586.jpg\"],[\"img_2588.jpg\"],[\"img_2590.jpg\"],[\"img_2593.jpg\"],[\"img_2597.jpg\"],[\"img_2600.jpg\"],[\"img_2601.jpg\"],[\"img_2604.jpg\"],[\"img_2608.jpg\"],[\"img_2613.jpg\"],[\"img_2614.jpg\"],[\"img_2615.jpg\"],[\"img_2620.jpg\"],[\"img_2621.jpg\"],[\"img_2623.jpg\"],[\"img_2624.jpg\"],[\"img_2625.jpg\"],[\"img_2627.jpg\"],[\"img_2629.jpg\"],[\"img_2630.jpg\"],[\"img_2631.jpg\"],[\"img_2634.jpg\"],[\"img_2635.jpg\"],[\"img_2636.jpg\"],[\"img_2638.jpg\"],[\"img_2639.jpg\"],[\"img_2642.jpg\"],[\"img_2643.jpg\"],[\"img_2645.jpg\"],[\"img_2646.jpg\"],[\"img_2648.jpg\"],[\"img_2650.jpg\"],[\"img_2651.jpg\"],[\"img_2654.jpg\"],[\"img_2656.jpg\"],[\"img_2657.jpg\"],[\"img_2658.jpg\"],[\"img_2659.jpg\"],[\"img_2660.jpg\"],[\"img_2664.jpg\"],[\"img_2665.jpg\"],[\"img_2666.jpg\"],[\"img_2667.jpg\"],[\"img_2669.jpg\"],[\"img_2671.jpg\"],[\"img_2672.heic\"],[\"img_2672.jpg\"],[\"img_2673.heic\"],[\"img_2673.jpg\"],[\"img_2674.jpg\"],[\"img_2675.heic\"],[\"img_2676.heic\"],[\"img_2678.heic\"],[\"img_2680.heic\"],[\"img_2681.heic\"],[\"img_2681.jpg\"],[\"img_2682.heic\"],[\"img_2682.jpg\"],[\"img_2683.heic\"],[\"img_2683.jpg\"],[\"img_2684.jpg\"],[\"img_2685.heic\"],[\"img_2686.jpg\"],[\"img_2687.heic\"],[\"img_2688.heic\"],[\"img_2688.jpg\"],[\"img_2690.heic\"],[\"img_2690.jpg\"],[\"img_2691.heic\"],[\"img_2691.jpg\"],[\"img_2694.heic\"],[\"img_2694.jpg\"],[\"img_2695.heic\"],[\"img_2696.heic\"],[\"img_2699.heic\"],[\"img_2700.heic\"],[\"img_2701.heic\"],[\"img_2704.jpg\"],[\"img_2705.heic\"],[\"img_2705.jpg\"],[\"img_2706.jpg\"],[\"img_2707.jpg\"],[\"img_2708.jpg\"],[\"img_2709.heic\"],[\"img_2709.jpg\"],[\"img_2710.heic\"],[\"img_2712.jpg\"],[\"img_2713.jpg\"],[\"img_2714.heic\"],[\"img_2716.jpg\"],[\"img_2721.heic\"],[\"img_2721.jpg\"],[\"img_2722.heic\"],[\"img_2723.heic\"],[\"img_2723.jpg\"],[\"img_2724.heic\"],[\"img_2725.jpg\"],[\"img_2726.heic\"],[\"img_2727.heic\"],[\"img_2728.jpg\"],[\"img_2729.heic\"],[\"img_2730.heic\"],[\"img_2730.jpg\"],[\"img_2732.jpg\"],[\"img_2734.heic\"],[\"img_2735.heic\"],[\"img_2735.jpg\"],[\"img_2737.heic\"],[\"img_2737.jpg\"],[\"img_2738.heic\"],[\"img_2739.jpg\"],[\"img_2740.heic\"],[\"img_2741.jpg\"],[\"img_2742.jpg\"],[\"img_2743.heic\"],[\"img_2743.jpg\"],[\"img_2744.heic\"],[\"img_2745.heic\"],[\"img_2745.jpg\"],[\"img_2746.heic\"],[\"img_2747.heic\"],[\"img_2747.jpg\"],[\"img_2748.heic\"],[\"img_2748.jpg\"],[\"img_2749.heic\"],[\"img_2750.jpg\"],[\"img_2751.heic\"],[\"img_2751.jpg\"],[\"img_2754.heic\"],[\"img_2755.jpg\"],[\"img_2756.heic\"],[\"img_2760.jpg\"],[\"img_2763.jpg\"],[\"img_2764.jpg\"],[\"img_2765.jpg\"],[\"img_2766.jpg\"],[\"img_2767.jpg\"],[\"img_2770.jpg\"],[\"img_2774.jpg\"],[\"img_2775.jpg\"],[\"img_2779.jpg\"],[\"img_2780.jpg\"],[\"img_2783.jpg\"],[\"img_2786.jpg\"],[\"img_2787.jpg\"],[\"img_2788.jpg\"],[\"img_2789.jpg\"],[\"img_2791.jpg\"],[\"img_2792.jpg\"],[\"img_2793.jpg\"],[\"img_2794.jpg\"],[\"img_2795.jpg\"],[\"img_2796.jpg\"],[\"img_2797.jpg\"],[\"img_2799.jpg\"],[\"img_2857.jpg\"],[\"img_2858.jpg\"],[\"img_2860.jpg\"],[\"img_2861.jpg\"],[\"img_2862.jpg\"],[\"img_2863.jpg\"],[\"img_2866.jpg\"],[\"img_2867.jpg\"],[\"img_2869.jpg\"],[\"img_2870.jpg\"],[\"img_2872.jpg\"],[\"img_2874.jpg\"],[\"img_2876.jpg\"],[\"img_2879.jpg\"],[\"img_2881.jpg\"],[\"img_2882.jpg\"],[\"img_2883.jpg\"],[\"img_2885.jpg\"],[\"img_2890.jpg\"],[\"img_2891.jpg\"],[\"img_2892.jpg\"],[\"img_2894.jpg\"],[\"img_2895.jpg\"],[\"img_2896.jpg\"],[\"img_2897.jpg\"],[\"img_2899.jpg\"],[\"img_2901.jpg\"],[\"img_2902.jpg\"],[\"img_2903.jpg\"],[\"img_2904.jpg\"],[\"img_2905.jpg\"],[\"img_2908.jpg\"],[\"img_2911.jpg\"],[\"img_2912.jpg\"],[\"img_2913.jpg\"],[\"img_2915.jpg\"],[\"img_2916.jpg\"],[\"img_2918.jpg\"],[\"img_2920.jpg\"],[\"img_2927.jpg\"],[\"img_2928.jpg\"],[\"img_2930.jpg\"],[\"img_2931.jpg\"],[\"img_2932.jpg\"],[\"img_2934.jpg\"],[\"img_2937.jpg\"],[\"img_2939.jpg\"],[\"img_2940.jpg\"],[\"img_2941.jpg\"],[\"img_2944.jpg\"],[\"img_2945.jpg\"]],\"hovertemplate\":\"distance=%{x}<br>f_eqv / x_size=%{y}<br>image_name=%{customdata[0]}<extra></extra>\",\"legendgroup\":\"\",\"marker\":{\"color\":\"#636efa\",\"symbol\":\"circle\"},\"mode\":\"markers\",\"name\":\"\",\"orientation\":\"v\",\"showlegend\":false,\"x\":[4.88,1.54,3.68,2.22,3.73,4.52,5.4,6.21,7.12,5.26,2.26,2.86,1.6,3.65,1.52,7.37,5.56,1.75,1.36,1.12,2.18,2.49,3.11,2.27,2.72,4.57,5.49,4.13,2.42,4.36,4.69,6.44,2.98,1.68,4.16,3.09,2.43,1.9,4.96,3.94,3.36,2.9,2.32,4.17,5.88,6.55,3.83,3.2,3.02,2.07,3.18,4.3,5.04,4.64,2.0,5.0,5.88,6.52,7.17,5.5,4.45,3.96,3.03,4.3,2.74,3.84,5.01,6.1,5.55,4.1,3.64,1.95,3.01,3.05,4.08,5.53,1.06,4.35,6.35,5.57,4.19,7.17,3.89,3.23,2.68,2.32,3.0,3.46,3.95,4.47,3.52,5.27,8.41,7.74,6.68,6.4,4.1,3.41,2.84,1.19,4.37,6.1,5.13,3.72,3.16,2.5,7.07,5.72,4.99,3.61,4.7,3.43,1.89,3.68,4.85,5.47,6.05,6.63,3.98,4.41,2.69,3.52,6.21,6.87,7.47,2.66,3.91,5.54,6.13,4.69,3.79,3.72,4.26,5.67,6.31,6.79,7.43,4.45,3.84,2.52,1.53,2.2,3.46,1.7,3.63,4.22,4.86,6.41,5.73,4.42,3.11,1.16,2.11,2.85,3.85,6.32,5.27,1.98,3.5,3.63,5.69,6.83,2.12,4.36,4.91,5.4,7.06,1.93,1.57,2.38,4.84,4.39,1.43,2.77,2.96,3.55,3.91,4.3,4.79,6.49,7.7,6.0,3.94,2.38,4.33,5.54,7.55,5.09,4.39,2.1,1.64,2.6,3.15,2.7,2.14,1.67,2.1,2.74,3.24,4.39,5.02,5.56,4.15,2.92,2.33,1.77,1.32,2.41,5.4,7.2,7.92,8.51,9.06,5.22,8.03,2.65,3.71,2.61,1.58,3.1,2.53,1.98,3.45,3.79,1.61,1.85,1.34,2.92,4.11,3.96,3.27,2.66,1.25,3.35,3.93,5.12,4.35,3.75,2.81,2.28,1.83,1.33,4.09,2.67,4.02,4.38,2.12,1.64,2.67,2.12,1.34,3.27,4.42,5.02,6.67,5.62,4.59,3.29,1.2,2.31,2.87,3.42,4.01,4.8,5.5,7.19,5.49,4.34,2.84,2.1,4.06,3.44,2.87,1.2,2.89,3.52,3.93,1.57,2.78,4.43,5.15,6.31,7.39,6.12,4.41,4.98,5.46,6.01,5.38,3.24,3.6,2.04,2.5,2.51,2.54,1.97,4.96,5.58,3.27,3.23,2.6,3.03,3.53,6.4,4.63,4.03,3.37,2.78,3.35,4.03,6.26,5.57,4.88,3.31,2.07,4.41,5.03,6.32,6.87,8.74,6.16,2.8,4.37,5.56,4.7,2.55,3.67,5.36,5.83,4.41,1.81,4.07,4.62,5.15,2.72,2.11,2.8,2.24,1.75,3.49,4.85,5.39,5.95,7.52,8.05,8.48,2.23,2.81,4.82,5.24,5.98,4.67,3.24,2.47,2.96,4.58,5.65,6.16,6.71,7.29,5.82,3.12,2.51,1.93,2.39,3.5,4.47,2.43,5.02,3.33,5.53,5.97,4.6,5.24,6.16,7.33,2.55,2.61,3.23,2.04,3.81,3.16,3.79,5.02,4.71,5.13,4.56,5.56,3.44,6.53,6.14,7.05,7.78,6.85,8.3,8.8,5.67,4.96,4.28,2.1,1.89,2.6,3.05,3.56,4.01,3.71,4.5,3.1,5.79,6.29,3.33,4.39,7.79,3.88,8.25,8.78,4.9,9.38,3.23,8.44,7.86,1.84,6.69,6.08,3.44,4.54,3.37,2.85,6.2,2.02,7.24,1.37,8.31,3.82,6.94,6.26,2.67,5.58,2.66,2.19,6.21,1.81,1.48,4.94,2.87,4.43,2.43,3.68,4.42,3.24,6.04,1.67,6.9,3.52,5.01,5.41,5.79,4.08,3.43,2.0,4.16,4.62,6.41,6.88,5.07,3.27,2.32,2.86,3.41,4.42,5.0,5.51,5.96,6.43,6.9,6.29,4.94,1.09,0.85,4.08,3.54,2.1,2.65,2.92,3.44,4.4,4.91,5.62,6.38,7.16,2.39,3.45,4.01,4.37,4.7,2.36,2.73,3.18,4.01,4.45,4.98,3.95,2.82,1.78,1.33,4.33,2.9,3.51,4.61,5.76,6.19,6.61,4.73,4.2,2.91,2.07,4.5,4.84,3.05,3.5,3.87,3.68,2.05,3.0,3.46,3.91,5.2,5.54],\"xaxis\":\"x\",\"y\":[0.47625224596725113,0.14994479248596393,0.3803525657220032,0.22252795101521666,0.37078778826351644,0.4541708586961307,0.5367403767403768,0.6258817078898109,0.6338257694818525,0.5309213311108996,0.3081548355360717,0.23941319084153934,0.3734896554384679,0.4641597466856551,0.5714477353856142,0.45371699777180374,0.5367326840114904,0.1710088823583303,0.12238490207738774,0.11139246626256273,0.20601131793678526,0.2452859848343077,0.3054936904498002,0.2212647063016235,0.26854760720978643,0.4458790747743103,0.5348557997482707,0.628060311781242,0.336454355760049,0.43329905086538745,0.4694824918333429,0.6183095195664252,0.30441052150244063,0.16610745909861785,0.39279544700807,0.29621683515887487,0.23531552061739683,0.19389298121503953,0.4761026073185084,0.37194730897801914,0.330021918035862,0.2913727678323326,0.23090447215341955,0.4182592740327084,0.5720445687800311,0.669164871294812,0.3790070265737506,0.3172914803199737,0.2547659772974654,0.20108696069068427,0.31303467283157477,0.43215155901233426,0.4917037742856384,0.47969638357558114,0.20591160090802693,0.493069779952112,0.48665497108592537,0.5532588462236555,0.5782885883832256,0.46346228304818954,0.38209400762602175,0.3682418385121088,0.2742530969914641,0.40913588647877563,0.2775517711204633,0.40968925373027626,0.5272344875935226,0.651164639252814,0.580609070497975,0.41864573827340756,0.2606213754613049,0.19141640428303552,0.19430279167951425,0.3014991094724528,0.40899308347791047,0.47383805602781354,0.10748701492229575,0.46834845994425783,0.6627199787352686,0.5764650000879615,0.4318031645033454,0.7294259065512099,0.3905083268355301,0.3274994074695953,0.26894697531971573,0.2358236545387438,0.31023797769677625,0.3599460809006184,0.39950396410706573,0.46168369144064814,0.36149758240926944,0.5486243491280648,0.9342190471923658,0.7391548133873848,0.6328556529800301,0.5974220131634123,0.4197212788382715,0.3462655564076398,0.2869165378284125,0.12343025649166328,0.4434048706181641,0.6257666033741461,0.5167662458208296,0.3788952742157418,0.32625055649034873,0.2550756355039272,0.7269822957802724,0.5905664263645726,0.5072356083925981,0.3589709882281504,0.48065244814738756,0.3472021869669008,0.19403980008594815,0.3812125956247372,0.5178173543401653,0.565835175244711,0.6378394612000645,0.6835781041388518,0.4233990279631342,0.4660181550739133,0.27961839189192483,0.3523998420641054,0.5940782794273045,0.6603693733895677,0.7458145153161589,0.26869556559071767,0.41415496505314703,0.5578413609445857,0.6308193258822494,0.4821933473900193,0.3858891773173017,0.35282373118602095,0.40738122724447207,0.5684039410820133,0.6217701974476021,0.6705430095739239,0.7648084611203916,0.43767530787401876,0.36106511185689316,0.24287576356630575,0.14690311961624433,0.22792434981602197,0.37606075311831905,0.176068187121575,0.36771820924617893,0.4481514261654817,0.4958141042961362,0.5777674784133158,0.5669078048189721,0.4368084887587171,0.3022710920059775,0.11398597463049759,0.21314540379204347,0.28197263817060025,0.3842910060799389,0.6117117453476775,0.48859957056678366,0.21318720333997251,0.355180620655589,0.3729873001935054,0.6250895901065271,0.7278912428123554,0.21824527283989265,0.45372742252298054,0.5091383696100933,0.5486820922906166,0.7520080782117776,0.19215483905557826,0.14833554501879287,0.23684808333298937,0.4973018443720311,0.45292288250219676,0.13895343906369265,0.29237116923739737,0.31239113173961774,0.38066409102375165,0.41468882428660275,0.4437677385404434,0.4883790251837468,0.6414102435041347,0.7534605656472776,0.606534012031467,0.40605211960495174,0.24453053540093772,0.4406272391450092,0.5619564205461396,0.7579345279596078,0.515335879577622,0.4571282803482032,0.21175931875420054,0.1741694951289703,0.26923930178263517,0.32680369922365315,0.2710339123242349,0.21433884405638057,0.17046170675735128,0.21674312685146252,0.2809462043184991,0.33158416671726193,0.4388358727510656,0.5160291742219383,0.5818403196144334,0.5287147016045197,0.28920572319082516,0.23681354376566222,0.17557788313893238,0.1306425778466182,0.23551783407706162,0.5630807224094717,0.7193018216484209,0.8609725428373027,0.885385746654363,0.9895085588072888,0.533294893643735,0.8473846176580331,0.27374843061529397,0.38267537091196047,0.2701595568637012,0.15942229435048078,0.3136469857886914,0.27060544570808365,0.1959438622748097,0.35828075968466744,0.38785517656528007,0.16316798101533256,0.18215677445535858,0.1330538754908289,0.29264533644976665,0.40204795984007546,0.39451134983781033,0.32951824104468497,0.26223690678983413,0.12154032180292726,0.3386563356326184,0.4059407342385072,0.5345999752948881,0.4503016394343745,0.39327825032876634,0.28847972633061675,0.23297618092381572,0.18016752069953784,0.13571990256019126,0.41725893680612597,0.26814994587340224,0.40704289836349505,0.443586659292121,0.21065353510677964,0.15879123275456844,0.27268588031237334,0.21033191721922015,0.12744491764385585,0.3403058325383626,0.4648122217471392,0.5082279953470338,0.6644920188881503,0.5791796705350019,0.48989983127229236,0.34132977781481394,0.12353721799975875,0.23549631369666268,0.28821439162055257,0.3454598304449127,0.41554074863132573,0.49452921024433677,0.565835175244711,0.7283789491065765,0.5600875136740116,0.44831522164021576,0.28404606138959404,0.2124890687298976,0.38530707685278354,0.35642462788265605,0.280160394561828,0.11622313325560668,0.2953961542968926,0.35801513373123894,0.3955467876998634,0.16463282464554305,0.2747215368769013,0.4489505124130002,0.4800730021724844,0.5805708616076966,0.6971258027359124,0.55965568058714,0.4333155127694101,0.49601352827075573,0.5562342830398692,0.5289951499860472,0.5388688677871175,0.334142799081084,0.2642346243478401,0.1971202310002707,0.2083353769412004,0.2560851711841662,0.2537648303115859,0.19285552735194436,0.4954403487020869,0.5560293315556633,0.32872251999197455,0.33199738890167374,0.26363299917936506,0.3033420043033053,0.363000463689034,0.6064939185616076,0.4698267562994916,0.40551587582207765,0.3440003599334123,0.2731450332774046,0.3363338704876467,0.3984505011551757,0.6250282709102551,0.5740614214887616,0.49543820846004977,0.32801832747490983,0.20453998767192152,0.44155009153401853,0.49767193608998084,0.5466005466577372,0.620075909125315,0.7674518201284797,0.562526976652933,0.2822429216552437,0.41232206189792187,0.5440478167026399,0.4700751707121134,0.26205804496125246,0.3753843837504071,0.5543750422954592,0.5824697370993832,0.45433135590702467,0.19178515139986874,0.41237765808265675,0.4672627232411136,0.5176654321739935,0.27704356102239047,0.20950507239824379,0.29183551172617045,0.22488416371397701,0.17774044545145296,0.353933797887902,0.49279316634476356,0.5616261930296219,0.5886960583521986,0.7469852052795951,0.7994061331390951,0.8388132512716994,0.23360828123106317,0.29764853813842457,0.49479270028905475,0.542596123367192,0.624008052559272,0.47859353059125215,0.3410227590349265,0.2619257784086176,0.3162812246631404,0.4962506869053131,0.596038811539521,0.6425764014757849,0.7316572143080405,0.8231747581177686,0.6249908039901146,0.3360643248121711,0.26551928110136047,0.2132615321106547,0.24816373163055438,0.36688478388481105,0.45535776323286226,0.24275212774288865,0.49764494286464434,0.324809151117197,0.5530170792628226,0.6000020926412272,0.4631519434628975,0.5178255372945638,0.6070541033370297,0.719990457715753,0.26869934270716556,0.2695531694613896,0.3251770656716587,0.21124037968306944,0.38642355711968146,0.3287512594611871,0.4024973591024107,0.5097572954701525,0.4771152102105859,0.5194202898550725,0.4650638465250378,0.5703997692300041,0.3523673606705205,0.7105295764874978,0.5868224868117418,0.7244085535894189,0.7502543085261226,0.7155343985325934,0.830010891866562,0.8520432232445665,0.5746784320210052,0.505965681614142,0.4277918483511319,0.21889111556446225,0.1962065054308867,0.27045325114341534,0.31370274990460745,0.3720187942670025,0.4095246767112484,0.3424314580238712,0.4651666480769816,0.31948742948673303,0.5741533855815851,0.6261475340472635,0.3426790625686289,0.4524502726031829,0.7134312667373723,0.402744709691466,0.7723279673258316,0.8480488030317035,0.49842785403705786,0.8568429467424233,0.3184110542118918,1.007670342222031,0.8277434953628523,0.17605413271603043,0.7219052235024565,0.6590790891458946,0.3431193923129624,0.4466043613707165,0.3884627695517646,0.3384984091566464,0.6009153521905316,0.24678362321428957,0.6174021177977917,0.19648331730065008,0.8134016085334543,0.12380299554715962,0.651962344808768,0.5913139421874718,0.2814833540520541,0.5181600907213887,0.2714072054675224,0.22501233577236648,0.6094703642590865,0.19068076998533584,0.15819830929419204,0.47926151737452544,0.3046044707441546,0.4456542224035594,0.35550375534318845,0.376966173031444,0.46415851842258626,0.3279278197380592,0.6240097501523462,0.17038269550748752,0.7080773718752122,0.36686776663873016,0.5102562448418463,0.5182607752582538,0.5856478289954093,0.42520108331958484,0.35547951362090824,0.20339764587371711,0.4392754070042458,0.4779771988939109,0.6488767938624656,0.7119962502987656,0.531451356918279,0.3369088972937241,0.23905086667611575,0.2949532513190059,0.35308714191154966,0.46553106334442146,0.5119302952053404,0.5691514438704363,0.6562863012366025,0.693936946176443,0.6886244982632478,0.670110080164536,0.5256866268196986,0.11026669160025056,0.09104813661745591,0.407673017007111,0.351459767895832,0.29909349801278906,0.26510468916863533,0.28802583713912955,0.33715650608165215,0.42965973906772437,0.48713336405666874,0.5760567377311451,0.6940230316306709,0.8367477966497403,0.24281637181256935,0.34653077935282306,0.4119762199831169,0.45429626225975633,0.48212544139902475,0.23604692206446382,0.27439847928577155,0.32591262240762947,0.4057913582518363,0.4597413634140671,0.5101654541370206,0.4077085236705427,0.27969647196828634,0.1790908665032246,0.1334600968414242,0.2949430111508867,0.3590282995241673,0.41132462539361464,0.5021530917171098,0.6035845198843243,0.7062612577938573,0.5662472443782849,0.4212165507312379,0.3572128255002515,0.2321229429063538,0.20845977186989076,0.45565355582042116,0.4822927070301412,0.30424407862362235,0.35182040863906106,0.3913691847271561,0.37240535059933716,0.20445170192208273,0.3049158535612683,0.34966333379573855,0.40676787864493463,0.5209361479849653,0.5722368719766691],\"yaxis\":\"y\",\"type\":\"scatter\"},{\"hovertemplate\":\"<b>OLS trendline</b><br>f_eqv / x_size = 0.097459 * distance + 0.0146376<br>R<sup>2</sup>=0.945886<br><br>distance=%{x}<br>f_eqv / x_size=%{y} <b>(trend)</b><extra></extra>\",\"legendgroup\":\"\",\"marker\":{\"color\":\"#636efa\",\"symbol\":\"circle\"},\"mode\":\"lines\",\"name\":\"\",\"showlegend\":false,\"x\":[0.85,1.06,1.09,1.12,1.16,1.19,1.2,1.2,1.25,1.32,1.33,1.33,1.34,1.34,1.36,1.37,1.43,1.48,1.52,1.53,1.54,1.57,1.57,1.58,1.6,1.61,1.64,1.64,1.67,1.67,1.68,1.7,1.75,1.75,1.77,1.78,1.81,1.81,1.83,1.84,1.85,1.89,1.89,1.9,1.93,1.93,1.95,1.97,1.98,1.98,2.0,2.0,2.02,2.04,2.04,2.05,2.07,2.07,2.07,2.1,2.1,2.1,2.1,2.1,2.11,2.11,2.12,2.12,2.12,2.14,2.18,2.19,2.2,2.22,2.23,2.24,2.26,2.27,2.28,2.31,2.32,2.32,2.32,2.33,2.36,2.38,2.38,2.39,2.39,2.41,2.42,2.43,2.43,2.43,2.47,2.49,2.5,2.5,2.51,2.51,2.52,2.53,2.54,2.55,2.55,2.6,2.6,2.6,2.61,2.61,2.65,2.65,2.66,2.66,2.66,2.67,2.67,2.67,2.68,2.69,2.7,2.72,2.72,2.73,2.74,2.74,2.77,2.78,2.78,2.8,2.8,2.81,2.81,2.82,2.84,2.84,2.85,2.85,2.86,2.86,2.87,2.87,2.87,2.89,2.9,2.9,2.91,2.92,2.92,2.92,2.96,2.96,2.98,3.0,3.0,3.01,3.02,3.03,3.03,3.05,3.05,3.05,3.09,3.1,3.1,3.11,3.11,3.12,3.15,3.16,3.16,3.18,3.18,3.2,3.23,3.23,3.23,3.23,3.24,3.24,3.24,3.24,3.27,3.27,3.27,3.27,3.29,3.31,3.33,3.33,3.35,3.35,3.36,3.37,3.37,3.41,3.41,3.42,3.43,3.43,3.44,3.44,3.44,3.44,3.45,3.45,3.46,3.46,3.46,3.49,3.5,3.5,3.5,3.51,3.52,3.52,3.52,3.52,3.53,3.54,3.55,3.56,3.6,3.61,3.63,3.63,3.64,3.65,3.67,3.68,3.68,3.68,3.68,3.71,3.71,3.72,3.72,3.73,3.75,3.79,3.79,3.79,3.81,3.82,3.83,3.84,3.84,3.85,3.87,3.88,3.89,3.91,3.91,3.91,3.93,3.93,3.94,3.94,3.95,3.95,3.96,3.96,3.98,4.01,4.01,4.01,4.01,4.02,4.03,4.03,4.06,4.07,4.08,4.08,4.08,4.09,4.1,4.1,4.11,4.13,4.15,4.16,4.16,4.17,4.19,4.2,4.22,4.26,4.28,4.3,4.3,4.3,4.33,4.33,4.34,4.35,4.35,4.36,4.36,4.37,4.37,4.37,4.38,4.39,4.39,4.39,4.39,4.4,4.41,4.41,4.41,4.41,4.42,4.42,4.42,4.42,4.43,4.43,4.45,4.45,4.45,4.47,4.47,4.5,4.5,4.52,4.54,4.56,4.57,4.58,4.59,4.6,4.61,4.62,4.62,4.63,4.64,4.67,4.69,4.69,4.7,4.7,4.7,4.71,4.73,4.79,4.8,4.82,4.84,4.84,4.85,4.85,4.86,4.88,4.88,4.9,4.91,4.91,4.94,4.94,4.96,4.96,4.96,4.98,4.98,4.99,5.0,5.0,5.01,5.01,5.02,5.02,5.02,5.02,5.03,5.04,5.07,5.09,5.12,5.13,5.13,5.15,5.15,5.2,5.22,5.24,5.24,5.26,5.27,5.27,5.36,5.38,5.39,5.4,5.4,5.4,5.41,5.46,5.47,5.49,5.49,5.5,5.5,5.51,5.53,5.53,5.54,5.54,5.54,5.55,5.56,5.56,5.56,5.56,5.57,5.57,5.58,5.58,5.62,5.62,5.65,5.67,5.67,5.69,5.72,5.73,5.76,5.79,5.79,5.82,5.83,5.88,5.88,5.95,5.96,5.97,5.98,6.0,6.01,6.04,6.05,6.08,6.1,6.1,6.12,6.13,6.14,6.16,6.16,6.16,6.19,6.2,6.21,6.21,6.21,6.26,6.26,6.29,6.29,6.31,6.31,6.32,6.32,6.35,6.38,6.4,6.4,6.41,6.41,6.43,6.44,6.49,6.52,6.53,6.55,6.61,6.63,6.67,6.68,6.69,6.71,6.79,6.83,6.85,6.87,6.87,6.88,6.9,6.9,6.94,7.05,7.06,7.07,7.12,7.16,7.17,7.17,7.19,7.2,7.24,7.29,7.33,7.37,7.39,7.43,7.47,7.52,7.55,7.7,7.74,7.78,7.79,7.86,7.92,8.03,8.05,8.25,8.3,8.31,8.41,8.44,8.48,8.51,8.74,8.78,8.8,9.06,9.38],\"xaxis\":\"x\",\"y\":[0.09747776683387596,0.11794415251237966,0.12086792189502304,0.12379169127766645,0.12769005045452428,0.13061381983716766,0.13158840963138213,0.13158840963138213,0.13646135860245442,0.14328348716195569,0.14425807695617013,0.14425807695617013,0.1452326667503846,0.1452326667503846,0.14718184633881354,0.14815643613302798,0.15400397489831474,0.15887692386938707,0.1627752830462449,0.16374987284045936,0.16472446263467383,0.1676482320173172,0.1676482320173172,0.16862282181153168,0.1705720013999606,0.17154659119417506,0.17447036057681842,0.17447036057681842,0.17739412995946183,0.17739412995946183,0.17836871975367627,0.1803178993421052,0.1851908483131775,0.1851908483131775,0.18714002790160644,0.1881146176958209,0.1910383870784643,0.1910383870784643,0.1929875666668932,0.19396215646110768,0.19493674625532215,0.19883510543217997,0.19883510543217997,0.19980969522639444,0.20273346460903782,0.20273346460903782,0.20468264419746673,0.20663182378589567,0.20760641358011014,0.20760641358011014,0.20955559316853906,0.20955559316853906,0.21150477275696797,0.2134539523453969,0.2134539523453969,0.21442854213961135,0.21637772172804026,0.21637772172804026,0.21637772172804026,0.21930149111068367,0.21930149111068367,0.21930149111068367,0.21930149111068367,0.21930149111068367,0.2202760809048981,0.2202760809048981,0.2212506706991126,0.2212506706991126,0.2212506706991126,0.22319985028754152,0.22709820946439938,0.22807279925861382,0.22904738905282832,0.23099656864125723,0.23197115843547167,0.23294574822968617,0.23489492781811502,0.23586951761232952,0.23684410740654396,0.23976787678918737,0.24074246658340182,0.24074246658340182,0.24074246658340182,0.24171705637761629,0.24464082576025967,0.24659000534868858,0.24659000534868858,0.24756459514290308,0.24756459514290308,0.249513774731332,0.2504883645255464,0.2514629543197609,0.2514629543197609,0.2514629543197609,0.2553613134966188,0.25731049308504766,0.2582850828792621,0.2582850828792621,0.25925967267347655,0.25925967267347655,0.26023426246769105,0.2612088522619055,0.26218344205612,0.26315803185033443,0.26315803185033443,0.26803098082140675,0.26803098082140675,0.26803098082140675,0.2690055706156212,0.2690055706156212,0.27290392979247907,0.27290392979247907,0.2738785195866935,0.2738785195866935,0.2738785195866935,0.27485310938090796,0.27485310938090796,0.27485310938090796,0.27582769917512245,0.2768022889693369,0.2777768787635514,0.27972605835198033,0.27972605835198033,0.2807006481461948,0.2816752379404092,0.2816752379404092,0.2845990073230526,0.28557359711726704,0.28557359711726704,0.287522776705696,0.287522776705696,0.2884973664999104,0.2884973664999104,0.28947195629412487,0.2914211358825538,0.2914211358825538,0.2923957256767683,0.2923957256767683,0.29337031547098275,0.29337031547098275,0.29434490526519724,0.29434490526519724,0.29434490526519724,0.2962940848536261,0.29726867464784057,0.29726867464784057,0.29824326444205507,0.2992178542362695,0.2992178542362695,0.2992178542362695,0.3031162134131274,0.3031162134131274,0.3050653930015563,0.3070145725899852,0.3070145725899852,0.30798916238419966,0.30896375217841415,0.3099383419726286,0.3099383419726286,0.3118875215610575,0.3118875215610575,0.3118875215610575,0.31578588073791536,0.31676047053212986,0.31676047053212986,0.3177350603263443,0.3177350603263443,0.31870965012055874,0.3216334195032021,0.3226080092974166,0.3226080092974166,0.32455718888584556,0.32455718888584556,0.32650636847427444,0.3294301378569178,0.3294301378569178,0.3294301378569178,0.3294301378569178,0.3304047276511323,0.3304047276511323,0.3304047276511323,0.3304047276511323,0.33332849703377565,0.33332849703377565,0.33332849703377565,0.33332849703377565,0.3352776766222046,0.33722685621063353,0.33917603579906247,0.33917603579906247,0.34112521538749135,0.34112521538749135,0.3420998051817058,0.3430743949759203,0.3430743949759203,0.3469727541527782,0.3469727541527782,0.3479473439469926,0.34892193374120706,0.34892193374120706,0.3498965235354215,0.3498965235354215,0.3498965235354215,0.3498965235354215,0.350871113329636,0.350871113329636,0.35184570312385044,0.35184570312385044,0.35184570312385044,0.3547694725064939,0.35574406230070826,0.35574406230070826,0.35574406230070826,0.3567186520949227,0.3576932418891372,0.3576932418891372,0.3576932418891372,0.3576932418891372,0.35866783168335165,0.35964242147756614,0.3606170112717806,0.3615916010659951,0.3654899602428529,0.36646455003706735,0.3684137296254963,0.3684137296254963,0.3693883194197108,0.37036290921392523,0.3723120888023541,0.3732866785965686,0.3732866785965686,0.3732866785965686,0.3732866785965686,0.376210447979212,0.376210447979212,0.3771850377734265,0.3771850377734265,0.37815962756764093,0.3801088071560698,0.3840071663329277,0.3840071663329277,0.3840071663329277,0.3859563459213566,0.386930935715571,0.3879055255097855,0.38888011530399996,0.38888011530399996,0.38985470509821446,0.3918038846866434,0.39277847448085784,0.3937530642750723,0.3957022438635012,0.3957022438635012,0.3957022438635012,0.39765142345193016,0.39765142345193016,0.3986260132461446,0.3986260132461446,0.3996006030403591,0.3996006030403591,0.40057519283457355,0.40057519283457355,0.40252437242300243,0.4054481418056458,0.4054481418056458,0.4054481418056458,0.4054481418056458,0.40642273159986025,0.40739732139407475,0.40739732139407475,0.4103210907767181,0.41129568057093263,0.4122702703651471,0.4122702703651471,0.4122702703651471,0.4132448601593615,0.41421944995357596,0.41421944995357596,0.41519403974779046,0.41714321933621934,0.41909239892464833,0.4200669887188628,0.4200669887188628,0.4210415785130772,0.42299075810150616,0.4239653478957206,0.4259145274841495,0.42981288666100737,0.4317620662494363,0.4337112458378652,0.4337112458378652,0.4337112458378652,0.4366350152205086,0.4366350152205086,0.43760960501472307,0.4385841948089375,0.4385841948089375,0.439558784603152,0.439558784603152,0.44053337439736645,0.44053337439736645,0.44053337439736645,0.4415079641915809,0.44248255398579533,0.44248255398579533,0.44248255398579533,0.44248255398579533,0.4434571437800099,0.44443173357422433,0.44443173357422433,0.44443173357422433,0.44443173357422433,0.4454063233684388,0.4454063233684388,0.4454063233684388,0.4454063233684388,0.4463809131626532,0.4463809131626532,0.44833009275108215,0.44833009275108215,0.44833009275108215,0.45027927233951104,0.45027927233951104,0.4532030417221545,0.4532030417221545,0.4551522213105833,0.4571014008990123,0.4590505804874412,0.4600251702816557,0.4609997600758701,0.46197434987008457,0.462948939664299,0.46392352945851356,0.464898119252728,0.464898119252728,0.46587270904694245,0.4668472988411569,0.46977106822380027,0.47172024781222927,0.47172024781222927,0.4726948376064437,0.4726948376064437,0.4726948376064437,0.47366942740065815,0.4756186069890871,0.48146614575437385,0.4824407355485883,0.48438991513701724,0.4863390947254461,0.4863390947254461,0.48731368451966056,0.48731368451966056,0.4882882743138751,0.490237453902304,0.490237453902304,0.49218663349073294,0.4931612232849474,0.4931612232849474,0.4960849926675908,0.4960849926675908,0.4980341722560197,0.4980341722560197,0.4980341722560197,0.49998335184444864,0.49998335184444864,0.500957941638663,0.5019325314328775,0.5019325314328775,0.5029071212270919,0.5029071212270919,0.5038817110213064,0.5038817110213064,0.5038817110213064,0.5038817110213064,0.5048563008155209,0.5058308906097353,0.5087546599923788,0.5107038395808077,0.513627608963451,0.5146021987576654,0.5146021987576654,0.5165513783460944,0.5165513783460944,0.5214243273171667,0.5233735069055956,0.5253226864940246,0.5253226864940246,0.5272718660824535,0.5282464558766679,0.5282464558766679,0.5370177640245981,0.538966943613027,0.5399415334072415,0.540916123201456,0.540916123201456,0.540916123201456,0.5418907129956704,0.5467636619667428,0.5477382517609571,0.5496874313493861,0.5496874313493861,0.5506620211436005,0.5506620211436005,0.551636610937815,0.5535857905262439,0.5535857905262439,0.5545603803204584,0.5545603803204584,0.5545603803204584,0.5555349701146728,0.5565095599088873,0.5565095599088873,0.5565095599088873,0.5565095599088873,0.5574841497031018,0.5574841497031018,0.5584587394973163,0.5584587394973163,0.562357098674174,0.562357098674174,0.5652808680568175,0.5672300476452464,0.5672300476452464,0.5691792272336753,0.5721029966163187,0.5730775864105332,0.5760013557931766,0.57892512517582,0.57892512517582,0.5818488945584633,0.5828234843526778,0.5876964333237501,0.5876964333237501,0.5945185618832514,0.5954931516774657,0.5964677414716802,0.5974423312658947,0.5993915108543236,0.600366100648538,0.6032898700311815,0.6042644598253959,0.6071882292080393,0.6091374087964682,0.6091374087964682,0.6110865883848972,0.6120611781791117,0.613035767973326,0.614984947561755,0.614984947561755,0.614984947561755,0.6179087169443984,0.6188833067386129,0.6198578965328273,0.6198578965328273,0.6198578965328273,0.6247308455038996,0.6247308455038996,0.6276546148865431,0.6276546148865431,0.629603794474972,0.629603794474972,0.6305783842691864,0.6305783842691864,0.6335021536518297,0.6364259230344732,0.6383751026229021,0.6383751026229021,0.6393496924171166,0.6393496924171166,0.6412988720055455,0.64227346179976,0.6471464107708322,0.6500701801534756,0.6510447699476901,0.652993949536119,0.6588414883014058,0.6607906678898346,0.6646890270666925,0.665663616860907,0.6666382066551215,0.6685873862435504,0.6763841045972661,0.6802824637741239,0.6822316433625528,0.6841808229509818,0.6841808229509818,0.6851554127451962,0.6871045923336252,0.6871045923336252,0.6910029515104831,0.7017234392468421,0.7026980290410565,0.703672618835271,0.7085455678063434,0.7124439269832011,0.7134185167774156,0.7134185167774156,0.7153676963658446,0.716342286160059,0.7202406453369169,0.7251135943079892,0.729011953484847,0.7329103126617049,0.7348594922501338,0.7387578514269916,0.7426562106038495,0.7475291595749217,0.7504529289575651,0.7650717758707821,0.76897013504764,0.7728684942244978,0.7738430840187123,0.7806652125782135,0.7865127513435003,0.7972332390798592,0.7991824186682883,0.8186742145525775,0.8235471635236499,0.8245217533178643,0.8342676512600089,0.8371914206426522,0.8410897798195102,0.8440135492021534,0.8664291144690861,0.8703274736459439,0.872276653234373,0.8976159878839489,0.9288028612988117],\"yaxis\":\"y\",\"type\":\"scatter\"}],                        {\"template\":{\"data\":{\"histogram2dcontour\":[{\"type\":\"histogram2dcontour\",\"colorbar\":{\"outlinewidth\":0,\"ticks\":\"\"},\"colorscale\":[[0.0,\"#0d0887\"],[0.1111111111111111,\"#46039f\"],[0.2222222222222222,\"#7201a8\"],[0.3333333333333333,\"#9c179e\"],[0.4444444444444444,\"#bd3786\"],[0.5555555555555556,\"#d8576b\"],[0.6666666666666666,\"#ed7953\"],[0.7777777777777778,\"#fb9f3a\"],[0.8888888888888888,\"#fdca26\"],[1.0,\"#f0f921\"]]}],\"choropleth\":[{\"type\":\"choropleth\",\"colorbar\":{\"outlinewidth\":0,\"ticks\":\"\"}}],\"histogram2d\":[{\"type\":\"histogram2d\",\"colorbar\":{\"outlinewidth\":0,\"ticks\":\"\"},\"colorscale\":[[0.0,\"#0d0887\"],[0.1111111111111111,\"#46039f\"],[0.2222222222222222,\"#7201a8\"],[0.3333333333333333,\"#9c179e\"],[0.4444444444444444,\"#bd3786\"],[0.5555555555555556,\"#d8576b\"],[0.6666666666666666,\"#ed7953\"],[0.7777777777777778,\"#fb9f3a\"],[0.8888888888888888,\"#fdca26\"],[1.0,\"#f0f921\"]]}],\"heatmap\":[{\"type\":\"heatmap\",\"colorbar\":{\"outlinewidth\":0,\"ticks\":\"\"},\"colorscale\":[[0.0,\"#0d0887\"],[0.1111111111111111,\"#46039f\"],[0.2222222222222222,\"#7201a8\"],[0.3333333333333333,\"#9c179e\"],[0.4444444444444444,\"#bd3786\"],[0.5555555555555556,\"#d8576b\"],[0.6666666666666666,\"#ed7953\"],[0.7777777777777778,\"#fb9f3a\"],[0.8888888888888888,\"#fdca26\"],[1.0,\"#f0f921\"]]}],\"heatmapgl\":[{\"type\":\"heatmapgl\",\"colorbar\":{\"outlinewidth\":0,\"ticks\":\"\"},\"colorscale\":[[0.0,\"#0d0887\"],[0.1111111111111111,\"#46039f\"],[0.2222222222222222,\"#7201a8\"],[0.3333333333333333,\"#9c179e\"],[0.4444444444444444,\"#bd3786\"],[0.5555555555555556,\"#d8576b\"],[0.6666666666666666,\"#ed7953\"],[0.7777777777777778,\"#fb9f3a\"],[0.8888888888888888,\"#fdca26\"],[1.0,\"#f0f921\"]]}],\"contourcarpet\":[{\"type\":\"contourcarpet\",\"colorbar\":{\"outlinewidth\":0,\"ticks\":\"\"}}],\"contour\":[{\"type\":\"contour\",\"colorbar\":{\"outlinewidth\":0,\"ticks\":\"\"},\"colorscale\":[[0.0,\"#0d0887\"],[0.1111111111111111,\"#46039f\"],[0.2222222222222222,\"#7201a8\"],[0.3333333333333333,\"#9c179e\"],[0.4444444444444444,\"#bd3786\"],[0.5555555555555556,\"#d8576b\"],[0.6666666666666666,\"#ed7953\"],[0.7777777777777778,\"#fb9f3a\"],[0.8888888888888888,\"#fdca26\"],[1.0,\"#f0f921\"]]}],\"surface\":[{\"type\":\"surface\",\"colorbar\":{\"outlinewidth\":0,\"ticks\":\"\"},\"colorscale\":[[0.0,\"#0d0887\"],[0.1111111111111111,\"#46039f\"],[0.2222222222222222,\"#7201a8\"],[0.3333333333333333,\"#9c179e\"],[0.4444444444444444,\"#bd3786\"],[0.5555555555555556,\"#d8576b\"],[0.6666666666666666,\"#ed7953\"],[0.7777777777777778,\"#fb9f3a\"],[0.8888888888888888,\"#fdca26\"],[1.0,\"#f0f921\"]]}],\"mesh3d\":[{\"type\":\"mesh3d\",\"colorbar\":{\"outlinewidth\":0,\"ticks\":\"\"}}],\"scatter\":[{\"fillpattern\":{\"fillmode\":\"overlay\",\"size\":10,\"solidity\":0.2},\"type\":\"scatter\"}],\"parcoords\":[{\"type\":\"parcoords\",\"line\":{\"colorbar\":{\"outlinewidth\":0,\"ticks\":\"\"}}}],\"scatterpolargl\":[{\"type\":\"scatterpolargl\",\"marker\":{\"colorbar\":{\"outlinewidth\":0,\"ticks\":\"\"}}}],\"bar\":[{\"error_x\":{\"color\":\"#2a3f5f\"},\"error_y\":{\"color\":\"#2a3f5f\"},\"marker\":{\"line\":{\"color\":\"#E5ECF6\",\"width\":0.5},\"pattern\":{\"fillmode\":\"overlay\",\"size\":10,\"solidity\":0.2}},\"type\":\"bar\"}],\"scattergeo\":[{\"type\":\"scattergeo\",\"marker\":{\"colorbar\":{\"outlinewidth\":0,\"ticks\":\"\"}}}],\"scatterpolar\":[{\"type\":\"scatterpolar\",\"marker\":{\"colorbar\":{\"outlinewidth\":0,\"ticks\":\"\"}}}],\"histogram\":[{\"marker\":{\"pattern\":{\"fillmode\":\"overlay\",\"size\":10,\"solidity\":0.2}},\"type\":\"histogram\"}],\"scattergl\":[{\"type\":\"scattergl\",\"marker\":{\"colorbar\":{\"outlinewidth\":0,\"ticks\":\"\"}}}],\"scatter3d\":[{\"type\":\"scatter3d\",\"line\":{\"colorbar\":{\"outlinewidth\":0,\"ticks\":\"\"}},\"marker\":{\"colorbar\":{\"outlinewidth\":0,\"ticks\":\"\"}}}],\"scattermapbox\":[{\"type\":\"scattermapbox\",\"marker\":{\"colorbar\":{\"outlinewidth\":0,\"ticks\":\"\"}}}],\"scatterternary\":[{\"type\":\"scatterternary\",\"marker\":{\"colorbar\":{\"outlinewidth\":0,\"ticks\":\"\"}}}],\"scattercarpet\":[{\"type\":\"scattercarpet\",\"marker\":{\"colorbar\":{\"outlinewidth\":0,\"ticks\":\"\"}}}],\"carpet\":[{\"aaxis\":{\"endlinecolor\":\"#2a3f5f\",\"gridcolor\":\"white\",\"linecolor\":\"white\",\"minorgridcolor\":\"white\",\"startlinecolor\":\"#2a3f5f\"},\"baxis\":{\"endlinecolor\":\"#2a3f5f\",\"gridcolor\":\"white\",\"linecolor\":\"white\",\"minorgridcolor\":\"white\",\"startlinecolor\":\"#2a3f5f\"},\"type\":\"carpet\"}],\"table\":[{\"cells\":{\"fill\":{\"color\":\"#EBF0F8\"},\"line\":{\"color\":\"white\"}},\"header\":{\"fill\":{\"color\":\"#C8D4E3\"},\"line\":{\"color\":\"white\"}},\"type\":\"table\"}],\"barpolar\":[{\"marker\":{\"line\":{\"color\":\"#E5ECF6\",\"width\":0.5},\"pattern\":{\"fillmode\":\"overlay\",\"size\":10,\"solidity\":0.2}},\"type\":\"barpolar\"}],\"pie\":[{\"automargin\":true,\"type\":\"pie\"}]},\"layout\":{\"autotypenumbers\":\"strict\",\"colorway\":[\"#636efa\",\"#EF553B\",\"#00cc96\",\"#ab63fa\",\"#FFA15A\",\"#19d3f3\",\"#FF6692\",\"#B6E880\",\"#FF97FF\",\"#FECB52\"],\"font\":{\"color\":\"#2a3f5f\"},\"hovermode\":\"closest\",\"hoverlabel\":{\"align\":\"left\"},\"paper_bgcolor\":\"white\",\"plot_bgcolor\":\"#E5ECF6\",\"polar\":{\"bgcolor\":\"#E5ECF6\",\"angularaxis\":{\"gridcolor\":\"white\",\"linecolor\":\"white\",\"ticks\":\"\"},\"radialaxis\":{\"gridcolor\":\"white\",\"linecolor\":\"white\",\"ticks\":\"\"}},\"ternary\":{\"bgcolor\":\"#E5ECF6\",\"aaxis\":{\"gridcolor\":\"white\",\"linecolor\":\"white\",\"ticks\":\"\"},\"baxis\":{\"gridcolor\":\"white\",\"linecolor\":\"white\",\"ticks\":\"\"},\"caxis\":{\"gridcolor\":\"white\",\"linecolor\":\"white\",\"ticks\":\"\"}},\"coloraxis\":{\"colorbar\":{\"outlinewidth\":0,\"ticks\":\"\"}},\"colorscale\":{\"sequential\":[[0.0,\"#0d0887\"],[0.1111111111111111,\"#46039f\"],[0.2222222222222222,\"#7201a8\"],[0.3333333333333333,\"#9c179e\"],[0.4444444444444444,\"#bd3786\"],[0.5555555555555556,\"#d8576b\"],[0.6666666666666666,\"#ed7953\"],[0.7777777777777778,\"#fb9f3a\"],[0.8888888888888888,\"#fdca26\"],[1.0,\"#f0f921\"]],\"sequentialminus\":[[0.0,\"#0d0887\"],[0.1111111111111111,\"#46039f\"],[0.2222222222222222,\"#7201a8\"],[0.3333333333333333,\"#9c179e\"],[0.4444444444444444,\"#bd3786\"],[0.5555555555555556,\"#d8576b\"],[0.6666666666666666,\"#ed7953\"],[0.7777777777777778,\"#fb9f3a\"],[0.8888888888888888,\"#fdca26\"],[1.0,\"#f0f921\"]],\"diverging\":[[0,\"#8e0152\"],[0.1,\"#c51b7d\"],[0.2,\"#de77ae\"],[0.3,\"#f1b6da\"],[0.4,\"#fde0ef\"],[0.5,\"#f7f7f7\"],[0.6,\"#e6f5d0\"],[0.7,\"#b8e186\"],[0.8,\"#7fbc41\"],[0.9,\"#4d9221\"],[1,\"#276419\"]]},\"xaxis\":{\"gridcolor\":\"white\",\"linecolor\":\"white\",\"ticks\":\"\",\"title\":{\"standoff\":15},\"zerolinecolor\":\"white\",\"automargin\":true,\"zerolinewidth\":2},\"yaxis\":{\"gridcolor\":\"white\",\"linecolor\":\"white\",\"ticks\":\"\",\"title\":{\"standoff\":15},\"zerolinecolor\":\"white\",\"automargin\":true,\"zerolinewidth\":2},\"scene\":{\"xaxis\":{\"backgroundcolor\":\"#E5ECF6\",\"gridcolor\":\"white\",\"linecolor\":\"white\",\"showbackground\":true,\"ticks\":\"\",\"zerolinecolor\":\"white\",\"gridwidth\":2},\"yaxis\":{\"backgroundcolor\":\"#E5ECF6\",\"gridcolor\":\"white\",\"linecolor\":\"white\",\"showbackground\":true,\"ticks\":\"\",\"zerolinecolor\":\"white\",\"gridwidth\":2},\"zaxis\":{\"backgroundcolor\":\"#E5ECF6\",\"gridcolor\":\"white\",\"linecolor\":\"white\",\"showbackground\":true,\"ticks\":\"\",\"zerolinecolor\":\"white\",\"gridwidth\":2}},\"shapedefaults\":{\"line\":{\"color\":\"#2a3f5f\"}},\"annotationdefaults\":{\"arrowcolor\":\"#2a3f5f\",\"arrowhead\":0,\"arrowwidth\":1},\"geo\":{\"bgcolor\":\"white\",\"landcolor\":\"#E5ECF6\",\"subunitcolor\":\"white\",\"showland\":true,\"showlakes\":true,\"lakecolor\":\"white\"},\"title\":{\"x\":0.05},\"mapbox\":{\"style\":\"light\"}}},\"xaxis\":{\"anchor\":\"y\",\"domain\":[0.0,1.0],\"title\":{\"text\":\"distance\"}},\"yaxis\":{\"anchor\":\"x\",\"domain\":[0.0,1.0],\"title\":{\"text\":\"f_eqv / x_size\"}},\"legend\":{\"tracegroupgap\":0},\"margin\":{\"t\":60}},                        {\"responsive\": true}                    ).then(function(){\n",
       "                            \n",
       "var gd = document.getElementById('8c056921-d1f4-4c3b-a811-92d91f4044b8');\n",
       "var x = new MutationObserver(function (mutations, observer) {{\n",
       "        var display = window.getComputedStyle(gd).display;\n",
       "        if (!display || display === 'none') {{\n",
       "            console.log([gd, 'removed!']);\n",
       "            Plotly.purge(gd);\n",
       "            observer.disconnect();\n",
       "        }}\n",
       "}});\n",
       "\n",
       "// Listen for the removal of the full notebook cells\n",
       "var notebookContainer = gd.closest('#notebook-container');\n",
       "if (notebookContainer) {{\n",
       "    x.observe(notebookContainer, {childList: true});\n",
       "}}\n",
       "\n",
       "// Listen for the clearing of the current output cell\n",
       "var outputEl = gd.closest('.output');\n",
       "if (outputEl) {{\n",
       "    x.observe(outputEl, {childList: true});\n",
       "}}\n",
       "\n",
       "                        })                };                });            </script>        </div>"
      ]
     },
     "metadata": {},
     "output_type": "display_data"
    }
   ],
   "source": [
    "plot_train_df = train_data_df.copy()\n",
    "plot_train_df['f_eqv / x_size'] = plot_train_df['equvivalent_focus_value'] / plot_train_df['x_size']\n",
    "\n",
    "f = 'f_eqv / x_size'\n",
    "\n",
    "fig = px.scatter(plot_train_df, x='distance', y=f, hover_data=['image_name'], trendline=\"ols\")\n",
    "fig.show()"
   ]
  },
  {
   "cell_type": "markdown",
   "metadata": {
    "id": "NKDbR9xo45wd"
   },
   "source": [
    "## Crossvalidation"
   ]
  },
  {
   "cell_type": "code",
   "execution_count": 265,
   "metadata": {
    "id": "ZXZwePSw2t8Z"
   },
   "outputs": [],
   "source": [
    "from sklearn.model_selection import cross_val_predict\n",
    "from sklearn.metrics import r2_score\n",
    "from sklearn.linear_model import LinearRegression\n",
    "from catboost import CatBoostRegressor"
   ]
  },
  {
   "cell_type": "code",
   "execution_count": 266,
   "metadata": {
    "id": "OcGhcpTL2uFB"
   },
   "outputs": [],
   "source": [
    "def get_X(data_df):\n",
    "    data_df = data_df.copy()\n",
    "    data_df['X'] = data_df['equvivalent_focus_value'] / data_df['x_size']\n",
    "    return data_df[['X']]"
   ]
  },
  {
   "cell_type": "code",
   "execution_count": 267,
   "metadata": {
    "colab": {
     "base_uri": "https://localhost:8080/"
    },
    "id": "tGoq5XhZ2uH6",
    "outputId": "de2b3389-7524-4e9f-a363-c14ad1929c76"
   },
   "outputs": [
    {
     "name": "stdout",
     "output_type": "stream",
     "text": [
      "0.945391\n"
     ]
    }
   ],
   "source": [
    "X = get_X(train_data_df)\n",
    "y = train_data_df[['distance']].values[:, 0]\n",
    "\n",
    "distance_model = LinearRegression(fit_intercept=False)\n",
    "\n",
    "y_pred = cross_val_predict(distance_model, X, y)\n",
    "\n",
    "score_val = r2_score(y, y_pred)\n",
    "print(f'{score_val:.6f}')"
   ]
  },
  {
   "cell_type": "code",
   "execution_count": 268,
   "metadata": {
    "colab": {
     "base_uri": "https://localhost:8080/",
     "height": 265
    },
    "id": "R92JRypD2Gzk",
    "outputId": "6a2d5922-2ad9-446c-931b-f7efcee73097",
    "scrolled": false
   },
   "outputs": [
    {
     "data": {
      "image/png": "[encoded data removed]",
      "text/plain": [
       "<Figure size 432x288 with 1 Axes>"
      ]
     },
     "metadata": {
      "needs_background": "light"
     },
     "output_type": "display_data"
    }
   ],
   "source": [
    "plt.hist(y - y_pred, bins=75);"
   ]
  },
  {
   "cell_type": "code",
   "execution_count": 272,
   "metadata": {
    "scrolled": true
   },
   "outputs": [
    {
     "data": {
      "image/png": "[encoded data removed]",
      "text/plain": [
       "<Figure size 432x288 with 1 Axes>"
      ]
     },
     "metadata": {
      "needs_background": "light"
     },
     "output_type": "display_data"
    }
   ],
   "source": [
    "plt.scatter(y, (y - y_pred), s=3);"
   ]
  },
  {
   "cell_type": "markdown",
   "metadata": {
    "id": "1vH_Xo5H52Ra"
   },
   "source": [
    "## Predict on test"
   ]
  },
  {
   "cell_type": "code",
   "execution_count": 273,
   "metadata": {
    "id": "NoIjwTcz-WD6"
   },
   "outputs": [],
   "source": [
    "def make_test_prediction(distance_model):\n",
    "    # 1) Fit\n",
    "    X_train = get_X(train_data_df)\n",
    "    y_train = train_data_df[['distance']].values[:, 0]\n",
    "    distance_model.fit(X_train, y_train)\n",
    "    \n",
    "    # 2) Predict\n",
    "    X_test = get_X(test_data_df)\n",
    "    preds = distance_model.predict(X_test)\n",
    "    test_data_df_copy = test_data_df.copy()\n",
    "    test_data_df_copy['distance'] = preds\n",
    "    solution_df = test_data_df_copy[['image_name', 'distance']]\n",
    "\n",
    "    # 3) Fill lost test items\n",
    "    lost_test_items = []\n",
    "    fill_value = np.mean(preds)\n",
    "\n",
    "    for file_name in set(test_img_names) - set(solution_df['image_name'].values):\n",
    "        lost_test_items.append([file_name, fill_value])\n",
    "    \n",
    "    print(f'Lost: {len(lost_test_items)} items')\n",
    "    \n",
    "    lost_test_items_df = pd.DataFrame(lost_test_items, columns=['image_name', 'distance'])\n",
    "    solution_df = pd.concat([solution_df, lost_test_items_df])\n",
    "    \n",
    "    # 4) Save\n",
    "    solution_df.to_csv('se_solution.csv', sep=';', index=False)"
   ]
  },
  {
   "cell_type": "code",
   "execution_count": 274,
   "metadata": {
    "colab": {
     "base_uri": "https://localhost:8080/"
    },
    "id": "5M1H5Fy-57wJ",
    "outputId": "2d3a1b5e-bee8-484e-e01a-4abe451fa497",
    "scrolled": true
   },
   "outputs": [
    {
     "name": "stdout",
     "output_type": "stream",
     "text": [
      "Lost: 1 items\n"
     ]
    }
   ],
   "source": [
    "distance_model = LinearRegression(fit_intercept=False)\n",
    "\n",
    "make_test_prediction(distance_model)"
   ]
  }
 ],
 "metadata": {
  "colab": {
   "collapsed_sections": [],
   "name": "Seva top 1.ipynb",
   "provenance": []
  },
  "kernelspec": {
   "display_name": "Python 3",
   "language": "python",
   "name": "python3"
  },
  "language_info": {
   "codemirror_mode": {
    "name": "ipython",
    "version": 3
   },
   "file_extension": ".py",
   "mimetype": "text/x-python",
   "name": "python",
   "nbconvert_exporter": "python",
   "pygments_lexer": "ipython3",
   "version": "3.8.8"
  },
  "widgets": {
   "application/vnd.jupyter.widget-state+json": {
    "0330ff72e1e94000bf67743d57aede6a": {
     "model_module": "@jupyter-widgets/base",
     "model_module_version": "1.2.0",
     "model_name": "LayoutModel",
     "state": {
      "_model_module": "@jupyter-widgets/base",
      "_model_module_version": "1.2.0",
      "_model_name": "LayoutModel",
      "_view_count": null,
      "_view_module": "@jupyter-widgets/base",
      "_view_module_version": "1.2.0",
      "_view_name": "LayoutView",
      "align_content": null,
      "align_items": null,
      "align_self": null,
      "border": null,
      "bottom": null,
      "display": null,
      "flex": null,
      "flex_flow": null,
      "grid_area": null,
      "grid_auto_columns": null,
      "grid_auto_flow": null,
      "grid_auto_rows": null,
      "grid_column": null,
      "grid_gap": null,
      "grid_row": null,
      "grid_template_areas": null,
      "grid_template_columns": null,
      "grid_template_rows": null,
      "height": null,
      "justify_content": null,
      "justify_items": null,
      "left": null,
      "margin": null,
      "max_height": null,
      "max_width": null,
      "min_height": null,
      "min_width": null,
      "object_fit": null,
      "object_position": null,
      "order": null,
      "overflow": null,
      "overflow_x": null,
      "overflow_y": null,
      "padding": null,
      "right": null,
      "top": null,
      "visibility": null,
      "width": null
     }
    },
    "08585264b70f4a6b8ba3f5efac720df4": {
     "model_module": "@jupyter-widgets/controls",
     "model_module_version": "1.5.0",
     "model_name": "ProgressStyleModel",
     "state": {
      "_model_module": "@jupyter-widgets/controls",
      "_model_module_version": "1.5.0",
      "_model_name": "ProgressStyleModel",
      "_view_count": null,
      "_view_module": "@jupyter-widgets/base",
      "_view_module_version": "1.2.0",
      "_view_name": "StyleView",
      "bar_color": null,
      "description_width": ""
     }
    },
    "0d76d244f179486aa942c9d0539c5f40": {
     "model_module": "@jupyter-widgets/controls",
     "model_module_version": "1.5.0",
     "model_name": "DescriptionStyleModel",
     "state": {
      "_model_module": "@jupyter-widgets/controls",
      "_model_module_version": "1.5.0",
      "_model_name": "DescriptionStyleModel",
      "_view_count": null,
      "_view_module": "@jupyter-widgets/base",
      "_view_module_version": "1.2.0",
      "_view_name": "StyleView",
      "description_width": ""
     }
    },
    "117ebb22c2384c5b88bcf3d2ea825972": {
     "model_module": "@jupyter-widgets/controls",
     "model_module_version": "1.5.0",
     "model_name": "FloatProgressModel",
     "state": {
      "_dom_classes": [],
      "_model_module": "@jupyter-widgets/controls",
      "_model_module_version": "1.5.0",
      "_model_name": "FloatProgressModel",
      "_view_count": null,
      "_view_module": "@jupyter-widgets/controls",
      "_view_module_version": "1.5.0",
      "_view_name": "ProgressView",
      "bar_style": "success",
      "description": "",
      "description_tooltip": null,
      "layout": "IPY_MODEL_fdbac243d5d749d397f0e69959353521",
      "max": 521,
      "min": 0,
      "orientation": "horizontal",
      "style": "IPY_MODEL_2ddb73f3cb444b37b2e6dc1a7d3c016c",
      "value": 521
     }
    },
    "1bed1911b3d840ad8af7954c393f26d0": {
     "model_module": "@jupyter-widgets/base",
     "model_module_version": "1.2.0",
     "model_name": "LayoutModel",
     "state": {
      "_model_module": "@jupyter-widgets/base",
      "_model_module_version": "1.2.0",
      "_model_name": "LayoutModel",
      "_view_count": null,
      "_view_module": "@jupyter-widgets/base",
      "_view_module_version": "1.2.0",
      "_view_name": "LayoutView",
      "align_content": null,
      "align_items": null,
      "align_self": null,
      "border": null,
      "bottom": null,
      "display": null,
      "flex": null,
      "flex_flow": null,
      "grid_area": null,
      "grid_auto_columns": null,
      "grid_auto_flow": null,
      "grid_auto_rows": null,
      "grid_column": null,
      "grid_gap": null,
      "grid_row": null,
      "grid_template_areas": null,
      "grid_template_columns": null,
      "grid_template_rows": null,
      "height": null,
      "justify_content": null,
      "justify_items": null,
      "left": null,
      "margin": null,
      "max_height": null,
      "max_width": null,
      "min_height": null,
      "min_width": null,
      "object_fit": null,
      "object_position": null,
      "order": null,
      "overflow": null,
      "overflow_x": null,
      "overflow_y": null,
      "padding": null,
      "right": null,
      "top": null,
      "visibility": null,
      "width": null
     }
    },
    "27aa38022b4a4387bb07afca7355d849": {
     "model_module": "@jupyter-widgets/base",
     "model_module_version": "1.2.0",
     "model_name": "LayoutModel",
     "state": {
      "_model_module": "@jupyter-widgets/base",
      "_model_module_version": "1.2.0",
      "_model_name": "LayoutModel",
      "_view_count": null,
      "_view_module": "@jupyter-widgets/base",
      "_view_module_version": "1.2.0",
      "_view_name": "LayoutView",
      "align_content": null,
      "align_items": null,
      "align_self": null,
      "border": null,
      "bottom": null,
      "display": null,
      "flex": null,
      "flex_flow": null,
      "grid_area": null,
      "grid_auto_columns": null,
      "grid_auto_flow": null,
      "grid_auto_rows": null,
      "grid_column": null,
      "grid_gap": null,
      "grid_row": null,
      "grid_template_areas": null,
      "grid_template_columns": null,
      "grid_template_rows": null,
      "height": null,
      "justify_content": null,
      "justify_items": null,
      "left": null,
      "margin": null,
      "max_height": null,
      "max_width": null,
      "min_height": null,
      "min_width": null,
      "object_fit": null,
      "object_position": null,
      "order": null,
      "overflow": null,
      "overflow_x": null,
      "overflow_y": null,
      "padding": null,
      "right": null,
      "top": null,
      "visibility": null,
      "width": null
     }
    },
    "2a38c71fc2904b168e158ed8d76dc963": {
     "model_module": "@jupyter-widgets/controls",
     "model_module_version": "1.5.0",
     "model_name": "ProgressStyleModel",
     "state": {
      "_model_module": "@jupyter-widgets/controls",
      "_model_module_version": "1.5.0",
      "_model_name": "ProgressStyleModel",
      "_view_count": null,
      "_view_module": "@jupyter-widgets/base",
      "_view_module_version": "1.2.0",
      "_view_name": "StyleView",
      "bar_color": null,
      "description_width": ""
     }
    },
    "2ddb73f3cb444b37b2e6dc1a7d3c016c": {
     "model_module": "@jupyter-widgets/controls",
     "model_module_version": "1.5.0",
     "model_name": "ProgressStyleModel",
     "state": {
      "_model_module": "@jupyter-widgets/controls",
      "_model_module_version": "1.5.0",
      "_model_name": "ProgressStyleModel",
      "_view_count": null,
      "_view_module": "@jupyter-widgets/base",
      "_view_module_version": "1.2.0",
      "_view_name": "StyleView",
      "bar_color": null,
      "description_width": ""
     }
    },
    "381e6fa4f5264cd5b486a3f3de36f5aa": {
     "model_module": "@jupyter-widgets/controls",
     "model_module_version": "1.5.0",
     "model_name": "DescriptionStyleModel",
     "state": {
      "_model_module": "@jupyter-widgets/controls",
      "_model_module_version": "1.5.0",
      "_model_name": "DescriptionStyleModel",
      "_view_count": null,
      "_view_module": "@jupyter-widgets/base",
      "_view_module_version": "1.2.0",
      "_view_name": "StyleView",
      "description_width": ""
     }
    },
    "3cba9f1de3b349fa8a03350eebf6a56d": {
     "model_module": "@jupyter-widgets/base",
     "model_module_version": "1.2.0",
     "model_name": "LayoutModel",
     "state": {
      "_model_module": "@jupyter-widgets/base",
      "_model_module_version": "1.2.0",
      "_model_name": "LayoutModel",
      "_view_count": null,
      "_view_module": "@jupyter-widgets/base",
      "_view_module_version": "1.2.0",
      "_view_name": "LayoutView",
      "align_content": null,
      "align_items": null,
      "align_self": null,
      "border": null,
      "bottom": null,
      "display": null,
      "flex": null,
      "flex_flow": null,
      "grid_area": null,
      "grid_auto_columns": null,
      "grid_auto_flow": null,
      "grid_auto_rows": null,
      "grid_column": null,
      "grid_gap": null,
      "grid_row": null,
      "grid_template_areas": null,
      "grid_template_columns": null,
      "grid_template_rows": null,
      "height": null,
      "justify_content": null,
      "justify_items": null,
      "left": null,
      "margin": null,
      "max_height": null,
      "max_width": null,
      "min_height": null,
      "min_width": null,
      "object_fit": null,
      "object_position": null,
      "order": null,
      "overflow": null,
      "overflow_x": null,
      "overflow_y": null,
      "padding": null,
      "right": null,
      "top": null,
      "visibility": null,
      "width": null
     }
    },
    "5357162d4ed3412db7c7f5adf4ae256b": {
     "model_module": "@jupyter-widgets/controls",
     "model_module_version": "1.5.0",
     "model_name": "HTMLModel",
     "state": {
      "_dom_classes": [],
      "_model_module": "@jupyter-widgets/controls",
      "_model_module_version": "1.5.0",
      "_model_name": "HTMLModel",
      "_view_count": null,
      "_view_module": "@jupyter-widgets/controls",
      "_view_module_version": "1.5.0",
      "_view_name": "HTMLView",
      "description": "",
      "description_tooltip": null,
      "layout": "IPY_MODEL_3cba9f1de3b349fa8a03350eebf6a56d",
      "placeholder": "​",
      "style": "IPY_MODEL_f0449f3b1d9944618675fef3a49093f9",
      "value": "100%"
     }
    },
    "5be552cabde84aee86f59ea8308930eb": {
     "model_module": "@jupyter-widgets/base",
     "model_module_version": "1.2.0",
     "model_name": "LayoutModel",
     "state": {
      "_model_module": "@jupyter-widgets/base",
      "_model_module_version": "1.2.0",
      "_model_name": "LayoutModel",
      "_view_count": null,
      "_view_module": "@jupyter-widgets/base",
      "_view_module_version": "1.2.0",
      "_view_name": "LayoutView",
      "align_content": null,
      "align_items": null,
      "align_self": null,
      "border": null,
      "bottom": null,
      "display": null,
      "flex": null,
      "flex_flow": null,
      "grid_area": null,
      "grid_auto_columns": null,
      "grid_auto_flow": null,
      "grid_auto_rows": null,
      "grid_column": null,
      "grid_gap": null,
      "grid_row": null,
      "grid_template_areas": null,
      "grid_template_columns": null,
      "grid_template_rows": null,
      "height": null,
      "justify_content": null,
      "justify_items": null,
      "left": null,
      "margin": null,
      "max_height": null,
      "max_width": null,
      "min_height": null,
      "min_width": null,
      "object_fit": null,
      "object_position": null,
      "order": null,
      "overflow": null,
      "overflow_x": null,
      "overflow_y": null,
      "padding": null,
      "right": null,
      "top": null,
      "visibility": null,
      "width": null
     }
    },
    "5eebbbd38183442fb047a10f886d74dd": {
     "model_module": "@jupyter-widgets/base",
     "model_module_version": "1.2.0",
     "model_name": "LayoutModel",
     "state": {
      "_model_module": "@jupyter-widgets/base",
      "_model_module_version": "1.2.0",
      "_model_name": "LayoutModel",
      "_view_count": null,
      "_view_module": "@jupyter-widgets/base",
      "_view_module_version": "1.2.0",
      "_view_name": "LayoutView",
      "align_content": null,
      "align_items": null,
      "align_self": null,
      "border": null,
      "bottom": null,
      "display": null,
      "flex": null,
      "flex_flow": null,
      "grid_area": null,
      "grid_auto_columns": null,
      "grid_auto_flow": null,
      "grid_auto_rows": null,
      "grid_column": null,
      "grid_gap": null,
      "grid_row": null,
      "grid_template_areas": null,
      "grid_template_columns": null,
      "grid_template_rows": null,
      "height": null,
      "justify_content": null,
      "justify_items": null,
      "left": null,
      "margin": null,
      "max_height": null,
      "max_width": null,
      "min_height": null,
      "min_width": null,
      "object_fit": null,
      "object_position": null,
      "order": null,
      "overflow": null,
      "overflow_x": null,
      "overflow_y": null,
      "padding": null,
      "right": null,
      "top": null,
      "visibility": null,
      "width": null
     }
    },
    "6d59232d02ea474dab6dae11decde3e5": {
     "model_module": "@jupyter-widgets/base",
     "model_module_version": "1.2.0",
     "model_name": "LayoutModel",
     "state": {
      "_model_module": "@jupyter-widgets/base",
      "_model_module_version": "1.2.0",
      "_model_name": "LayoutModel",
      "_view_count": null,
      "_view_module": "@jupyter-widgets/base",
      "_view_module_version": "1.2.0",
      "_view_name": "LayoutView",
      "align_content": null,
      "align_items": null,
      "align_self": null,
      "border": null,
      "bottom": null,
      "display": null,
      "flex": null,
      "flex_flow": null,
      "grid_area": null,
      "grid_auto_columns": null,
      "grid_auto_flow": null,
      "grid_auto_rows": null,
      "grid_column": null,
      "grid_gap": null,
      "grid_row": null,
      "grid_template_areas": null,
      "grid_template_columns": null,
      "grid_template_rows": null,
      "height": null,
      "justify_content": null,
      "justify_items": null,
      "left": null,
      "margin": null,
      "max_height": null,
      "max_width": null,
      "min_height": null,
      "min_width": null,
      "object_fit": null,
      "object_position": null,
      "order": null,
      "overflow": null,
      "overflow_x": null,
      "overflow_y": null,
      "padding": null,
      "right": null,
      "top": null,
      "visibility": null,
      "width": null
     }
    },
    "79b777c60b464e24bd13935ecea7bc71": {
     "model_module": "@jupyter-widgets/controls",
     "model_module_version": "1.5.0",
     "model_name": "HTMLModel",
     "state": {
      "_dom_classes": [],
      "_model_module": "@jupyter-widgets/controls",
      "_model_module_version": "1.5.0",
      "_model_name": "HTMLModel",
      "_view_count": null,
      "_view_module": "@jupyter-widgets/controls",
      "_view_module_version": "1.5.0",
      "_view_name": "HTMLView",
      "description": "",
      "description_tooltip": null,
      "layout": "IPY_MODEL_a92118a552ea44118eadf3f3156d7091",
      "placeholder": "​",
      "style": "IPY_MODEL_ee02e6cd080d40679b611a93c720feb2",
      "value": " 10%"
     }
    },
    "818814584f164df98e6b4345ace2eaa5": {
     "model_module": "@jupyter-widgets/controls",
     "model_module_version": "1.5.0",
     "model_name": "HBoxModel",
     "state": {
      "_dom_classes": [],
      "_model_module": "@jupyter-widgets/controls",
      "_model_module_version": "1.5.0",
      "_model_name": "HBoxModel",
      "_view_count": null,
      "_view_module": "@jupyter-widgets/controls",
      "_view_module_version": "1.5.0",
      "_view_name": "HBoxView",
      "box_style": "",
      "children": [
       "IPY_MODEL_ec9047e9633a4547b9855db65e839180",
       "IPY_MODEL_d32f5fd0926b4aa2a1f46050632ee0b0",
       "IPY_MODEL_e09b4f384f1348e7bb4b6f8b7d7baa25"
      ],
      "layout": "IPY_MODEL_5be552cabde84aee86f59ea8308930eb"
     }
    },
    "86b2dfcf08844066ad255c1ead99fed6": {
     "model_module": "@jupyter-widgets/base",
     "model_module_version": "1.2.0",
     "model_name": "LayoutModel",
     "state": {
      "_model_module": "@jupyter-widgets/base",
      "_model_module_version": "1.2.0",
      "_model_name": "LayoutModel",
      "_view_count": null,
      "_view_module": "@jupyter-widgets/base",
      "_view_module_version": "1.2.0",
      "_view_name": "LayoutView",
      "align_content": null,
      "align_items": null,
      "align_self": null,
      "border": null,
      "bottom": null,
      "display": null,
      "flex": null,
      "flex_flow": null,
      "grid_area": null,
      "grid_auto_columns": null,
      "grid_auto_flow": null,
      "grid_auto_rows": null,
      "grid_column": null,
      "grid_gap": null,
      "grid_row": null,
      "grid_template_areas": null,
      "grid_template_columns": null,
      "grid_template_rows": null,
      "height": null,
      "justify_content": null,
      "justify_items": null,
      "left": null,
      "margin": null,
      "max_height": null,
      "max_width": null,
      "min_height": null,
      "min_width": null,
      "object_fit": null,
      "object_position": null,
      "order": null,
      "overflow": null,
      "overflow_x": null,
      "overflow_y": null,
      "padding": null,
      "right": null,
      "top": null,
      "visibility": null,
      "width": null
     }
    },
    "881ace1c11444eccb29252765d20b50c": {
     "model_module": "@jupyter-widgets/controls",
     "model_module_version": "1.5.0",
     "model_name": "DescriptionStyleModel",
     "state": {
      "_model_module": "@jupyter-widgets/controls",
      "_model_module_version": "1.5.0",
      "_model_name": "DescriptionStyleModel",
      "_view_count": null,
      "_view_module": "@jupyter-widgets/base",
      "_view_module_version": "1.2.0",
      "_view_name": "StyleView",
      "description_width": ""
     }
    },
    "9d88b9ec151d47c582c8319d09b9c998": {
     "model_module": "@jupyter-widgets/base",
     "model_module_version": "1.2.0",
     "model_name": "LayoutModel",
     "state": {
      "_model_module": "@jupyter-widgets/base",
      "_model_module_version": "1.2.0",
      "_model_name": "LayoutModel",
      "_view_count": null,
      "_view_module": "@jupyter-widgets/base",
      "_view_module_version": "1.2.0",
      "_view_name": "LayoutView",
      "align_content": null,
      "align_items": null,
      "align_self": null,
      "border": null,
      "bottom": null,
      "display": null,
      "flex": null,
      "flex_flow": null,
      "grid_area": null,
      "grid_auto_columns": null,
      "grid_auto_flow": null,
      "grid_auto_rows": null,
      "grid_column": null,
      "grid_gap": null,
      "grid_row": null,
      "grid_template_areas": null,
      "grid_template_columns": null,
      "grid_template_rows": null,
      "height": null,
      "justify_content": null,
      "justify_items": null,
      "left": null,
      "margin": null,
      "max_height": null,
      "max_width": null,
      "min_height": null,
      "min_width": null,
      "object_fit": null,
      "object_position": null,
      "order": null,
      "overflow": null,
      "overflow_x": null,
      "overflow_y": null,
      "padding": null,
      "right": null,
      "top": null,
      "visibility": null,
      "width": null
     }
    },
    "9f793bb34ebe4f2d9ec8508d884e6bde": {
     "model_module": "@jupyter-widgets/controls",
     "model_module_version": "1.5.0",
     "model_name": "DescriptionStyleModel",
     "state": {
      "_model_module": "@jupyter-widgets/controls",
      "_model_module_version": "1.5.0",
      "_model_name": "DescriptionStyleModel",
      "_view_count": null,
      "_view_module": "@jupyter-widgets/base",
      "_view_module_version": "1.2.0",
      "_view_name": "StyleView",
      "description_width": ""
     }
    },
    "a92118a552ea44118eadf3f3156d7091": {
     "model_module": "@jupyter-widgets/base",
     "model_module_version": "1.2.0",
     "model_name": "LayoutModel",
     "state": {
      "_model_module": "@jupyter-widgets/base",
      "_model_module_version": "1.2.0",
      "_model_name": "LayoutModel",
      "_view_count": null,
      "_view_module": "@jupyter-widgets/base",
      "_view_module_version": "1.2.0",
      "_view_name": "LayoutView",
      "align_content": null,
      "align_items": null,
      "align_self": null,
      "border": null,
      "bottom": null,
      "display": null,
      "flex": null,
      "flex_flow": null,
      "grid_area": null,
      "grid_auto_columns": null,
      "grid_auto_flow": null,
      "grid_auto_rows": null,
      "grid_column": null,
      "grid_gap": null,
      "grid_row": null,
      "grid_template_areas": null,
      "grid_template_columns": null,
      "grid_template_rows": null,
      "height": null,
      "justify_content": null,
      "justify_items": null,
      "left": null,
      "margin": null,
      "max_height": null,
      "max_width": null,
      "min_height": null,
      "min_width": null,
      "object_fit": null,
      "object_position": null,
      "order": null,
      "overflow": null,
      "overflow_x": null,
      "overflow_y": null,
      "padding": null,
      "right": null,
      "top": null,
      "visibility": null,
      "width": null
     }
    },
    "a94e3aacc82548e08a4a5f2eaacc2beb": {
     "model_module": "@jupyter-widgets/controls",
     "model_module_version": "1.5.0",
     "model_name": "HTMLModel",
     "state": {
      "_dom_classes": [],
      "_model_module": "@jupyter-widgets/controls",
      "_model_module_version": "1.5.0",
      "_model_name": "HTMLModel",
      "_view_count": null,
      "_view_module": "@jupyter-widgets/controls",
      "_view_module_version": "1.5.0",
      "_view_name": "HTMLView",
      "description": "",
      "description_tooltip": null,
      "layout": "IPY_MODEL_b2e43879e4c94388a207dc4d46be7e49",
      "placeholder": "​",
      "style": "IPY_MODEL_0d76d244f179486aa942c9d0539c5f40",
      "value": " 33/328 [01:21&lt;10:52,  2.21s/it]"
     }
    },
    "b2e43879e4c94388a207dc4d46be7e49": {
     "model_module": "@jupyter-widgets/base",
     "model_module_version": "1.2.0",
     "model_name": "LayoutModel",
     "state": {
      "_model_module": "@jupyter-widgets/base",
      "_model_module_version": "1.2.0",
      "_model_name": "LayoutModel",
      "_view_count": null,
      "_view_module": "@jupyter-widgets/base",
      "_view_module_version": "1.2.0",
      "_view_name": "LayoutView",
      "align_content": null,
      "align_items": null,
      "align_self": null,
      "border": null,
      "bottom": null,
      "display": null,
      "flex": null,
      "flex_flow": null,
      "grid_area": null,
      "grid_auto_columns": null,
      "grid_auto_flow": null,
      "grid_auto_rows": null,
      "grid_column": null,
      "grid_gap": null,
      "grid_row": null,
      "grid_template_areas": null,
      "grid_template_columns": null,
      "grid_template_rows": null,
      "height": null,
      "justify_content": null,
      "justify_items": null,
      "left": null,
      "margin": null,
      "max_height": null,
      "max_width": null,
      "min_height": null,
      "min_width": null,
      "object_fit": null,
      "object_position": null,
      "order": null,
      "overflow": null,
      "overflow_x": null,
      "overflow_y": null,
      "padding": null,
      "right": null,
      "top": null,
      "visibility": null,
      "width": null
     }
    },
    "c3beaebab37e47308b0240a42e40deab": {
     "model_module": "@jupyter-widgets/controls",
     "model_module_version": "1.5.0",
     "model_name": "HBoxModel",
     "state": {
      "_dom_classes": [],
      "_model_module": "@jupyter-widgets/controls",
      "_model_module_version": "1.5.0",
      "_model_name": "HBoxModel",
      "_view_count": null,
      "_view_module": "@jupyter-widgets/controls",
      "_view_module_version": "1.5.0",
      "_view_name": "HBoxView",
      "box_style": "",
      "children": [
       "IPY_MODEL_79b777c60b464e24bd13935ecea7bc71",
       "IPY_MODEL_d223874bb4954650bdbddfc63d0d7655",
       "IPY_MODEL_a94e3aacc82548e08a4a5f2eaacc2beb"
      ],
      "layout": "IPY_MODEL_0330ff72e1e94000bf67743d57aede6a"
     }
    },
    "d223874bb4954650bdbddfc63d0d7655": {
     "model_module": "@jupyter-widgets/controls",
     "model_module_version": "1.5.0",
     "model_name": "FloatProgressModel",
     "state": {
      "_dom_classes": [],
      "_model_module": "@jupyter-widgets/controls",
      "_model_module_version": "1.5.0",
      "_model_name": "FloatProgressModel",
      "_view_count": null,
      "_view_module": "@jupyter-widgets/controls",
      "_view_module_version": "1.5.0",
      "_view_name": "ProgressView",
      "bar_style": "",
      "description": "",
      "description_tooltip": null,
      "layout": "IPY_MODEL_9d88b9ec151d47c582c8319d09b9c998",
      "max": 328,
      "min": 0,
      "orientation": "horizontal",
      "style": "IPY_MODEL_08585264b70f4a6b8ba3f5efac720df4",
      "value": 33
     }
    },
    "d32f5fd0926b4aa2a1f46050632ee0b0": {
     "model_module": "@jupyter-widgets/controls",
     "model_module_version": "1.5.0",
     "model_name": "FloatProgressModel",
     "state": {
      "_dom_classes": [],
      "_model_module": "@jupyter-widgets/controls",
      "_model_module_version": "1.5.0",
      "_model_name": "FloatProgressModel",
      "_view_count": null,
      "_view_module": "@jupyter-widgets/controls",
      "_view_module_version": "1.5.0",
      "_view_name": "ProgressView",
      "bar_style": "success",
      "description": "",
      "description_tooltip": null,
      "layout": "IPY_MODEL_27aa38022b4a4387bb07afca7355d849",
      "max": 530,
      "min": 0,
      "orientation": "horizontal",
      "style": "IPY_MODEL_2a38c71fc2904b168e158ed8d76dc963",
      "value": 530
     }
    },
    "e09b4f384f1348e7bb4b6f8b7d7baa25": {
     "model_module": "@jupyter-widgets/controls",
     "model_module_version": "1.5.0",
     "model_name": "HTMLModel",
     "state": {
      "_dom_classes": [],
      "_model_module": "@jupyter-widgets/controls",
      "_model_module_version": "1.5.0",
      "_model_name": "HTMLModel",
      "_view_count": null,
      "_view_module": "@jupyter-widgets/controls",
      "_view_module_version": "1.5.0",
      "_view_name": "HTMLView",
      "description": "",
      "description_tooltip": null,
      "layout": "IPY_MODEL_86b2dfcf08844066ad255c1ead99fed6",
      "placeholder": "​",
      "style": "IPY_MODEL_881ace1c11444eccb29252765d20b50c",
      "value": " 530/530 [03:09&lt;00:00,  3.75it/s]"
     }
    },
    "ec9047e9633a4547b9855db65e839180": {
     "model_module": "@jupyter-widgets/controls",
     "model_module_version": "1.5.0",
     "model_name": "HTMLModel",
     "state": {
      "_dom_classes": [],
      "_model_module": "@jupyter-widgets/controls",
      "_model_module_version": "1.5.0",
      "_model_name": "HTMLModel",
      "_view_count": null,
      "_view_module": "@jupyter-widgets/controls",
      "_view_module_version": "1.5.0",
      "_view_name": "HTMLView",
      "description": "",
      "description_tooltip": null,
      "layout": "IPY_MODEL_6d59232d02ea474dab6dae11decde3e5",
      "placeholder": "​",
      "style": "IPY_MODEL_381e6fa4f5264cd5b486a3f3de36f5aa",
      "value": "100%"
     }
    },
    "ee02e6cd080d40679b611a93c720feb2": {
     "model_module": "@jupyter-widgets/controls",
     "model_module_version": "1.5.0",
     "model_name": "DescriptionStyleModel",
     "state": {
      "_model_module": "@jupyter-widgets/controls",
      "_model_module_version": "1.5.0",
      "_model_name": "DescriptionStyleModel",
      "_view_count": null,
      "_view_module": "@jupyter-widgets/base",
      "_view_module_version": "1.2.0",
      "_view_name": "StyleView",
      "description_width": ""
     }
    },
    "f0449f3b1d9944618675fef3a49093f9": {
     "model_module": "@jupyter-widgets/controls",
     "model_module_version": "1.5.0",
     "model_name": "DescriptionStyleModel",
     "state": {
      "_model_module": "@jupyter-widgets/controls",
      "_model_module_version": "1.5.0",
      "_model_name": "DescriptionStyleModel",
      "_view_count": null,
      "_view_module": "@jupyter-widgets/base",
      "_view_module_version": "1.2.0",
      "_view_name": "StyleView",
      "description_width": ""
     }
    },
    "f0e561336c6744e5a7c1cb15ebf9d819": {
     "model_module": "@jupyter-widgets/controls",
     "model_module_version": "1.5.0",
     "model_name": "HTMLModel",
     "state": {
      "_dom_classes": [],
      "_model_module": "@jupyter-widgets/controls",
      "_model_module_version": "1.5.0",
      "_model_name": "HTMLModel",
      "_view_count": null,
      "_view_module": "@jupyter-widgets/controls",
      "_view_module_version": "1.5.0",
      "_view_name": "HTMLView",
      "description": "",
      "description_tooltip": null,
      "layout": "IPY_MODEL_5eebbbd38183442fb047a10f886d74dd",
      "placeholder": "​",
      "style": "IPY_MODEL_9f793bb34ebe4f2d9ec8508d884e6bde",
      "value": " 521/521 [06:27&lt;00:00,  1.12it/s]"
     }
    },
    "fa5c1f6c70154aa3a2baf7edd033df4c": {
     "model_module": "@jupyter-widgets/controls",
     "model_module_version": "1.5.0",
     "model_name": "HBoxModel",
     "state": {
      "_dom_classes": [],
      "_model_module": "@jupyter-widgets/controls",
      "_model_module_version": "1.5.0",
      "_model_name": "HBoxModel",
      "_view_count": null,
      "_view_module": "@jupyter-widgets/controls",
      "_view_module_version": "1.5.0",
      "_view_name": "HBoxView",
      "box_style": "",
      "children": [
       "IPY_MODEL_5357162d4ed3412db7c7f5adf4ae256b",
       "IPY_MODEL_117ebb22c2384c5b88bcf3d2ea825972",
       "IPY_MODEL_f0e561336c6744e5a7c1cb15ebf9d819"
      ],
      "layout": "IPY_MODEL_1bed1911b3d840ad8af7954c393f26d0"
     }
    },
    "fdbac243d5d749d397f0e69959353521": {
     "model_module": "@jupyter-widgets/base",
     "model_module_version": "1.2.0",
     "model_name": "LayoutModel",
     "state": {
      "_model_module": "@jupyter-widgets/base",
      "_model_module_version": "1.2.0",
      "_model_name": "LayoutModel",
      "_view_count": null,
      "_view_module": "@jupyter-widgets/base",
      "_view_module_version": "1.2.0",
      "_view_name": "LayoutView",
      "align_content": null,
      "align_items": null,
      "align_self": null,
      "border": null,
      "bottom": null,
      "display": null,
      "flex": null,
      "flex_flow": null,
      "grid_area": null,
      "grid_auto_columns": null,
      "grid_auto_flow": null,
      "grid_auto_rows": null,
      "grid_column": null,
      "grid_gap": null,
      "grid_row": null,
      "grid_template_areas": null,
      "grid_template_columns": null,
      "grid_template_rows": null,
      "height": null,
      "justify_content": null,
      "justify_items": null,
      "left": null,
      "margin": null,
      "max_height": null,
      "max_width": null,
      "min_height": null,
      "min_width": null,
      "object_fit": null,
      "object_position": null,
      "order": null,
      "overflow": null,
      "overflow_x": null,
      "overflow_y": null,
      "padding": null,
      "right": null,
      "top": null,
      "visibility": null,
      "width": null
     }
    }
   }
  }
 },
 "nbformat": 4,
 "nbformat_minor": 1
}
